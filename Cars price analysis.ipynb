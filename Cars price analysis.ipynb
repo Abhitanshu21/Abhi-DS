{
 "cells": [
  {
   "cell_type": "code",
   "execution_count": 1,
   "metadata": {},
   "outputs": [],
   "source": [
    "import pandas as pd\n",
    "import numpy as nm\n",
    "import matplotlib.pyplot as plt\n",
    "import seaborn as sns\n",
    "import os"
   ]
  },
  {
   "cell_type": "code",
   "execution_count": 2,
   "metadata": {},
   "outputs": [],
   "source": [
    "car = pd.read_csv('C:/Users/Abhitanshu kumar/Desktop/USA_cars_datasets.csv')"
   ]
  },
  {
   "cell_type": "code",
   "execution_count": 3,
   "metadata": {},
   "outputs": [
    {
     "data": {
      "text/html": [
       "<div>\n",
       "<style scoped>\n",
       "    .dataframe tbody tr th:only-of-type {\n",
       "        vertical-align: middle;\n",
       "    }\n",
       "\n",
       "    .dataframe tbody tr th {\n",
       "        vertical-align: top;\n",
       "    }\n",
       "\n",
       "    .dataframe thead th {\n",
       "        text-align: right;\n",
       "    }\n",
       "</style>\n",
       "<table border=\"1\" class=\"dataframe\">\n",
       "  <thead>\n",
       "    <tr style=\"text-align: right;\">\n",
       "      <th></th>\n",
       "      <th>Unnamed: 0</th>\n",
       "      <th>price</th>\n",
       "      <th>brand</th>\n",
       "      <th>model</th>\n",
       "      <th>year</th>\n",
       "      <th>title_status</th>\n",
       "      <th>mileage</th>\n",
       "      <th>color</th>\n",
       "      <th>vin</th>\n",
       "      <th>lot</th>\n",
       "      <th>state</th>\n",
       "      <th>country</th>\n",
       "      <th>condition</th>\n",
       "    </tr>\n",
       "  </thead>\n",
       "  <tbody>\n",
       "    <tr>\n",
       "      <th>0</th>\n",
       "      <td>0</td>\n",
       "      <td>6300</td>\n",
       "      <td>toyota</td>\n",
       "      <td>cruiser</td>\n",
       "      <td>2008</td>\n",
       "      <td>clean vehicle</td>\n",
       "      <td>274117.0</td>\n",
       "      <td>black</td>\n",
       "      <td>jtezu11f88k007763</td>\n",
       "      <td>159348797</td>\n",
       "      <td>new jersey</td>\n",
       "      <td>usa</td>\n",
       "      <td>10 days left</td>\n",
       "    </tr>\n",
       "    <tr>\n",
       "      <th>1</th>\n",
       "      <td>1</td>\n",
       "      <td>2899</td>\n",
       "      <td>ford</td>\n",
       "      <td>se</td>\n",
       "      <td>2011</td>\n",
       "      <td>clean vehicle</td>\n",
       "      <td>190552.0</td>\n",
       "      <td>silver</td>\n",
       "      <td>2fmdk3gc4bbb02217</td>\n",
       "      <td>166951262</td>\n",
       "      <td>tennessee</td>\n",
       "      <td>usa</td>\n",
       "      <td>6 days left</td>\n",
       "    </tr>\n",
       "    <tr>\n",
       "      <th>2</th>\n",
       "      <td>2</td>\n",
       "      <td>5350</td>\n",
       "      <td>dodge</td>\n",
       "      <td>mpv</td>\n",
       "      <td>2018</td>\n",
       "      <td>clean vehicle</td>\n",
       "      <td>39590.0</td>\n",
       "      <td>silver</td>\n",
       "      <td>3c4pdcgg5jt346413</td>\n",
       "      <td>167655728</td>\n",
       "      <td>georgia</td>\n",
       "      <td>usa</td>\n",
       "      <td>2 days left</td>\n",
       "    </tr>\n",
       "    <tr>\n",
       "      <th>3</th>\n",
       "      <td>3</td>\n",
       "      <td>25000</td>\n",
       "      <td>ford</td>\n",
       "      <td>door</td>\n",
       "      <td>2014</td>\n",
       "      <td>clean vehicle</td>\n",
       "      <td>64146.0</td>\n",
       "      <td>blue</td>\n",
       "      <td>1ftfw1et4efc23745</td>\n",
       "      <td>167753855</td>\n",
       "      <td>virginia</td>\n",
       "      <td>usa</td>\n",
       "      <td>22 hours left</td>\n",
       "    </tr>\n",
       "    <tr>\n",
       "      <th>4</th>\n",
       "      <td>4</td>\n",
       "      <td>27700</td>\n",
       "      <td>chevrolet</td>\n",
       "      <td>1500</td>\n",
       "      <td>2018</td>\n",
       "      <td>clean vehicle</td>\n",
       "      <td>6654.0</td>\n",
       "      <td>red</td>\n",
       "      <td>3gcpcrec2jg473991</td>\n",
       "      <td>167763266</td>\n",
       "      <td>florida</td>\n",
       "      <td>usa</td>\n",
       "      <td>22 hours left</td>\n",
       "    </tr>\n",
       "  </tbody>\n",
       "</table>\n",
       "</div>"
      ],
      "text/plain": [
       "   Unnamed: 0  price      brand    model  year   title_status   mileage  \\\n",
       "0           0   6300     toyota  cruiser  2008  clean vehicle  274117.0   \n",
       "1           1   2899       ford       se  2011  clean vehicle  190552.0   \n",
       "2           2   5350      dodge      mpv  2018  clean vehicle   39590.0   \n",
       "3           3  25000       ford     door  2014  clean vehicle   64146.0   \n",
       "4           4  27700  chevrolet     1500  2018  clean vehicle    6654.0   \n",
       "\n",
       "    color                  vin        lot       state country      condition  \n",
       "0   black    jtezu11f88k007763  159348797  new jersey     usa   10 days left  \n",
       "1  silver    2fmdk3gc4bbb02217  166951262   tennessee     usa    6 days left  \n",
       "2  silver    3c4pdcgg5jt346413  167655728     georgia     usa    2 days left  \n",
       "3    blue    1ftfw1et4efc23745  167753855    virginia     usa  22 hours left  \n",
       "4     red    3gcpcrec2jg473991  167763266     florida     usa  22 hours left  "
      ]
     },
     "execution_count": 3,
     "metadata": {},
     "output_type": "execute_result"
    }
   ],
   "source": [
    "car.head()"
   ]
  },
  {
   "cell_type": "code",
   "execution_count": 4,
   "metadata": {},
   "outputs": [
    {
     "data": {
      "text/plain": [
       "(2499, 13)"
      ]
     },
     "execution_count": 4,
     "metadata": {},
     "output_type": "execute_result"
    }
   ],
   "source": [
    "car.shape"
   ]
  },
  {
   "cell_type": "code",
   "execution_count": 5,
   "metadata": {},
   "outputs": [
    {
     "data": {
      "text/plain": [
       "array([ 6300,  2899,  5350, 25000, 27700,  5700,  7300, 13350, 14600,\n",
       "        5250, 10400, 12920, 31900,  5430, 20700, 12710,  5200, 16500,\n",
       "        5210, 38100, 12520, 15000,  6180, 20800, 11900, 21500, 12000,\n",
       "        4190, 13000, 18500, 29800,  5330, 16600, 19200,  7320,  7000,\n",
       "       30500,  6330, 55000, 16200, 19000,  5580, 54000, 16000, 27000,\n",
       "        7760, 19600, 20000, 18100, 23000, 13490, 17800,  6650, 29100,\n",
       "       21100, 18600,  4340, 19300, 12780, 15800, 29400,  4430, 19400,\n",
       "       15900, 26400,  4140, 18300, 17900,  4640, 24000, 13200, 18000,\n",
       "       14900, 11500,  9110,  7350, 24500,  9300, 39800, 53500, 15110,\n",
       "       34000, 26502,  5990, 13600, 23605, 10780, 13800, 25201,  7070,\n",
       "        8700, 18003,  8530, 23100, 17000, 34002,  6980, 20802,  9200,\n",
       "       26500, 24802, 28500, 47500, 23500, 23505, 10940, 32100, 53000,\n",
       "        6830, 26414,  4160, 19405,  5690, 25900, 24005,  5090, 19500,\n",
       "       32012,  6800,  4260,     0, 31802,  7210, 28402, 33300,  6700,\n",
       "        6440, 19900, 37000,  4040, 22300, 31200,  4290, 22800, 19002,\n",
       "       39000,  6060, 28800, 40000,  6140, 21000, 20105,  6760, 25800,\n",
       "        5470, 24502,  7900, 27305, 15290, 25502,  3800,  1400, 18402,\n",
       "         175, 24503, 15840, 20500, 21003,  4200, 17400, 32001, 15700,\n",
       "       31009,  3740,  5000, 31002,  3160,  8600,  6000, 12990,    25,\n",
       "        4410, 22500,  7420, 13500, 15500,  3540, 45500,  4130, 16300,\n",
       "        4530, 15600,  4100, 18200, 10200,  4080,  1700,  6200,  3650,\n",
       "       10500, 43500,  4610,  3450, 38500,  6810,  2900,  4450,  5800,\n",
       "        4240, 13700,  8000, 14200,  7040,  4700, 30851,  4880, 14500,\n",
       "        7600, 13270, 12800, 33000,  9280,   900,  7560, 17100,  8020,\n",
       "       10300, 22600, 10480, 22700,  7410,  7570, 67000, 18900, 12560,\n",
       "       11760, 31700,  7340,  8200,  3000,  6530, 12700,   725,  7400,\n",
       "        9800,  4400, 10330,  1800,    50,   720,  2500,  9190, 10900,\n",
       "       22809,  5520,  2320, 23702,  4050, 14810,  2960, 24800,  6270,\n",
       "        1880, 10050,   225, 26900,  1420, 27003,   350,  5600,  6680,\n",
       "       10120,  3920,  5630,  2800,  8850, 18712,  2220,  6930,  3440,\n",
       "       50412,   950,  9270, 11380,  2725,  3790, 40514,  1000,  2925,\n",
       "        3830, 43402,  1025, 17200, 54680,  6940, 13080, 10630, 43009,\n",
       "        4600,  4950,  3760,  3900,  6240,  4150, 61200,  6490, 51502,\n",
       "         250,  8160,  7770,   200,  1825,  9210, 58500,   125,  3960,\n",
       "        5998,  3700, 15050, 36300, 55600,  2630,   450, 20400,  4320,\n",
       "       33001, 10000,  5790, 14750,  4010,  3550,  3040, 36400,  4480,\n",
       "       31003,    75,  4690, 46900, 10740, 27102,   500,  5100, 15010,\n",
       "       23200,  3390,  3140, 10440, 23911, 21400,  5380, 11000, 30300,\n",
       "        2300,  4310, 26012, 48500,  3330, 11200,  4730, 24900,  8350,\n",
       "         475,  3210,  8430, 25503, 26000,  8610, 28000, 84900, 10840,\n",
       "         100, 11050,  3570, 25001, 11100,  4650,  3820, 29502,  6160,\n",
       "       10910,  3810,  3020,  2000,  3870, 24811,  5420,  4750,  1200,\n",
       "        6470, 32500,  6900, 11030,  3460,  3250, 27705,  7200, 28714,\n",
       "       27502, 29314, 27002, 28214, 29900, 27202, 14700,  4500, 25511,\n",
       "        7700, 27402,  1500, 26602, 14000, 29809, 36900, 26902, 10950,\n",
       "       16900, 25600, 29700, 27702, 25811, 37500, 26211, 24205, 27111,\n",
       "       27411, 27302, 26311, 33500, 27511, 27200, 26511, 24002, 18511,\n",
       "       29000, 23402, 13300, 19700, 23211, 18111, 17700, 21700, 35500,\n",
       "       29500, 25300, 35300, 62000, 46000,  9000, 47400, 24400, 33100,\n",
       "       22000, 35000, 11600, 28100, 63200, 36800, 38800, 31100, 22400,\n",
       "       37100, 32800, 12300,  9400, 23800, 31600, 46800, 21800, 31500,\n",
       "       34500, 10700, 13400, 14100, 38600,  9100,  8900,  3300, 17300,\n",
       "       34800, 32200, 33200, 24300, 27500, 10800, 11400, 42700, 21200,\n",
       "        9600, 35100, 26300, 17600, 19100, 15200, 16100, 14800, 16700,\n",
       "       15300,  6500, 28300, 27300,  3500,  8300, 30000, 21600, 22100,\n",
       "       14300, 43400, 12500, 13900, 17500, 18700, 27900,  7500, 20200,\n",
       "       29300, 31000, 32400, 23300,  6100, 52000, 36000, 12995, 17750,\n",
       "       10295, 16995, 23995, 15810, 20227, 20999, 22499, 23495, 25250,\n",
       "       15322, 21232,  8500, 28700,  7100, 30700, 15400, 25200, 13100,\n",
       "       28400, 20300,  1300,  1750, 16800, 11800, 27100,  2200, 18800,\n",
       "        8400,  4900, 21900, 13750, 16400, 15100, 34100, 33800, 29600,\n",
       "       27800, 18400, 32000, 26800,   800,  1900,  3600,  2700,  9700,\n",
       "       48000, 54500,  5500, 25500, 25700, 28200, 42500, 36500, 20900,\n",
       "       20100, 26700, 23900, 17347, 25888, 21289, 17999, 30977, 13799,\n",
       "        9900, 65500, 36200,  3200,  8750, 11975, 23600, 30900, 40400,\n",
       "       38000, 23700, 54900, 24700, 38200, 23400, 50500, 49000, 25400,\n",
       "       35200, 56700, 40200, 65200, 63000, 44000, 70000, 56200, 57700,\n",
       "       74000, 60200, 60000, 41500, 28600, 46500, 39500, 46700, 42800,\n",
       "       30200, 25100, 56500, 34300, 37200, 31800, 46300, 45000, 49500,\n",
       "        4000, 47000, 50000, 47300,  7805, 44500, 35700, 43600, 22900,\n",
       "        7800,  9500, 12100, 24100, 12400, 39700, 38700, 37700, 22200,\n",
       "       39950, 37600, 18288, 36600, 18299, 30995,   650, 11300, 32700,\n",
       "        1350, 11700,  1150, 20600, 48400, 46200, 27600,  2100, 33700,\n",
       "       33400, 30600, 14400, 40600, 43900,  6400, 41100, 40900, 39200,\n",
       "       24200, 12600,  5300, 24600, 41200, 49900, 34400, 10100, 42300,\n",
       "       51000, 45600, 19990, 30999, 41000, 27999, 42000, 29795, 13995,\n",
       "       35400, 24549, 24970,  2580, 59975, 28990, 46999, 34700, 28900,\n",
       "       30800, 13388,  1725, 33995, 24190, 19888, 24857, 26100, 20995,\n",
       "       19498, 19995, 26985, 34995, 19440, 20950,  2825, 32999,  6600,\n",
       "       50200, 35999, 18799, 33999, 25998, 31831, 25995, 27990, 23985,\n",
       "       27995, 29988, 21687, 29590, 28999, 13942,  1850, 15495, 17589,\n",
       "       31790, 14495, 23999, 16488, 12784,  9705, 25999, 34977, 15995,\n",
       "       13487, 18707, 16080, 15268, 18497, 17150, 14295, 16190, 17899,\n",
       "       16888,  8305, 21822, 14488, 21995, 16593, 14247, 16999, 20159,\n",
       "       59900,   825, 26200, 26550, 56000, 45800, 11450, 10850, 10450,\n",
       "       12200,  5900, 19800,  8800,   750,  1280,   600,  6998,  7998,\n",
       "       10999,  8495, 19925, 12750, 11621, 11590, 11390, 12900, 10600,\n",
       "        2425,   925,   375,  4800,  5475,  1950, 30100], dtype=int64)"
      ]
     },
     "execution_count": 5,
     "metadata": {},
     "output_type": "execute_result"
    }
   ],
   "source": [
    "car.price.unique()"
   ]
  },
  {
   "cell_type": "code",
   "execution_count": 6,
   "metadata": {},
   "outputs": [
    {
     "data": {
      "text/plain": [
       "ford               1235\n",
       "dodge               432\n",
       "nissan              312\n",
       "chevrolet           297\n",
       "gmc                  42\n",
       "jeep                 30\n",
       "chrysler             18\n",
       "bmw                  17\n",
       "hyundai              15\n",
       "buick                13\n",
       "kia                  13\n",
       "honda                12\n",
       "infiniti             12\n",
       "cadillac             10\n",
       "mercedes-benz        10\n",
       "heartland             5\n",
       "peterbilt             4\n",
       "audi                  4\n",
       "land                  4\n",
       "acura                 3\n",
       "mazda                 2\n",
       "lexus                 2\n",
       "lincoln               2\n",
       "harley-davidson       1\n",
       "maserati              1\n",
       "jaguar                1\n",
       "ram                   1\n",
       "toyota                1\n",
       "Name: brand, dtype: int64"
      ]
     },
     "execution_count": 6,
     "metadata": {},
     "output_type": "execute_result"
    }
   ],
   "source": [
    "car.brand.value_counts()"
   ]
  },
  {
   "cell_type": "code",
   "execution_count": 7,
   "metadata": {},
   "outputs": [
    {
     "ename": "NameError",
     "evalue": "name 'x' is not defined",
     "output_type": "error",
     "traceback": [
      "\u001b[1;31m---------------------------------------------------------------------------\u001b[0m",
      "\u001b[1;31mNameError\u001b[0m                                 Traceback (most recent call last)",
      "\u001b[1;32m<ipython-input-7-6fcf9dfbd479>\u001b[0m in \u001b[0;36m<module>\u001b[1;34m\u001b[0m\n\u001b[1;32m----> 1\u001b[1;33m \u001b[0mx\u001b[0m\u001b[1;33m\u001b[0m\u001b[1;33m\u001b[0m\u001b[0m\n\u001b[0m",
      "\u001b[1;31mNameError\u001b[0m: name 'x' is not defined"
     ]
    }
   ],
   "source": [
    "x"
   ]
  },
  {
   "cell_type": "code",
   "execution_count": 8,
   "metadata": {},
   "outputs": [
    {
     "data": {
      "text/plain": [
       "(2499, 13)"
      ]
     },
     "execution_count": 8,
     "metadata": {},
     "output_type": "execute_result"
    }
   ],
   "source": [
    "car.shape"
   ]
  },
  {
   "cell_type": "code",
   "execution_count": 153,
   "metadata": {},
   "outputs": [
    {
     "data": {
      "text/html": [
       "<div>\n",
       "<style scoped>\n",
       "    .dataframe tbody tr th:only-of-type {\n",
       "        vertical-align: middle;\n",
       "    }\n",
       "\n",
       "    .dataframe tbody tr th {\n",
       "        vertical-align: top;\n",
       "    }\n",
       "\n",
       "    .dataframe thead th {\n",
       "        text-align: right;\n",
       "    }\n",
       "</style>\n",
       "<table border=\"1\" class=\"dataframe\">\n",
       "  <thead>\n",
       "    <tr style=\"text-align: right;\">\n",
       "      <th></th>\n",
       "      <th>index</th>\n",
       "      <th>Unnamed: 0</th>\n",
       "      <th>price</th>\n",
       "      <th>brand</th>\n",
       "      <th>model</th>\n",
       "      <th>year</th>\n",
       "      <th>title_status</th>\n",
       "      <th>mileage</th>\n",
       "      <th>color</th>\n",
       "      <th>vin</th>\n",
       "      <th>lot</th>\n",
       "      <th>state</th>\n",
       "      <th>country</th>\n",
       "      <th>condition</th>\n",
       "    </tr>\n",
       "  </thead>\n",
       "  <tbody>\n",
       "    <tr>\n",
       "      <th>0</th>\n",
       "      <td>313</td>\n",
       "      <td>313</td>\n",
       "      <td>0</td>\n",
       "      <td>ford</td>\n",
       "      <td>van</td>\n",
       "      <td>1998</td>\n",
       "      <td>salvage insurance</td>\n",
       "      <td>186855.0</td>\n",
       "      <td>blue</td>\n",
       "      <td>2fmda5143wba16791</td>\n",
       "      <td>167359170</td>\n",
       "      <td>california</td>\n",
       "      <td>usa</td>\n",
       "      <td>19 hours left</td>\n",
       "    </tr>\n",
       "    <tr>\n",
       "      <th>2</th>\n",
       "      <td>522</td>\n",
       "      <td>522</td>\n",
       "      <td>0</td>\n",
       "      <td>ford</td>\n",
       "      <td>door</td>\n",
       "      <td>2008</td>\n",
       "      <td>salvage insurance</td>\n",
       "      <td>145483.0</td>\n",
       "      <td>red</td>\n",
       "      <td>1fmcu03128kc80487</td>\n",
       "      <td>167357813</td>\n",
       "      <td>oklahoma</td>\n",
       "      <td>usa</td>\n",
       "      <td>17 hours left</td>\n",
       "    </tr>\n",
       "    <tr>\n",
       "      <th>3</th>\n",
       "      <td>510</td>\n",
       "      <td>510</td>\n",
       "      <td>0</td>\n",
       "      <td>ford</td>\n",
       "      <td>door</td>\n",
       "      <td>2010</td>\n",
       "      <td>salvage insurance</td>\n",
       "      <td>86841.0</td>\n",
       "      <td>silver</td>\n",
       "      <td>3fahp0ga3ar366961</td>\n",
       "      <td>167357806</td>\n",
       "      <td>oklahoma</td>\n",
       "      <td>usa</td>\n",
       "      <td>17 hours left</td>\n",
       "    </tr>\n",
       "    <tr>\n",
       "      <th>4</th>\n",
       "      <td>496</td>\n",
       "      <td>496</td>\n",
       "      <td>0</td>\n",
       "      <td>ford</td>\n",
       "      <td>pickup</td>\n",
       "      <td>1996</td>\n",
       "      <td>salvage insurance</td>\n",
       "      <td>252588.0</td>\n",
       "      <td>red</td>\n",
       "      <td>1ftef15n0tlc14455</td>\n",
       "      <td>167357804</td>\n",
       "      <td>oklahoma</td>\n",
       "      <td>usa</td>\n",
       "      <td>17 hours left</td>\n",
       "    </tr>\n",
       "    <tr>\n",
       "      <th>5</th>\n",
       "      <td>305</td>\n",
       "      <td>305</td>\n",
       "      <td>0</td>\n",
       "      <td>ford</td>\n",
       "      <td>door</td>\n",
       "      <td>2003</td>\n",
       "      <td>salvage insurance</td>\n",
       "      <td>246065.0</td>\n",
       "      <td>gold</td>\n",
       "      <td>1fafp55u03a242094</td>\n",
       "      <td>167610324</td>\n",
       "      <td>kansas</td>\n",
       "      <td>usa</td>\n",
       "      <td>8 days left</td>\n",
       "    </tr>\n",
       "  </tbody>\n",
       "</table>\n",
       "</div>"
      ],
      "text/plain": [
       "   index  Unnamed: 0  price brand   model  year       title_status   mileage  \\\n",
       "0    313         313      0  ford     van  1998  salvage insurance  186855.0   \n",
       "2    522         522      0  ford    door  2008  salvage insurance  145483.0   \n",
       "3    510         510      0  ford    door  2010  salvage insurance   86841.0   \n",
       "4    496         496      0  ford  pickup  1996  salvage insurance  252588.0   \n",
       "5    305         305      0  ford    door  2003  salvage insurance  246065.0   \n",
       "\n",
       "    color                  vin        lot       state country      condition  \n",
       "0    blue    2fmda5143wba16791  167359170  california     usa  19 hours left  \n",
       "2     red    1fmcu03128kc80487  167357813    oklahoma     usa  17 hours left  \n",
       "3  silver    3fahp0ga3ar366961  167357806    oklahoma     usa  17 hours left  \n",
       "4     red    1ftef15n0tlc14455  167357804    oklahoma     usa  17 hours left  \n",
       "5    gold    1fafp55u03a242094  167610324      kansas     usa    8 days left  "
      ]
     },
     "execution_count": 153,
     "metadata": {},
     "output_type": "execute_result"
    }
   ],
   "source": [
    "car.head()"
   ]
  },
  {
   "cell_type": "code",
   "execution_count": null,
   "metadata": {},
   "outputs": [],
   "source": []
  },
  {
   "cell_type": "code",
   "execution_count": null,
   "metadata": {},
   "outputs": [],
   "source": []
  },
  {
   "cell_type": "code",
   "execution_count": 154,
   "metadata": {},
   "outputs": [],
   "source": [
    "for x in car.index:\n",
    "  if car.loc[x, \"brand\"] != 'ford':\n",
    "    car.drop(x, inplace = True)"
   ]
  },
  {
   "cell_type": "code",
   "execution_count": 155,
   "metadata": {},
   "outputs": [
    {
     "data": {
      "text/html": [
       "<div>\n",
       "<style scoped>\n",
       "    .dataframe tbody tr th:only-of-type {\n",
       "        vertical-align: middle;\n",
       "    }\n",
       "\n",
       "    .dataframe tbody tr th {\n",
       "        vertical-align: top;\n",
       "    }\n",
       "\n",
       "    .dataframe thead th {\n",
       "        text-align: right;\n",
       "    }\n",
       "</style>\n",
       "<table border=\"1\" class=\"dataframe\">\n",
       "  <thead>\n",
       "    <tr style=\"text-align: right;\">\n",
       "      <th></th>\n",
       "      <th>index</th>\n",
       "      <th>Unnamed: 0</th>\n",
       "      <th>price</th>\n",
       "      <th>brand</th>\n",
       "      <th>model</th>\n",
       "      <th>year</th>\n",
       "      <th>title_status</th>\n",
       "      <th>mileage</th>\n",
       "      <th>color</th>\n",
       "      <th>vin</th>\n",
       "      <th>lot</th>\n",
       "      <th>state</th>\n",
       "      <th>country</th>\n",
       "      <th>condition</th>\n",
       "    </tr>\n",
       "  </thead>\n",
       "  <tbody>\n",
       "    <tr>\n",
       "      <th>0</th>\n",
       "      <td>313</td>\n",
       "      <td>313</td>\n",
       "      <td>0</td>\n",
       "      <td>ford</td>\n",
       "      <td>van</td>\n",
       "      <td>1998</td>\n",
       "      <td>salvage insurance</td>\n",
       "      <td>186855.0</td>\n",
       "      <td>blue</td>\n",
       "      <td>2fmda5143wba16791</td>\n",
       "      <td>167359170</td>\n",
       "      <td>california</td>\n",
       "      <td>usa</td>\n",
       "      <td>19 hours left</td>\n",
       "    </tr>\n",
       "    <tr>\n",
       "      <th>2</th>\n",
       "      <td>522</td>\n",
       "      <td>522</td>\n",
       "      <td>0</td>\n",
       "      <td>ford</td>\n",
       "      <td>door</td>\n",
       "      <td>2008</td>\n",
       "      <td>salvage insurance</td>\n",
       "      <td>145483.0</td>\n",
       "      <td>red</td>\n",
       "      <td>1fmcu03128kc80487</td>\n",
       "      <td>167357813</td>\n",
       "      <td>oklahoma</td>\n",
       "      <td>usa</td>\n",
       "      <td>17 hours left</td>\n",
       "    </tr>\n",
       "    <tr>\n",
       "      <th>3</th>\n",
       "      <td>510</td>\n",
       "      <td>510</td>\n",
       "      <td>0</td>\n",
       "      <td>ford</td>\n",
       "      <td>door</td>\n",
       "      <td>2010</td>\n",
       "      <td>salvage insurance</td>\n",
       "      <td>86841.0</td>\n",
       "      <td>silver</td>\n",
       "      <td>3fahp0ga3ar366961</td>\n",
       "      <td>167357806</td>\n",
       "      <td>oklahoma</td>\n",
       "      <td>usa</td>\n",
       "      <td>17 hours left</td>\n",
       "    </tr>\n",
       "    <tr>\n",
       "      <th>4</th>\n",
       "      <td>496</td>\n",
       "      <td>496</td>\n",
       "      <td>0</td>\n",
       "      <td>ford</td>\n",
       "      <td>pickup</td>\n",
       "      <td>1996</td>\n",
       "      <td>salvage insurance</td>\n",
       "      <td>252588.0</td>\n",
       "      <td>red</td>\n",
       "      <td>1ftef15n0tlc14455</td>\n",
       "      <td>167357804</td>\n",
       "      <td>oklahoma</td>\n",
       "      <td>usa</td>\n",
       "      <td>17 hours left</td>\n",
       "    </tr>\n",
       "    <tr>\n",
       "      <th>5</th>\n",
       "      <td>305</td>\n",
       "      <td>305</td>\n",
       "      <td>0</td>\n",
       "      <td>ford</td>\n",
       "      <td>door</td>\n",
       "      <td>2003</td>\n",
       "      <td>salvage insurance</td>\n",
       "      <td>246065.0</td>\n",
       "      <td>gold</td>\n",
       "      <td>1fafp55u03a242094</td>\n",
       "      <td>167610324</td>\n",
       "      <td>kansas</td>\n",
       "      <td>usa</td>\n",
       "      <td>8 days left</td>\n",
       "    </tr>\n",
       "  </tbody>\n",
       "</table>\n",
       "</div>"
      ],
      "text/plain": [
       "   index  Unnamed: 0  price brand   model  year       title_status   mileage  \\\n",
       "0    313         313      0  ford     van  1998  salvage insurance  186855.0   \n",
       "2    522         522      0  ford    door  2008  salvage insurance  145483.0   \n",
       "3    510         510      0  ford    door  2010  salvage insurance   86841.0   \n",
       "4    496         496      0  ford  pickup  1996  salvage insurance  252588.0   \n",
       "5    305         305      0  ford    door  2003  salvage insurance  246065.0   \n",
       "\n",
       "    color                  vin        lot       state country      condition  \n",
       "0    blue    2fmda5143wba16791  167359170  california     usa  19 hours left  \n",
       "2     red    1fmcu03128kc80487  167357813    oklahoma     usa  17 hours left  \n",
       "3  silver    3fahp0ga3ar366961  167357806    oklahoma     usa  17 hours left  \n",
       "4     red    1ftef15n0tlc14455  167357804    oklahoma     usa  17 hours left  \n",
       "5    gold    1fafp55u03a242094  167610324      kansas     usa    8 days left  "
      ]
     },
     "execution_count": 155,
     "metadata": {},
     "output_type": "execute_result"
    }
   ],
   "source": [
    "car.head()"
   ]
  },
  {
   "cell_type": "code",
   "execution_count": 156,
   "metadata": {},
   "outputs": [
    {
     "data": {
      "text/plain": [
       "2019"
      ]
     },
     "execution_count": 156,
     "metadata": {},
     "output_type": "execute_result"
    }
   ],
   "source": [
    "car.year.max()"
   ]
  },
  {
   "cell_type": "code",
   "execution_count": 157,
   "metadata": {},
   "outputs": [
    {
     "data": {
      "text/html": [
       "<div>\n",
       "<style scoped>\n",
       "    .dataframe tbody tr th:only-of-type {\n",
       "        vertical-align: middle;\n",
       "    }\n",
       "\n",
       "    .dataframe tbody tr th {\n",
       "        vertical-align: top;\n",
       "    }\n",
       "\n",
       "    .dataframe thead th {\n",
       "        text-align: right;\n",
       "    }\n",
       "</style>\n",
       "<table border=\"1\" class=\"dataframe\">\n",
       "  <thead>\n",
       "    <tr style=\"text-align: right;\">\n",
       "      <th></th>\n",
       "      <th>index</th>\n",
       "      <th>Unnamed: 0</th>\n",
       "      <th>price</th>\n",
       "      <th>brand</th>\n",
       "      <th>model</th>\n",
       "      <th>year</th>\n",
       "      <th>title_status</th>\n",
       "      <th>mileage</th>\n",
       "      <th>color</th>\n",
       "      <th>vin</th>\n",
       "      <th>lot</th>\n",
       "      <th>state</th>\n",
       "      <th>country</th>\n",
       "      <th>condition</th>\n",
       "    </tr>\n",
       "  </thead>\n",
       "  <tbody>\n",
       "    <tr>\n",
       "      <th>0</th>\n",
       "      <td>313</td>\n",
       "      <td>313</td>\n",
       "      <td>0</td>\n",
       "      <td>ford</td>\n",
       "      <td>van</td>\n",
       "      <td>1998</td>\n",
       "      <td>salvage insurance</td>\n",
       "      <td>186855.0</td>\n",
       "      <td>blue</td>\n",
       "      <td>2fmda5143wba16791</td>\n",
       "      <td>167359170</td>\n",
       "      <td>california</td>\n",
       "      <td>usa</td>\n",
       "      <td>19 hours left</td>\n",
       "    </tr>\n",
       "    <tr>\n",
       "      <th>1</th>\n",
       "      <td>522</td>\n",
       "      <td>522</td>\n",
       "      <td>0</td>\n",
       "      <td>ford</td>\n",
       "      <td>door</td>\n",
       "      <td>2008</td>\n",
       "      <td>salvage insurance</td>\n",
       "      <td>145483.0</td>\n",
       "      <td>red</td>\n",
       "      <td>1fmcu03128kc80487</td>\n",
       "      <td>167357813</td>\n",
       "      <td>oklahoma</td>\n",
       "      <td>usa</td>\n",
       "      <td>17 hours left</td>\n",
       "    </tr>\n",
       "    <tr>\n",
       "      <th>2</th>\n",
       "      <td>510</td>\n",
       "      <td>510</td>\n",
       "      <td>0</td>\n",
       "      <td>ford</td>\n",
       "      <td>door</td>\n",
       "      <td>2010</td>\n",
       "      <td>salvage insurance</td>\n",
       "      <td>86841.0</td>\n",
       "      <td>silver</td>\n",
       "      <td>3fahp0ga3ar366961</td>\n",
       "      <td>167357806</td>\n",
       "      <td>oklahoma</td>\n",
       "      <td>usa</td>\n",
       "      <td>17 hours left</td>\n",
       "    </tr>\n",
       "    <tr>\n",
       "      <th>3</th>\n",
       "      <td>496</td>\n",
       "      <td>496</td>\n",
       "      <td>0</td>\n",
       "      <td>ford</td>\n",
       "      <td>pickup</td>\n",
       "      <td>1996</td>\n",
       "      <td>salvage insurance</td>\n",
       "      <td>252588.0</td>\n",
       "      <td>red</td>\n",
       "      <td>1ftef15n0tlc14455</td>\n",
       "      <td>167357804</td>\n",
       "      <td>oklahoma</td>\n",
       "      <td>usa</td>\n",
       "      <td>17 hours left</td>\n",
       "    </tr>\n",
       "    <tr>\n",
       "      <th>4</th>\n",
       "      <td>305</td>\n",
       "      <td>305</td>\n",
       "      <td>0</td>\n",
       "      <td>ford</td>\n",
       "      <td>door</td>\n",
       "      <td>2003</td>\n",
       "      <td>salvage insurance</td>\n",
       "      <td>246065.0</td>\n",
       "      <td>gold</td>\n",
       "      <td>1fafp55u03a242094</td>\n",
       "      <td>167610324</td>\n",
       "      <td>kansas</td>\n",
       "      <td>usa</td>\n",
       "      <td>8 days left</td>\n",
       "    </tr>\n",
       "    <tr>\n",
       "      <th>...</th>\n",
       "      <td>...</td>\n",
       "      <td>...</td>\n",
       "      <td>...</td>\n",
       "      <td>...</td>\n",
       "      <td>...</td>\n",
       "      <td>...</td>\n",
       "      <td>...</td>\n",
       "      <td>...</td>\n",
       "      <td>...</td>\n",
       "      <td>...</td>\n",
       "      <td>...</td>\n",
       "      <td>...</td>\n",
       "      <td>...</td>\n",
       "      <td>...</td>\n",
       "    </tr>\n",
       "    <tr>\n",
       "      <th>161</th>\n",
       "      <td>1393</td>\n",
       "      <td>1393</td>\n",
       "      <td>7000</td>\n",
       "      <td>ford</td>\n",
       "      <td>door</td>\n",
       "      <td>2012</td>\n",
       "      <td>clean vehicle</td>\n",
       "      <td>149712.0</td>\n",
       "      <td>silver</td>\n",
       "      <td>1ftfw1cf5cfa60758</td>\n",
       "      <td>167484061</td>\n",
       "      <td>texas</td>\n",
       "      <td>usa</td>\n",
       "      <td>4 days left</td>\n",
       "    </tr>\n",
       "    <tr>\n",
       "      <th>162</th>\n",
       "      <td>39</td>\n",
       "      <td>39</td>\n",
       "      <td>7000</td>\n",
       "      <td>ford</td>\n",
       "      <td>pk</td>\n",
       "      <td>2003</td>\n",
       "      <td>clean vehicle</td>\n",
       "      <td>176567.0</td>\n",
       "      <td>white</td>\n",
       "      <td>1ftnx20p73ed69682</td>\n",
       "      <td>167754187</td>\n",
       "      <td>tennessee</td>\n",
       "      <td>usa</td>\n",
       "      <td>22 hours left</td>\n",
       "    </tr>\n",
       "    <tr>\n",
       "      <th>163</th>\n",
       "      <td>111</td>\n",
       "      <td>111</td>\n",
       "      <td>7000</td>\n",
       "      <td>ford</td>\n",
       "      <td>mpv</td>\n",
       "      <td>2017</td>\n",
       "      <td>clean vehicle</td>\n",
       "      <td>29882.0</td>\n",
       "      <td>white</td>\n",
       "      <td>1fm5k7d84hgc31359</td>\n",
       "      <td>167656363</td>\n",
       "      <td>texas</td>\n",
       "      <td>usa</td>\n",
       "      <td>2 days left</td>\n",
       "    </tr>\n",
       "    <tr>\n",
       "      <th>164</th>\n",
       "      <td>2156</td>\n",
       "      <td>2156</td>\n",
       "      <td>7000</td>\n",
       "      <td>ford</td>\n",
       "      <td>focus</td>\n",
       "      <td>2017</td>\n",
       "      <td>clean vehicle</td>\n",
       "      <td>57889.0</td>\n",
       "      <td>black</td>\n",
       "      <td>1fadp3f25hl234464</td>\n",
       "      <td>167802313</td>\n",
       "      <td>north carolina</td>\n",
       "      <td>usa</td>\n",
       "      <td>2 days left</td>\n",
       "    </tr>\n",
       "    <tr>\n",
       "      <th>165</th>\n",
       "      <td>1449</td>\n",
       "      <td>1449</td>\n",
       "      <td>7000</td>\n",
       "      <td>ford</td>\n",
       "      <td>door</td>\n",
       "      <td>2019</td>\n",
       "      <td>salvage insurance</td>\n",
       "      <td>11930.0</td>\n",
       "      <td>white</td>\n",
       "      <td>1ftyr1zm3kkb00458</td>\n",
       "      <td>167624798</td>\n",
       "      <td>michigan</td>\n",
       "      <td>usa</td>\n",
       "      <td>2 days left</td>\n",
       "    </tr>\n",
       "  </tbody>\n",
       "</table>\n",
       "<p>166 rows × 14 columns</p>\n",
       "</div>"
      ],
      "text/plain": [
       "     index  Unnamed: 0  price brand   model  year       title_status  \\\n",
       "0      313         313      0  ford     van  1998  salvage insurance   \n",
       "1      522         522      0  ford    door  2008  salvage insurance   \n",
       "2      510         510      0  ford    door  2010  salvage insurance   \n",
       "3      496         496      0  ford  pickup  1996  salvage insurance   \n",
       "4      305         305      0  ford    door  2003  salvage insurance   \n",
       "..     ...         ...    ...   ...     ...   ...                ...   \n",
       "161   1393        1393   7000  ford    door  2012      clean vehicle   \n",
       "162     39          39   7000  ford      pk  2003      clean vehicle   \n",
       "163    111         111   7000  ford     mpv  2017      clean vehicle   \n",
       "164   2156        2156   7000  ford   focus  2017      clean vehicle   \n",
       "165   1449        1449   7000  ford    door  2019  salvage insurance   \n",
       "\n",
       "      mileage   color                  vin        lot           state country  \\\n",
       "0    186855.0    blue    2fmda5143wba16791  167359170      california     usa   \n",
       "1    145483.0     red    1fmcu03128kc80487  167357813        oklahoma     usa   \n",
       "2     86841.0  silver    3fahp0ga3ar366961  167357806        oklahoma     usa   \n",
       "3    252588.0     red    1ftef15n0tlc14455  167357804        oklahoma     usa   \n",
       "4    246065.0    gold    1fafp55u03a242094  167610324          kansas     usa   \n",
       "..        ...     ...                  ...        ...             ...     ...   \n",
       "161  149712.0  silver    1ftfw1cf5cfa60758  167484061           texas     usa   \n",
       "162  176567.0   white    1ftnx20p73ed69682  167754187       tennessee     usa   \n",
       "163   29882.0   white    1fm5k7d84hgc31359  167656363           texas     usa   \n",
       "164   57889.0   black    1fadp3f25hl234464  167802313  north carolina     usa   \n",
       "165   11930.0   white    1ftyr1zm3kkb00458  167624798        michigan     usa   \n",
       "\n",
       "         condition  \n",
       "0    19 hours left  \n",
       "1    17 hours left  \n",
       "2    17 hours left  \n",
       "3    17 hours left  \n",
       "4      8 days left  \n",
       "..             ...  \n",
       "161    4 days left  \n",
       "162  22 hours left  \n",
       "163    2 days left  \n",
       "164    2 days left  \n",
       "165    2 days left  \n",
       "\n",
       "[166 rows x 14 columns]"
      ]
     },
     "execution_count": 157,
     "metadata": {},
     "output_type": "execute_result"
    }
   ],
   "source": [
    "car.reset_index(drop=True)"
   ]
  },
  {
   "cell_type": "code",
   "execution_count": 158,
   "metadata": {},
   "outputs": [
    {
     "data": {
      "text/html": [
       "<div>\n",
       "<style scoped>\n",
       "    .dataframe tbody tr th:only-of-type {\n",
       "        vertical-align: middle;\n",
       "    }\n",
       "\n",
       "    .dataframe tbody tr th {\n",
       "        vertical-align: top;\n",
       "    }\n",
       "\n",
       "    .dataframe thead th {\n",
       "        text-align: right;\n",
       "    }\n",
       "</style>\n",
       "<table border=\"1\" class=\"dataframe\">\n",
       "  <thead>\n",
       "    <tr style=\"text-align: right;\">\n",
       "      <th></th>\n",
       "      <th>index</th>\n",
       "      <th>Unnamed: 0</th>\n",
       "      <th>price</th>\n",
       "      <th>brand</th>\n",
       "      <th>model</th>\n",
       "      <th>year</th>\n",
       "      <th>title_status</th>\n",
       "      <th>mileage</th>\n",
       "      <th>color</th>\n",
       "      <th>vin</th>\n",
       "      <th>lot</th>\n",
       "      <th>state</th>\n",
       "      <th>country</th>\n",
       "      <th>condition</th>\n",
       "    </tr>\n",
       "  </thead>\n",
       "  <tbody>\n",
       "    <tr>\n",
       "      <th>0</th>\n",
       "      <td>313</td>\n",
       "      <td>313</td>\n",
       "      <td>0</td>\n",
       "      <td>ford</td>\n",
       "      <td>van</td>\n",
       "      <td>1998</td>\n",
       "      <td>salvage insurance</td>\n",
       "      <td>186855.0</td>\n",
       "      <td>blue</td>\n",
       "      <td>2fmda5143wba16791</td>\n",
       "      <td>167359170</td>\n",
       "      <td>california</td>\n",
       "      <td>usa</td>\n",
       "      <td>19 hours left</td>\n",
       "    </tr>\n",
       "    <tr>\n",
       "      <th>2</th>\n",
       "      <td>522</td>\n",
       "      <td>522</td>\n",
       "      <td>0</td>\n",
       "      <td>ford</td>\n",
       "      <td>door</td>\n",
       "      <td>2008</td>\n",
       "      <td>salvage insurance</td>\n",
       "      <td>145483.0</td>\n",
       "      <td>red</td>\n",
       "      <td>1fmcu03128kc80487</td>\n",
       "      <td>167357813</td>\n",
       "      <td>oklahoma</td>\n",
       "      <td>usa</td>\n",
       "      <td>17 hours left</td>\n",
       "    </tr>\n",
       "    <tr>\n",
       "      <th>3</th>\n",
       "      <td>510</td>\n",
       "      <td>510</td>\n",
       "      <td>0</td>\n",
       "      <td>ford</td>\n",
       "      <td>door</td>\n",
       "      <td>2010</td>\n",
       "      <td>salvage insurance</td>\n",
       "      <td>86841.0</td>\n",
       "      <td>silver</td>\n",
       "      <td>3fahp0ga3ar366961</td>\n",
       "      <td>167357806</td>\n",
       "      <td>oklahoma</td>\n",
       "      <td>usa</td>\n",
       "      <td>17 hours left</td>\n",
       "    </tr>\n",
       "    <tr>\n",
       "      <th>4</th>\n",
       "      <td>496</td>\n",
       "      <td>496</td>\n",
       "      <td>0</td>\n",
       "      <td>ford</td>\n",
       "      <td>pickup</td>\n",
       "      <td>1996</td>\n",
       "      <td>salvage insurance</td>\n",
       "      <td>252588.0</td>\n",
       "      <td>red</td>\n",
       "      <td>1ftef15n0tlc14455</td>\n",
       "      <td>167357804</td>\n",
       "      <td>oklahoma</td>\n",
       "      <td>usa</td>\n",
       "      <td>17 hours left</td>\n",
       "    </tr>\n",
       "    <tr>\n",
       "      <th>5</th>\n",
       "      <td>305</td>\n",
       "      <td>305</td>\n",
       "      <td>0</td>\n",
       "      <td>ford</td>\n",
       "      <td>door</td>\n",
       "      <td>2003</td>\n",
       "      <td>salvage insurance</td>\n",
       "      <td>246065.0</td>\n",
       "      <td>gold</td>\n",
       "      <td>1fafp55u03a242094</td>\n",
       "      <td>167610324</td>\n",
       "      <td>kansas</td>\n",
       "      <td>usa</td>\n",
       "      <td>8 days left</td>\n",
       "    </tr>\n",
       "    <tr>\n",
       "      <th>...</th>\n",
       "      <td>...</td>\n",
       "      <td>...</td>\n",
       "      <td>...</td>\n",
       "      <td>...</td>\n",
       "      <td>...</td>\n",
       "      <td>...</td>\n",
       "      <td>...</td>\n",
       "      <td>...</td>\n",
       "      <td>...</td>\n",
       "      <td>...</td>\n",
       "      <td>...</td>\n",
       "      <td>...</td>\n",
       "      <td>...</td>\n",
       "      <td>...</td>\n",
       "    </tr>\n",
       "    <tr>\n",
       "      <th>162</th>\n",
       "      <td>1393</td>\n",
       "      <td>1393</td>\n",
       "      <td>7000</td>\n",
       "      <td>ford</td>\n",
       "      <td>door</td>\n",
       "      <td>2012</td>\n",
       "      <td>clean vehicle</td>\n",
       "      <td>149712.0</td>\n",
       "      <td>silver</td>\n",
       "      <td>1ftfw1cf5cfa60758</td>\n",
       "      <td>167484061</td>\n",
       "      <td>texas</td>\n",
       "      <td>usa</td>\n",
       "      <td>4 days left</td>\n",
       "    </tr>\n",
       "    <tr>\n",
       "      <th>163</th>\n",
       "      <td>39</td>\n",
       "      <td>39</td>\n",
       "      <td>7000</td>\n",
       "      <td>ford</td>\n",
       "      <td>pk</td>\n",
       "      <td>2003</td>\n",
       "      <td>clean vehicle</td>\n",
       "      <td>176567.0</td>\n",
       "      <td>white</td>\n",
       "      <td>1ftnx20p73ed69682</td>\n",
       "      <td>167754187</td>\n",
       "      <td>tennessee</td>\n",
       "      <td>usa</td>\n",
       "      <td>22 hours left</td>\n",
       "    </tr>\n",
       "    <tr>\n",
       "      <th>164</th>\n",
       "      <td>111</td>\n",
       "      <td>111</td>\n",
       "      <td>7000</td>\n",
       "      <td>ford</td>\n",
       "      <td>mpv</td>\n",
       "      <td>2017</td>\n",
       "      <td>clean vehicle</td>\n",
       "      <td>29882.0</td>\n",
       "      <td>white</td>\n",
       "      <td>1fm5k7d84hgc31359</td>\n",
       "      <td>167656363</td>\n",
       "      <td>texas</td>\n",
       "      <td>usa</td>\n",
       "      <td>2 days left</td>\n",
       "    </tr>\n",
       "    <tr>\n",
       "      <th>165</th>\n",
       "      <td>2156</td>\n",
       "      <td>2156</td>\n",
       "      <td>7000</td>\n",
       "      <td>ford</td>\n",
       "      <td>focus</td>\n",
       "      <td>2017</td>\n",
       "      <td>clean vehicle</td>\n",
       "      <td>57889.0</td>\n",
       "      <td>black</td>\n",
       "      <td>1fadp3f25hl234464</td>\n",
       "      <td>167802313</td>\n",
       "      <td>north carolina</td>\n",
       "      <td>usa</td>\n",
       "      <td>2 days left</td>\n",
       "    </tr>\n",
       "    <tr>\n",
       "      <th>166</th>\n",
       "      <td>1449</td>\n",
       "      <td>1449</td>\n",
       "      <td>7000</td>\n",
       "      <td>ford</td>\n",
       "      <td>door</td>\n",
       "      <td>2019</td>\n",
       "      <td>salvage insurance</td>\n",
       "      <td>11930.0</td>\n",
       "      <td>white</td>\n",
       "      <td>1ftyr1zm3kkb00458</td>\n",
       "      <td>167624798</td>\n",
       "      <td>michigan</td>\n",
       "      <td>usa</td>\n",
       "      <td>2 days left</td>\n",
       "    </tr>\n",
       "  </tbody>\n",
       "</table>\n",
       "<p>166 rows × 14 columns</p>\n",
       "</div>"
      ],
      "text/plain": [
       "     index  Unnamed: 0  price brand   model  year       title_status  \\\n",
       "0      313         313      0  ford     van  1998  salvage insurance   \n",
       "2      522         522      0  ford    door  2008  salvage insurance   \n",
       "3      510         510      0  ford    door  2010  salvage insurance   \n",
       "4      496         496      0  ford  pickup  1996  salvage insurance   \n",
       "5      305         305      0  ford    door  2003  salvage insurance   \n",
       "..     ...         ...    ...   ...     ...   ...                ...   \n",
       "162   1393        1393   7000  ford    door  2012      clean vehicle   \n",
       "163     39          39   7000  ford      pk  2003      clean vehicle   \n",
       "164    111         111   7000  ford     mpv  2017      clean vehicle   \n",
       "165   2156        2156   7000  ford   focus  2017      clean vehicle   \n",
       "166   1449        1449   7000  ford    door  2019  salvage insurance   \n",
       "\n",
       "      mileage   color                  vin        lot           state country  \\\n",
       "0    186855.0    blue    2fmda5143wba16791  167359170      california     usa   \n",
       "2    145483.0     red    1fmcu03128kc80487  167357813        oklahoma     usa   \n",
       "3     86841.0  silver    3fahp0ga3ar366961  167357806        oklahoma     usa   \n",
       "4    252588.0     red    1ftef15n0tlc14455  167357804        oklahoma     usa   \n",
       "5    246065.0    gold    1fafp55u03a242094  167610324          kansas     usa   \n",
       "..        ...     ...                  ...        ...             ...     ...   \n",
       "162  149712.0  silver    1ftfw1cf5cfa60758  167484061           texas     usa   \n",
       "163  176567.0   white    1ftnx20p73ed69682  167754187       tennessee     usa   \n",
       "164   29882.0   white    1fm5k7d84hgc31359  167656363           texas     usa   \n",
       "165   57889.0   black    1fadp3f25hl234464  167802313  north carolina     usa   \n",
       "166   11930.0   white    1ftyr1zm3kkb00458  167624798        michigan     usa   \n",
       "\n",
       "         condition  \n",
       "0    19 hours left  \n",
       "2    17 hours left  \n",
       "3    17 hours left  \n",
       "4    17 hours left  \n",
       "5      8 days left  \n",
       "..             ...  \n",
       "162    4 days left  \n",
       "163  22 hours left  \n",
       "164    2 days left  \n",
       "165    2 days left  \n",
       "166    2 days left  \n",
       "\n",
       "[166 rows x 14 columns]"
      ]
     },
     "execution_count": 158,
     "metadata": {},
     "output_type": "execute_result"
    }
   ],
   "source": [
    "car.dropna()"
   ]
  },
  {
   "cell_type": "code",
   "execution_count": 15,
   "metadata": {},
   "outputs": [
    {
     "data": {
      "text/html": [
       "<div>\n",
       "<style scoped>\n",
       "    .dataframe tbody tr th:only-of-type {\n",
       "        vertical-align: middle;\n",
       "    }\n",
       "\n",
       "    .dataframe tbody tr th {\n",
       "        vertical-align: top;\n",
       "    }\n",
       "\n",
       "    .dataframe thead th {\n",
       "        text-align: right;\n",
       "    }\n",
       "</style>\n",
       "<table border=\"1\" class=\"dataframe\">\n",
       "  <thead>\n",
       "    <tr style=\"text-align: right;\">\n",
       "      <th></th>\n",
       "      <th>Unnamed: 0</th>\n",
       "      <th>price</th>\n",
       "      <th>year</th>\n",
       "      <th>mileage</th>\n",
       "      <th>lot</th>\n",
       "    </tr>\n",
       "  </thead>\n",
       "  <tbody>\n",
       "    <tr>\n",
       "      <th>count</th>\n",
       "      <td>1235.000000</td>\n",
       "      <td>1235.000000</td>\n",
       "      <td>1235.000000</td>\n",
       "      <td>1235.000000</td>\n",
       "      <td>1.235000e+03</td>\n",
       "    </tr>\n",
       "    <tr>\n",
       "      <th>mean</th>\n",
       "      <td>1443.951417</td>\n",
       "      <td>21666.888259</td>\n",
       "      <td>2016.762753</td>\n",
       "      <td>52084.304453</td>\n",
       "      <td>1.677053e+08</td>\n",
       "    </tr>\n",
       "    <tr>\n",
       "      <th>std</th>\n",
       "      <td>603.711062</td>\n",
       "      <td>12945.547175</td>\n",
       "      <td>3.310937</td>\n",
       "      <td>54948.494063</td>\n",
       "      <td>9.829058e+04</td>\n",
       "    </tr>\n",
       "    <tr>\n",
       "      <th>min</th>\n",
       "      <td>1.000000</td>\n",
       "      <td>0.000000</td>\n",
       "      <td>1984.000000</td>\n",
       "      <td>0.000000</td>\n",
       "      <td>1.669513e+08</td>\n",
       "    </tr>\n",
       "    <tr>\n",
       "      <th>25%</th>\n",
       "      <td>1277.500000</td>\n",
       "      <td>12530.000000</td>\n",
       "      <td>2016.000000</td>\n",
       "      <td>18878.500000</td>\n",
       "      <td>1.676413e+08</td>\n",
       "    </tr>\n",
       "    <tr>\n",
       "      <th>50%</th>\n",
       "      <td>1586.000000</td>\n",
       "      <td>22000.000000</td>\n",
       "      <td>2018.000000</td>\n",
       "      <td>34277.000000</td>\n",
       "      <td>1.677452e+08</td>\n",
       "    </tr>\n",
       "    <tr>\n",
       "      <th>75%</th>\n",
       "      <td>1894.500000</td>\n",
       "      <td>28500.000000</td>\n",
       "      <td>2019.000000</td>\n",
       "      <td>68542.000000</td>\n",
       "      <td>1.677805e+08</td>\n",
       "    </tr>\n",
       "    <tr>\n",
       "      <th>max</th>\n",
       "      <td>2203.000000</td>\n",
       "      <td>74000.000000</td>\n",
       "      <td>2020.000000</td>\n",
       "      <td>999999.000000</td>\n",
       "      <td>1.678024e+08</td>\n",
       "    </tr>\n",
       "  </tbody>\n",
       "</table>\n",
       "</div>"
      ],
      "text/plain": [
       "        Unnamed: 0         price         year        mileage           lot\n",
       "count  1235.000000   1235.000000  1235.000000    1235.000000  1.235000e+03\n",
       "mean   1443.951417  21666.888259  2016.762753   52084.304453  1.677053e+08\n",
       "std     603.711062  12945.547175     3.310937   54948.494063  9.829058e+04\n",
       "min       1.000000      0.000000  1984.000000       0.000000  1.669513e+08\n",
       "25%    1277.500000  12530.000000  2016.000000   18878.500000  1.676413e+08\n",
       "50%    1586.000000  22000.000000  2018.000000   34277.000000  1.677452e+08\n",
       "75%    1894.500000  28500.000000  2019.000000   68542.000000  1.677805e+08\n",
       "max    2203.000000  74000.000000  2020.000000  999999.000000  1.678024e+08"
      ]
     },
     "execution_count": 15,
     "metadata": {},
     "output_type": "execute_result"
    }
   ],
   "source": [
    "car.describe()"
   ]
  },
  {
   "cell_type": "code",
   "execution_count": 16,
   "metadata": {},
   "outputs": [
    {
     "data": {
      "text/plain": [
       "<AxesSubplot:xlabel='price', ylabel='mileage'>"
      ]
     },
     "execution_count": 16,
     "metadata": {},
     "output_type": "execute_result"
    },
    {
     "data": {
      "image/png": "[encoded data removed]",
      "text/plain": [
       "<Figure size 432x288 with 1 Axes>"
      ]
     },
     "metadata": {
      "needs_background": "light"
     },
     "output_type": "display_data"
    }
   ],
   "source": [
    "sns.lineplot(x='price', y='mileage',data=car)"
   ]
  },
  {
   "cell_type": "code",
   "execution_count": 17,
   "metadata": {},
   "outputs": [
    {
     "data": {
      "text/html": [
       "<div>\n",
       "<style scoped>\n",
       "    .dataframe tbody tr th:only-of-type {\n",
       "        vertical-align: middle;\n",
       "    }\n",
       "\n",
       "    .dataframe tbody tr th {\n",
       "        vertical-align: top;\n",
       "    }\n",
       "\n",
       "    .dataframe thead th {\n",
       "        text-align: right;\n",
       "    }\n",
       "</style>\n",
       "<table border=\"1\" class=\"dataframe\">\n",
       "  <thead>\n",
       "    <tr style=\"text-align: right;\">\n",
       "      <th></th>\n",
       "      <th>Unnamed: 0</th>\n",
       "      <th>price</th>\n",
       "      <th>brand</th>\n",
       "      <th>model</th>\n",
       "      <th>year</th>\n",
       "      <th>title_status</th>\n",
       "      <th>mileage</th>\n",
       "      <th>color</th>\n",
       "      <th>vin</th>\n",
       "      <th>lot</th>\n",
       "      <th>state</th>\n",
       "      <th>country</th>\n",
       "      <th>condition</th>\n",
       "    </tr>\n",
       "  </thead>\n",
       "  <tbody>\n",
       "    <tr>\n",
       "      <th>1</th>\n",
       "      <td>1</td>\n",
       "      <td>2899</td>\n",
       "      <td>ford</td>\n",
       "      <td>se</td>\n",
       "      <td>2011</td>\n",
       "      <td>clean vehicle</td>\n",
       "      <td>190552.0</td>\n",
       "      <td>silver</td>\n",
       "      <td>2fmdk3gc4bbb02217</td>\n",
       "      <td>166951262</td>\n",
       "      <td>tennessee</td>\n",
       "      <td>usa</td>\n",
       "      <td>6 days left</td>\n",
       "    </tr>\n",
       "    <tr>\n",
       "      <th>3</th>\n",
       "      <td>3</td>\n",
       "      <td>25000</td>\n",
       "      <td>ford</td>\n",
       "      <td>door</td>\n",
       "      <td>2014</td>\n",
       "      <td>clean vehicle</td>\n",
       "      <td>64146.0</td>\n",
       "      <td>blue</td>\n",
       "      <td>1ftfw1et4efc23745</td>\n",
       "      <td>167753855</td>\n",
       "      <td>virginia</td>\n",
       "      <td>usa</td>\n",
       "      <td>22 hours left</td>\n",
       "    </tr>\n",
       "    <tr>\n",
       "      <th>9</th>\n",
       "      <td>9</td>\n",
       "      <td>5250</td>\n",
       "      <td>ford</td>\n",
       "      <td>mpv</td>\n",
       "      <td>2017</td>\n",
       "      <td>clean vehicle</td>\n",
       "      <td>63418.0</td>\n",
       "      <td>black</td>\n",
       "      <td>2fmpk3j92hbc12542</td>\n",
       "      <td>167656121</td>\n",
       "      <td>texas</td>\n",
       "      <td>usa</td>\n",
       "      <td>2 days left</td>\n",
       "    </tr>\n",
       "  </tbody>\n",
       "</table>\n",
       "</div>"
      ],
      "text/plain": [
       "   Unnamed: 0  price brand model  year   title_status   mileage   color  \\\n",
       "1           1   2899  ford    se  2011  clean vehicle  190552.0  silver   \n",
       "3           3  25000  ford  door  2014  clean vehicle   64146.0    blue   \n",
       "9           9   5250  ford   mpv  2017  clean vehicle   63418.0   black   \n",
       "\n",
       "                   vin        lot      state country      condition  \n",
       "1    2fmdk3gc4bbb02217  166951262  tennessee     usa    6 days left  \n",
       "3    1ftfw1et4efc23745  167753855   virginia     usa  22 hours left  \n",
       "9    2fmpk3j92hbc12542  167656121      texas     usa    2 days left  "
      ]
     },
     "execution_count": 17,
     "metadata": {},
     "output_type": "execute_result"
    }
   ],
   "source": [
    "car.loc[0:10]"
   ]
  },
  {
   "cell_type": "raw",
   "metadata": {},
   "source": []
  },
  {
   "cell_type": "code",
   "execution_count": 179,
   "metadata": {},
   "outputs": [
    {
     "data": {
      "text/html": [
       "<div>\n",
       "<style scoped>\n",
       "    .dataframe tbody tr th:only-of-type {\n",
       "        vertical-align: middle;\n",
       "    }\n",
       "\n",
       "    .dataframe tbody tr th {\n",
       "        vertical-align: top;\n",
       "    }\n",
       "\n",
       "    .dataframe thead th {\n",
       "        text-align: right;\n",
       "    }\n",
       "</style>\n",
       "<table border=\"1\" class=\"dataframe\">\n",
       "  <thead>\n",
       "    <tr style=\"text-align: right;\">\n",
       "      <th></th>\n",
       "      <th>index</th>\n",
       "      <th>Unnamed: 0</th>\n",
       "      <th>price</th>\n",
       "      <th>brand</th>\n",
       "      <th>model</th>\n",
       "      <th>year</th>\n",
       "      <th>title_status</th>\n",
       "      <th>mileage</th>\n",
       "      <th>color</th>\n",
       "      <th>vin</th>\n",
       "      <th>lot</th>\n",
       "      <th>state</th>\n",
       "      <th>country</th>\n",
       "      <th>condition</th>\n",
       "    </tr>\n",
       "  </thead>\n",
       "  <tbody>\n",
       "    <tr>\n",
       "      <th>2</th>\n",
       "      <td>522</td>\n",
       "      <td>522</td>\n",
       "      <td>0</td>\n",
       "      <td>ford</td>\n",
       "      <td>door</td>\n",
       "      <td>2008</td>\n",
       "      <td>salvage insurance</td>\n",
       "      <td>145483.0</td>\n",
       "      <td>red</td>\n",
       "      <td>1fmcu03128kc80487</td>\n",
       "      <td>167357813</td>\n",
       "      <td>oklahoma</td>\n",
       "      <td>usa</td>\n",
       "      <td>17 hours left</td>\n",
       "    </tr>\n",
       "    <tr>\n",
       "      <th>3</th>\n",
       "      <td>510</td>\n",
       "      <td>510</td>\n",
       "      <td>0</td>\n",
       "      <td>ford</td>\n",
       "      <td>door</td>\n",
       "      <td>2010</td>\n",
       "      <td>salvage insurance</td>\n",
       "      <td>86841.0</td>\n",
       "      <td>silver</td>\n",
       "      <td>3fahp0ga3ar366961</td>\n",
       "      <td>167357806</td>\n",
       "      <td>oklahoma</td>\n",
       "      <td>usa</td>\n",
       "      <td>17 hours left</td>\n",
       "    </tr>\n",
       "    <tr>\n",
       "      <th>4</th>\n",
       "      <td>496</td>\n",
       "      <td>496</td>\n",
       "      <td>0</td>\n",
       "      <td>ford</td>\n",
       "      <td>pickup</td>\n",
       "      <td>1996</td>\n",
       "      <td>salvage insurance</td>\n",
       "      <td>252588.0</td>\n",
       "      <td>red</td>\n",
       "      <td>1ftef15n0tlc14455</td>\n",
       "      <td>167357804</td>\n",
       "      <td>oklahoma</td>\n",
       "      <td>usa</td>\n",
       "      <td>17 hours left</td>\n",
       "    </tr>\n",
       "    <tr>\n",
       "      <th>5</th>\n",
       "      <td>305</td>\n",
       "      <td>305</td>\n",
       "      <td>0</td>\n",
       "      <td>ford</td>\n",
       "      <td>door</td>\n",
       "      <td>2003</td>\n",
       "      <td>salvage insurance</td>\n",
       "      <td>246065.0</td>\n",
       "      <td>gold</td>\n",
       "      <td>1fafp55u03a242094</td>\n",
       "      <td>167610324</td>\n",
       "      <td>kansas</td>\n",
       "      <td>usa</td>\n",
       "      <td>8 days left</td>\n",
       "    </tr>\n",
       "    <tr>\n",
       "      <th>6</th>\n",
       "      <td>371</td>\n",
       "      <td>371</td>\n",
       "      <td>0</td>\n",
       "      <td>ford</td>\n",
       "      <td>door</td>\n",
       "      <td>1998</td>\n",
       "      <td>salvage insurance</td>\n",
       "      <td>131367.0</td>\n",
       "      <td>white</td>\n",
       "      <td>1ftrf18l7wka62471</td>\n",
       "      <td>167611301</td>\n",
       "      <td>illinois</td>\n",
       "      <td>usa</td>\n",
       "      <td>17 hours left</td>\n",
       "    </tr>\n",
       "    <tr>\n",
       "      <th>7</th>\n",
       "      <td>314</td>\n",
       "      <td>314</td>\n",
       "      <td>0</td>\n",
       "      <td>ford</td>\n",
       "      <td>door</td>\n",
       "      <td>2013</td>\n",
       "      <td>salvage insurance</td>\n",
       "      <td>94004.0</td>\n",
       "      <td>black</td>\n",
       "      <td>3fa6p0h74dr270819</td>\n",
       "      <td>167610728</td>\n",
       "      <td>minnesota</td>\n",
       "      <td>usa</td>\n",
       "      <td>17 hours left</td>\n",
       "    </tr>\n",
       "    <tr>\n",
       "      <th>8</th>\n",
       "      <td>355</td>\n",
       "      <td>355</td>\n",
       "      <td>0</td>\n",
       "      <td>ford</td>\n",
       "      <td>door</td>\n",
       "      <td>2009</td>\n",
       "      <td>salvage insurance</td>\n",
       "      <td>184889.0</td>\n",
       "      <td>black</td>\n",
       "      <td>1fahp35n09w109143</td>\n",
       "      <td>167611047</td>\n",
       "      <td>illinois</td>\n",
       "      <td>usa</td>\n",
       "      <td>17 hours left</td>\n",
       "    </tr>\n",
       "    <tr>\n",
       "      <th>9</th>\n",
       "      <td>370</td>\n",
       "      <td>370</td>\n",
       "      <td>0</td>\n",
       "      <td>ford</td>\n",
       "      <td>door</td>\n",
       "      <td>1997</td>\n",
       "      <td>salvage insurance</td>\n",
       "      <td>146912.0</td>\n",
       "      <td>green</td>\n",
       "      <td>1ftdf18w8vna61251</td>\n",
       "      <td>167362449</td>\n",
       "      <td>wisconsin</td>\n",
       "      <td>usa</td>\n",
       "      <td>2 days left</td>\n",
       "    </tr>\n",
       "    <tr>\n",
       "      <th>10</th>\n",
       "      <td>322</td>\n",
       "      <td>322</td>\n",
       "      <td>0</td>\n",
       "      <td>ford</td>\n",
       "      <td>chassis</td>\n",
       "      <td>1994</td>\n",
       "      <td>salvage insurance</td>\n",
       "      <td>0.0</td>\n",
       "      <td>green</td>\n",
       "      <td>1fdee14n7rha47894</td>\n",
       "      <td>167359174</td>\n",
       "      <td>california</td>\n",
       "      <td>usa</td>\n",
       "      <td>19 hours left</td>\n",
       "    </tr>\n",
       "    <tr>\n",
       "      <th>11</th>\n",
       "      <td>196</td>\n",
       "      <td>196</td>\n",
       "      <td>0</td>\n",
       "      <td>ford</td>\n",
       "      <td>mpv</td>\n",
       "      <td>2017</td>\n",
       "      <td>clean vehicle</td>\n",
       "      <td>76858.0</td>\n",
       "      <td>white</td>\n",
       "      <td>1fbax2cv0hkb32599</td>\n",
       "      <td>167656523</td>\n",
       "      <td>texas</td>\n",
       "      <td>usa</td>\n",
       "      <td>2 days left</td>\n",
       "    </tr>\n",
       "    <tr>\n",
       "      <th>12</th>\n",
       "      <td>323</td>\n",
       "      <td>323</td>\n",
       "      <td>0</td>\n",
       "      <td>ford</td>\n",
       "      <td>door</td>\n",
       "      <td>1997</td>\n",
       "      <td>salvage insurance</td>\n",
       "      <td>203297.0</td>\n",
       "      <td>green</td>\n",
       "      <td>1fmdu35p7vub38059</td>\n",
       "      <td>167610731</td>\n",
       "      <td>minnesota</td>\n",
       "      <td>usa</td>\n",
       "      <td>17 hours left</td>\n",
       "    </tr>\n",
       "    <tr>\n",
       "      <th>13</th>\n",
       "      <td>330</td>\n",
       "      <td>330</td>\n",
       "      <td>0</td>\n",
       "      <td>ford</td>\n",
       "      <td>door</td>\n",
       "      <td>1996</td>\n",
       "      <td>salvage insurance</td>\n",
       "      <td>296860.0</td>\n",
       "      <td>green</td>\n",
       "      <td>1falp62w5th144314</td>\n",
       "      <td>167359712</td>\n",
       "      <td>california</td>\n",
       "      <td>usa</td>\n",
       "      <td>19 hours left</td>\n",
       "    </tr>\n",
       "    <tr>\n",
       "      <th>14</th>\n",
       "      <td>331</td>\n",
       "      <td>331</td>\n",
       "      <td>0</td>\n",
       "      <td>ford</td>\n",
       "      <td>door</td>\n",
       "      <td>2006</td>\n",
       "      <td>salvage insurance</td>\n",
       "      <td>203158.0</td>\n",
       "      <td>red</td>\n",
       "      <td>1fmzk04136ga07119</td>\n",
       "      <td>167610991</td>\n",
       "      <td>illinois</td>\n",
       "      <td>usa</td>\n",
       "      <td>17 hours left</td>\n",
       "    </tr>\n",
       "    <tr>\n",
       "      <th>15</th>\n",
       "      <td>354</td>\n",
       "      <td>354</td>\n",
       "      <td>0</td>\n",
       "      <td>ford</td>\n",
       "      <td>pickup</td>\n",
       "      <td>2009</td>\n",
       "      <td>salvage insurance</td>\n",
       "      <td>180364.0</td>\n",
       "      <td>blue</td>\n",
       "      <td>1ftyr10d19pa60391</td>\n",
       "      <td>167360535</td>\n",
       "      <td>tennessee</td>\n",
       "      <td>usa</td>\n",
       "      <td>2 days left</td>\n",
       "    </tr>\n",
       "    <tr>\n",
       "      <th>16</th>\n",
       "      <td>339</td>\n",
       "      <td>339</td>\n",
       "      <td>0</td>\n",
       "      <td>ford</td>\n",
       "      <td>door</td>\n",
       "      <td>2002</td>\n",
       "      <td>salvage insurance</td>\n",
       "      <td>214800.0</td>\n",
       "      <td>black</td>\n",
       "      <td>3fafp37372r151014</td>\n",
       "      <td>167360232</td>\n",
       "      <td>south carolina</td>\n",
       "      <td>usa</td>\n",
       "      <td>2 days left</td>\n",
       "    </tr>\n",
       "    <tr>\n",
       "      <th>17</th>\n",
       "      <td>435</td>\n",
       "      <td>435</td>\n",
       "      <td>0</td>\n",
       "      <td>ford</td>\n",
       "      <td>door</td>\n",
       "      <td>2004</td>\n",
       "      <td>salvage insurance</td>\n",
       "      <td>167011.0</td>\n",
       "      <td>red</td>\n",
       "      <td>1fmfu18l84lb61201</td>\n",
       "      <td>167601555</td>\n",
       "      <td>maryland</td>\n",
       "      <td>usa</td>\n",
       "      <td>16 hours left</td>\n",
       "    </tr>\n",
       "    <tr>\n",
       "      <th>18</th>\n",
       "      <td>470</td>\n",
       "      <td>470</td>\n",
       "      <td>25</td>\n",
       "      <td>ford</td>\n",
       "      <td>pk</td>\n",
       "      <td>2010</td>\n",
       "      <td>salvage insurance</td>\n",
       "      <td>155242.0</td>\n",
       "      <td>gray</td>\n",
       "      <td>1ftfx1ev7akc32939</td>\n",
       "      <td>167357792</td>\n",
       "      <td>oklahoma</td>\n",
       "      <td>usa</td>\n",
       "      <td>17 hours left</td>\n",
       "    </tr>\n",
       "    <tr>\n",
       "      <th>19</th>\n",
       "      <td>362</td>\n",
       "      <td>362</td>\n",
       "      <td>25</td>\n",
       "      <td>ford</td>\n",
       "      <td>pickup</td>\n",
       "      <td>1994</td>\n",
       "      <td>salvage insurance</td>\n",
       "      <td>206162.0</td>\n",
       "      <td>white</td>\n",
       "      <td>1ftdf15y2rnb12612</td>\n",
       "      <td>167361489</td>\n",
       "      <td>georgia</td>\n",
       "      <td>usa</td>\n",
       "      <td>2 days left</td>\n",
       "    </tr>\n",
       "  </tbody>\n",
       "</table>\n",
       "</div>"
      ],
      "text/plain": [
       "    index  Unnamed: 0  price brand    model  year       title_status  \\\n",
       "2     522         522      0  ford     door  2008  salvage insurance   \n",
       "3     510         510      0  ford     door  2010  salvage insurance   \n",
       "4     496         496      0  ford   pickup  1996  salvage insurance   \n",
       "5     305         305      0  ford     door  2003  salvage insurance   \n",
       "6     371         371      0  ford     door  1998  salvage insurance   \n",
       "7     314         314      0  ford     door  2013  salvage insurance   \n",
       "8     355         355      0  ford     door  2009  salvage insurance   \n",
       "9     370         370      0  ford     door  1997  salvage insurance   \n",
       "10    322         322      0  ford  chassis  1994  salvage insurance   \n",
       "11    196         196      0  ford      mpv  2017      clean vehicle   \n",
       "12    323         323      0  ford     door  1997  salvage insurance   \n",
       "13    330         330      0  ford     door  1996  salvage insurance   \n",
       "14    331         331      0  ford     door  2006  salvage insurance   \n",
       "15    354         354      0  ford   pickup  2009  salvage insurance   \n",
       "16    339         339      0  ford     door  2002  salvage insurance   \n",
       "17    435         435      0  ford     door  2004  salvage insurance   \n",
       "18    470         470     25  ford       pk  2010  salvage insurance   \n",
       "19    362         362     25  ford   pickup  1994  salvage insurance   \n",
       "\n",
       "     mileage   color                  vin        lot           state country  \\\n",
       "2   145483.0     red    1fmcu03128kc80487  167357813        oklahoma     usa   \n",
       "3    86841.0  silver    3fahp0ga3ar366961  167357806        oklahoma     usa   \n",
       "4   252588.0     red    1ftef15n0tlc14455  167357804        oklahoma     usa   \n",
       "5   246065.0    gold    1fafp55u03a242094  167610324          kansas     usa   \n",
       "6   131367.0   white    1ftrf18l7wka62471  167611301        illinois     usa   \n",
       "7    94004.0   black    3fa6p0h74dr270819  167610728       minnesota     usa   \n",
       "8   184889.0   black    1fahp35n09w109143  167611047        illinois     usa   \n",
       "9   146912.0   green    1ftdf18w8vna61251  167362449       wisconsin     usa   \n",
       "10       0.0   green    1fdee14n7rha47894  167359174      california     usa   \n",
       "11   76858.0   white    1fbax2cv0hkb32599  167656523           texas     usa   \n",
       "12  203297.0   green    1fmdu35p7vub38059  167610731       minnesota     usa   \n",
       "13  296860.0   green    1falp62w5th144314  167359712      california     usa   \n",
       "14  203158.0     red    1fmzk04136ga07119  167610991        illinois     usa   \n",
       "15  180364.0    blue    1ftyr10d19pa60391  167360535       tennessee     usa   \n",
       "16  214800.0   black    3fafp37372r151014  167360232  south carolina     usa   \n",
       "17  167011.0     red    1fmfu18l84lb61201  167601555        maryland     usa   \n",
       "18  155242.0    gray    1ftfx1ev7akc32939  167357792        oklahoma     usa   \n",
       "19  206162.0   white    1ftdf15y2rnb12612  167361489         georgia     usa   \n",
       "\n",
       "        condition  \n",
       "2   17 hours left  \n",
       "3   17 hours left  \n",
       "4   17 hours left  \n",
       "5     8 days left  \n",
       "6   17 hours left  \n",
       "7   17 hours left  \n",
       "8   17 hours left  \n",
       "9     2 days left  \n",
       "10  19 hours left  \n",
       "11    2 days left  \n",
       "12  17 hours left  \n",
       "13  19 hours left  \n",
       "14  17 hours left  \n",
       "15    2 days left  \n",
       "16    2 days left  \n",
       "17  16 hours left  \n",
       "18  17 hours left  \n",
       "19    2 days left  "
      ]
     },
     "execution_count": 179,
     "metadata": {},
     "output_type": "execute_result"
    }
   ],
   "source": [
    "car.head(18)"
   ]
  },
  {
   "cell_type": "code",
   "execution_count": 185,
   "metadata": {},
   "outputs": [],
   "source": [
    "car.dropna(how='all',inplace=True)"
   ]
  },
  {
   "cell_type": "code",
   "execution_count": 186,
   "metadata": {},
   "outputs": [
    {
     "data": {
      "text/html": [
       "<div>\n",
       "<style scoped>\n",
       "    .dataframe tbody tr th:only-of-type {\n",
       "        vertical-align: middle;\n",
       "    }\n",
       "\n",
       "    .dataframe tbody tr th {\n",
       "        vertical-align: top;\n",
       "    }\n",
       "\n",
       "    .dataframe thead th {\n",
       "        text-align: right;\n",
       "    }\n",
       "</style>\n",
       "<table border=\"1\" class=\"dataframe\">\n",
       "  <thead>\n",
       "    <tr style=\"text-align: right;\">\n",
       "      <th></th>\n",
       "      <th>index</th>\n",
       "      <th>Unnamed: 0</th>\n",
       "      <th>price</th>\n",
       "      <th>brand</th>\n",
       "      <th>model</th>\n",
       "      <th>year</th>\n",
       "      <th>title_status</th>\n",
       "      <th>mileage</th>\n",
       "      <th>color</th>\n",
       "      <th>vin</th>\n",
       "      <th>lot</th>\n",
       "      <th>state</th>\n",
       "      <th>country</th>\n",
       "      <th>condition</th>\n",
       "    </tr>\n",
       "  </thead>\n",
       "  <tbody>\n",
       "    <tr>\n",
       "      <th>2</th>\n",
       "      <td>522</td>\n",
       "      <td>522</td>\n",
       "      <td>0</td>\n",
       "      <td>ford</td>\n",
       "      <td>door</td>\n",
       "      <td>2008</td>\n",
       "      <td>salvage insurance</td>\n",
       "      <td>145483.0</td>\n",
       "      <td>red</td>\n",
       "      <td>1fmcu03128kc80487</td>\n",
       "      <td>167357813</td>\n",
       "      <td>oklahoma</td>\n",
       "      <td>usa</td>\n",
       "      <td>17 hours left</td>\n",
       "    </tr>\n",
       "    <tr>\n",
       "      <th>3</th>\n",
       "      <td>510</td>\n",
       "      <td>510</td>\n",
       "      <td>0</td>\n",
       "      <td>ford</td>\n",
       "      <td>door</td>\n",
       "      <td>2010</td>\n",
       "      <td>salvage insurance</td>\n",
       "      <td>86841.0</td>\n",
       "      <td>silver</td>\n",
       "      <td>3fahp0ga3ar366961</td>\n",
       "      <td>167357806</td>\n",
       "      <td>oklahoma</td>\n",
       "      <td>usa</td>\n",
       "      <td>17 hours left</td>\n",
       "    </tr>\n",
       "    <tr>\n",
       "      <th>4</th>\n",
       "      <td>496</td>\n",
       "      <td>496</td>\n",
       "      <td>0</td>\n",
       "      <td>ford</td>\n",
       "      <td>pickup</td>\n",
       "      <td>1996</td>\n",
       "      <td>salvage insurance</td>\n",
       "      <td>252588.0</td>\n",
       "      <td>red</td>\n",
       "      <td>1ftef15n0tlc14455</td>\n",
       "      <td>167357804</td>\n",
       "      <td>oklahoma</td>\n",
       "      <td>usa</td>\n",
       "      <td>17 hours left</td>\n",
       "    </tr>\n",
       "    <tr>\n",
       "      <th>5</th>\n",
       "      <td>305</td>\n",
       "      <td>305</td>\n",
       "      <td>0</td>\n",
       "      <td>ford</td>\n",
       "      <td>door</td>\n",
       "      <td>2003</td>\n",
       "      <td>salvage insurance</td>\n",
       "      <td>246065.0</td>\n",
       "      <td>gold</td>\n",
       "      <td>1fafp55u03a242094</td>\n",
       "      <td>167610324</td>\n",
       "      <td>kansas</td>\n",
       "      <td>usa</td>\n",
       "      <td>8 days left</td>\n",
       "    </tr>\n",
       "    <tr>\n",
       "      <th>6</th>\n",
       "      <td>371</td>\n",
       "      <td>371</td>\n",
       "      <td>0</td>\n",
       "      <td>ford</td>\n",
       "      <td>door</td>\n",
       "      <td>1998</td>\n",
       "      <td>salvage insurance</td>\n",
       "      <td>131367.0</td>\n",
       "      <td>white</td>\n",
       "      <td>1ftrf18l7wka62471</td>\n",
       "      <td>167611301</td>\n",
       "      <td>illinois</td>\n",
       "      <td>usa</td>\n",
       "      <td>17 hours left</td>\n",
       "    </tr>\n",
       "  </tbody>\n",
       "</table>\n",
       "</div>"
      ],
      "text/plain": [
       "   index  Unnamed: 0  price brand   model  year       title_status   mileage  \\\n",
       "2    522         522      0  ford    door  2008  salvage insurance  145483.0   \n",
       "3    510         510      0  ford    door  2010  salvage insurance   86841.0   \n",
       "4    496         496      0  ford  pickup  1996  salvage insurance  252588.0   \n",
       "5    305         305      0  ford    door  2003  salvage insurance  246065.0   \n",
       "6    371         371      0  ford    door  1998  salvage insurance  131367.0   \n",
       "\n",
       "    color                  vin        lot     state country      condition  \n",
       "2     red    1fmcu03128kc80487  167357813  oklahoma     usa  17 hours left  \n",
       "3  silver    3fahp0ga3ar366961  167357806  oklahoma     usa  17 hours left  \n",
       "4     red    1ftef15n0tlc14455  167357804  oklahoma     usa  17 hours left  \n",
       "5    gold    1fafp55u03a242094  167610324    kansas     usa    8 days left  \n",
       "6   white    1ftrf18l7wka62471  167611301  illinois     usa  17 hours left  "
      ]
     },
     "execution_count": 186,
     "metadata": {},
     "output_type": "execute_result"
    }
   ],
   "source": [
    "car.head()"
   ]
  },
  {
   "cell_type": "code",
   "execution_count": 190,
   "metadata": {},
   "outputs": [
    {
     "data": {
      "text/plain": [
       "2       True\n",
       "3       True\n",
       "4       True\n",
       "5       True\n",
       "6       True\n",
       "       ...  \n",
       "162    False\n",
       "163    False\n",
       "164    False\n",
       "165    False\n",
       "166    False\n",
       "Name: price, Length: 165, dtype: bool"
      ]
     },
     "execution_count": 190,
     "metadata": {},
     "output_type": "execute_result"
    }
   ],
   "source": [
    "car.price==0"
   ]
  },
  {
   "cell_type": "code",
   "execution_count": 175,
   "metadata": {},
   "outputs": [
    {
     "data": {
      "text/plain": [
       "index           0\n",
       "Unnamed: 0      0\n",
       "price           0\n",
       "brand           0\n",
       "model           0\n",
       "year            0\n",
       "title_status    0\n",
       "mileage         0\n",
       "color           0\n",
       "vin             0\n",
       "lot             0\n",
       "state           0\n",
       "country         0\n",
       "condition       0\n",
       "dtype: int64"
      ]
     },
     "execution_count": 175,
     "metadata": {},
     "output_type": "execute_result"
    }
   ],
   "source": [
    "car.isna().sum()"
   ]
  },
  {
   "cell_type": "code",
   "execution_count": 171,
   "metadata": {},
   "outputs": [],
   "source": [
    "car.dropna(inplace=True)"
   ]
  },
  {
   "cell_type": "code",
   "execution_count": 173,
   "metadata": {},
   "outputs": [
    {
     "data": {
      "text/html": [
       "<div>\n",
       "<style scoped>\n",
       "    .dataframe tbody tr th:only-of-type {\n",
       "        vertical-align: middle;\n",
       "    }\n",
       "\n",
       "    .dataframe tbody tr th {\n",
       "        vertical-align: top;\n",
       "    }\n",
       "\n",
       "    .dataframe thead th {\n",
       "        text-align: right;\n",
       "    }\n",
       "</style>\n",
       "<table border=\"1\" class=\"dataframe\">\n",
       "  <thead>\n",
       "    <tr style=\"text-align: right;\">\n",
       "      <th></th>\n",
       "      <th>index</th>\n",
       "      <th>Unnamed: 0</th>\n",
       "      <th>price</th>\n",
       "      <th>brand</th>\n",
       "      <th>model</th>\n",
       "      <th>year</th>\n",
       "      <th>title_status</th>\n",
       "      <th>mileage</th>\n",
       "      <th>color</th>\n",
       "      <th>vin</th>\n",
       "      <th>lot</th>\n",
       "      <th>state</th>\n",
       "      <th>country</th>\n",
       "      <th>condition</th>\n",
       "    </tr>\n",
       "  </thead>\n",
       "  <tbody>\n",
       "    <tr>\n",
       "      <th>2</th>\n",
       "      <td>522</td>\n",
       "      <td>522</td>\n",
       "      <td>0</td>\n",
       "      <td>ford</td>\n",
       "      <td>door</td>\n",
       "      <td>2008</td>\n",
       "      <td>salvage insurance</td>\n",
       "      <td>145483.0</td>\n",
       "      <td>red</td>\n",
       "      <td>1fmcu03128kc80487</td>\n",
       "      <td>167357813</td>\n",
       "      <td>oklahoma</td>\n",
       "      <td>usa</td>\n",
       "      <td>17 hours left</td>\n",
       "    </tr>\n",
       "    <tr>\n",
       "      <th>3</th>\n",
       "      <td>510</td>\n",
       "      <td>510</td>\n",
       "      <td>0</td>\n",
       "      <td>ford</td>\n",
       "      <td>door</td>\n",
       "      <td>2010</td>\n",
       "      <td>salvage insurance</td>\n",
       "      <td>86841.0</td>\n",
       "      <td>silver</td>\n",
       "      <td>3fahp0ga3ar366961</td>\n",
       "      <td>167357806</td>\n",
       "      <td>oklahoma</td>\n",
       "      <td>usa</td>\n",
       "      <td>17 hours left</td>\n",
       "    </tr>\n",
       "    <tr>\n",
       "      <th>4</th>\n",
       "      <td>496</td>\n",
       "      <td>496</td>\n",
       "      <td>0</td>\n",
       "      <td>ford</td>\n",
       "      <td>pickup</td>\n",
       "      <td>1996</td>\n",
       "      <td>salvage insurance</td>\n",
       "      <td>252588.0</td>\n",
       "      <td>red</td>\n",
       "      <td>1ftef15n0tlc14455</td>\n",
       "      <td>167357804</td>\n",
       "      <td>oklahoma</td>\n",
       "      <td>usa</td>\n",
       "      <td>17 hours left</td>\n",
       "    </tr>\n",
       "    <tr>\n",
       "      <th>5</th>\n",
       "      <td>305</td>\n",
       "      <td>305</td>\n",
       "      <td>0</td>\n",
       "      <td>ford</td>\n",
       "      <td>door</td>\n",
       "      <td>2003</td>\n",
       "      <td>salvage insurance</td>\n",
       "      <td>246065.0</td>\n",
       "      <td>gold</td>\n",
       "      <td>1fafp55u03a242094</td>\n",
       "      <td>167610324</td>\n",
       "      <td>kansas</td>\n",
       "      <td>usa</td>\n",
       "      <td>8 days left</td>\n",
       "    </tr>\n",
       "    <tr>\n",
       "      <th>6</th>\n",
       "      <td>371</td>\n",
       "      <td>371</td>\n",
       "      <td>0</td>\n",
       "      <td>ford</td>\n",
       "      <td>door</td>\n",
       "      <td>1998</td>\n",
       "      <td>salvage insurance</td>\n",
       "      <td>131367.0</td>\n",
       "      <td>white</td>\n",
       "      <td>1ftrf18l7wka62471</td>\n",
       "      <td>167611301</td>\n",
       "      <td>illinois</td>\n",
       "      <td>usa</td>\n",
       "      <td>17 hours left</td>\n",
       "    </tr>\n",
       "  </tbody>\n",
       "</table>\n",
       "</div>"
      ],
      "text/plain": [
       "   index  Unnamed: 0  price brand   model  year       title_status   mileage  \\\n",
       "2    522         522      0  ford    door  2008  salvage insurance  145483.0   \n",
       "3    510         510      0  ford    door  2010  salvage insurance   86841.0   \n",
       "4    496         496      0  ford  pickup  1996  salvage insurance  252588.0   \n",
       "5    305         305      0  ford    door  2003  salvage insurance  246065.0   \n",
       "6    371         371      0  ford    door  1998  salvage insurance  131367.0   \n",
       "\n",
       "    color                  vin        lot     state country      condition  \n",
       "2     red    1fmcu03128kc80487  167357813  oklahoma     usa  17 hours left  \n",
       "3  silver    3fahp0ga3ar366961  167357806  oklahoma     usa  17 hours left  \n",
       "4     red    1ftef15n0tlc14455  167357804  oklahoma     usa  17 hours left  \n",
       "5    gold    1fafp55u03a242094  167610324    kansas     usa    8 days left  \n",
       "6   white    1ftrf18l7wka62471  167611301  illinois     usa  17 hours left  "
      ]
     },
     "execution_count": 173,
     "metadata": {},
     "output_type": "execute_result"
    }
   ],
   "source": [
    "car.head()"
   ]
  },
  {
   "cell_type": "code",
   "execution_count": 166,
   "metadata": {},
   "outputs": [
    {
     "data": {
      "text/html": [
       "<div>\n",
       "<style scoped>\n",
       "    .dataframe tbody tr th:only-of-type {\n",
       "        vertical-align: middle;\n",
       "    }\n",
       "\n",
       "    .dataframe tbody tr th {\n",
       "        vertical-align: top;\n",
       "    }\n",
       "\n",
       "    .dataframe thead th {\n",
       "        text-align: right;\n",
       "    }\n",
       "</style>\n",
       "<table border=\"1\" class=\"dataframe\">\n",
       "  <thead>\n",
       "    <tr style=\"text-align: right;\">\n",
       "      <th></th>\n",
       "      <th>index</th>\n",
       "      <th>Unnamed: 0</th>\n",
       "      <th>price</th>\n",
       "      <th>brand</th>\n",
       "      <th>model</th>\n",
       "      <th>year</th>\n",
       "      <th>title_status</th>\n",
       "      <th>mileage</th>\n",
       "      <th>color</th>\n",
       "      <th>vin</th>\n",
       "      <th>lot</th>\n",
       "      <th>state</th>\n",
       "      <th>country</th>\n",
       "      <th>condition</th>\n",
       "    </tr>\n",
       "  </thead>\n",
       "  <tbody>\n",
       "    <tr>\n",
       "      <th>162</th>\n",
       "      <td>1393</td>\n",
       "      <td>1393</td>\n",
       "      <td>7000</td>\n",
       "      <td>ford</td>\n",
       "      <td>door</td>\n",
       "      <td>2012</td>\n",
       "      <td>clean vehicle</td>\n",
       "      <td>149712.0</td>\n",
       "      <td>silver</td>\n",
       "      <td>1ftfw1cf5cfa60758</td>\n",
       "      <td>167484061</td>\n",
       "      <td>texas</td>\n",
       "      <td>usa</td>\n",
       "      <td>4 days left</td>\n",
       "    </tr>\n",
       "    <tr>\n",
       "      <th>163</th>\n",
       "      <td>39</td>\n",
       "      <td>39</td>\n",
       "      <td>7000</td>\n",
       "      <td>ford</td>\n",
       "      <td>pk</td>\n",
       "      <td>2003</td>\n",
       "      <td>clean vehicle</td>\n",
       "      <td>176567.0</td>\n",
       "      <td>white</td>\n",
       "      <td>1ftnx20p73ed69682</td>\n",
       "      <td>167754187</td>\n",
       "      <td>tennessee</td>\n",
       "      <td>usa</td>\n",
       "      <td>22 hours left</td>\n",
       "    </tr>\n",
       "    <tr>\n",
       "      <th>164</th>\n",
       "      <td>111</td>\n",
       "      <td>111</td>\n",
       "      <td>7000</td>\n",
       "      <td>ford</td>\n",
       "      <td>mpv</td>\n",
       "      <td>2017</td>\n",
       "      <td>clean vehicle</td>\n",
       "      <td>29882.0</td>\n",
       "      <td>white</td>\n",
       "      <td>1fm5k7d84hgc31359</td>\n",
       "      <td>167656363</td>\n",
       "      <td>texas</td>\n",
       "      <td>usa</td>\n",
       "      <td>2 days left</td>\n",
       "    </tr>\n",
       "    <tr>\n",
       "      <th>165</th>\n",
       "      <td>2156</td>\n",
       "      <td>2156</td>\n",
       "      <td>7000</td>\n",
       "      <td>ford</td>\n",
       "      <td>focus</td>\n",
       "      <td>2017</td>\n",
       "      <td>clean vehicle</td>\n",
       "      <td>57889.0</td>\n",
       "      <td>black</td>\n",
       "      <td>1fadp3f25hl234464</td>\n",
       "      <td>167802313</td>\n",
       "      <td>north carolina</td>\n",
       "      <td>usa</td>\n",
       "      <td>2 days left</td>\n",
       "    </tr>\n",
       "    <tr>\n",
       "      <th>166</th>\n",
       "      <td>1449</td>\n",
       "      <td>1449</td>\n",
       "      <td>7000</td>\n",
       "      <td>ford</td>\n",
       "      <td>door</td>\n",
       "      <td>2019</td>\n",
       "      <td>salvage insurance</td>\n",
       "      <td>11930.0</td>\n",
       "      <td>white</td>\n",
       "      <td>1ftyr1zm3kkb00458</td>\n",
       "      <td>167624798</td>\n",
       "      <td>michigan</td>\n",
       "      <td>usa</td>\n",
       "      <td>2 days left</td>\n",
       "    </tr>\n",
       "  </tbody>\n",
       "</table>\n",
       "</div>"
      ],
      "text/plain": [
       "     index  Unnamed: 0  price brand  model  year       title_status   mileage  \\\n",
       "162   1393        1393   7000  ford   door  2012      clean vehicle  149712.0   \n",
       "163     39          39   7000  ford     pk  2003      clean vehicle  176567.0   \n",
       "164    111         111   7000  ford    mpv  2017      clean vehicle   29882.0   \n",
       "165   2156        2156   7000  ford  focus  2017      clean vehicle   57889.0   \n",
       "166   1449        1449   7000  ford   door  2019  salvage insurance   11930.0   \n",
       "\n",
       "      color                  vin        lot           state country  \\\n",
       "162  silver    1ftfw1cf5cfa60758  167484061           texas     usa   \n",
       "163   white    1ftnx20p73ed69682  167754187       tennessee     usa   \n",
       "164   white    1fm5k7d84hgc31359  167656363           texas     usa   \n",
       "165   black    1fadp3f25hl234464  167802313  north carolina     usa   \n",
       "166   white    1ftyr1zm3kkb00458  167624798        michigan     usa   \n",
       "\n",
       "         condition  \n",
       "162    4 days left  \n",
       "163  22 hours left  \n",
       "164    2 days left  \n",
       "165    2 days left  \n",
       "166    2 days left  "
      ]
     },
     "execution_count": 166,
     "metadata": {},
     "output_type": "execute_result"
    }
   ],
   "source": [
    "car.tail()"
   ]
  },
  {
   "cell_type": "code",
   "execution_count": 167,
   "metadata": {},
   "outputs": [
    {
     "data": {
      "text/plain": [
       "2       True\n",
       "3       True\n",
       "4       True\n",
       "5       True\n",
       "6       True\n",
       "       ...  \n",
       "162    False\n",
       "163    False\n",
       "164    False\n",
       "165    False\n",
       "166    False\n",
       "Name: price, Length: 165, dtype: bool"
      ]
     },
     "execution_count": 167,
     "metadata": {},
     "output_type": "execute_result"
    }
   ],
   "source": [
    "car.price==0"
   ]
  },
  {
   "cell_type": "code",
   "execution_count": 21,
   "metadata": {},
   "outputs": [],
   "source": [
    "car.sort_values(by='price',inplace=True)"
   ]
  },
  {
   "cell_type": "code",
   "execution_count": 22,
   "metadata": {},
   "outputs": [],
   "source": [
    "car.reset_index(inplace=True)"
   ]
  },
  {
   "cell_type": "code",
   "execution_count": 23,
   "metadata": {},
   "outputs": [
    {
     "data": {
      "text/html": [
       "<div>\n",
       "<style scoped>\n",
       "    .dataframe tbody tr th:only-of-type {\n",
       "        vertical-align: middle;\n",
       "    }\n",
       "\n",
       "    .dataframe tbody tr th {\n",
       "        vertical-align: top;\n",
       "    }\n",
       "\n",
       "    .dataframe thead th {\n",
       "        text-align: right;\n",
       "    }\n",
       "</style>\n",
       "<table border=\"1\" class=\"dataframe\">\n",
       "  <thead>\n",
       "    <tr style=\"text-align: right;\">\n",
       "      <th></th>\n",
       "      <th>index</th>\n",
       "      <th>Unnamed: 0</th>\n",
       "      <th>price</th>\n",
       "      <th>brand</th>\n",
       "      <th>model</th>\n",
       "      <th>year</th>\n",
       "      <th>title_status</th>\n",
       "      <th>mileage</th>\n",
       "      <th>color</th>\n",
       "      <th>vin</th>\n",
       "      <th>lot</th>\n",
       "      <th>state</th>\n",
       "      <th>country</th>\n",
       "      <th>condition</th>\n",
       "    </tr>\n",
       "  </thead>\n",
       "  <tbody>\n",
       "    <tr>\n",
       "      <th>0</th>\n",
       "      <td>313</td>\n",
       "      <td>313</td>\n",
       "      <td>0</td>\n",
       "      <td>ford</td>\n",
       "      <td>van</td>\n",
       "      <td>1998</td>\n",
       "      <td>salvage insurance</td>\n",
       "      <td>186855.0</td>\n",
       "      <td>blue</td>\n",
       "      <td>2fmda5143wba16791</td>\n",
       "      <td>167359170</td>\n",
       "      <td>california</td>\n",
       "      <td>usa</td>\n",
       "      <td>19 hours left</td>\n",
       "    </tr>\n",
       "    <tr>\n",
       "      <th>1</th>\n",
       "      <td>285</td>\n",
       "      <td>285</td>\n",
       "      <td>0</td>\n",
       "      <td>ford</td>\n",
       "      <td>door</td>\n",
       "      <td>2000</td>\n",
       "      <td>salvage insurance</td>\n",
       "      <td>124969.0</td>\n",
       "      <td>black</td>\n",
       "      <td>1fafp34p7yw270338</td>\n",
       "      <td>167251902</td>\n",
       "      <td>oklahoma</td>\n",
       "      <td>usa</td>\n",
       "      <td>17 hours left</td>\n",
       "    </tr>\n",
       "    <tr>\n",
       "      <th>2</th>\n",
       "      <td>522</td>\n",
       "      <td>522</td>\n",
       "      <td>0</td>\n",
       "      <td>ford</td>\n",
       "      <td>door</td>\n",
       "      <td>2008</td>\n",
       "      <td>salvage insurance</td>\n",
       "      <td>145483.0</td>\n",
       "      <td>red</td>\n",
       "      <td>1fmcu03128kc80487</td>\n",
       "      <td>167357813</td>\n",
       "      <td>oklahoma</td>\n",
       "      <td>usa</td>\n",
       "      <td>17 hours left</td>\n",
       "    </tr>\n",
       "    <tr>\n",
       "      <th>3</th>\n",
       "      <td>510</td>\n",
       "      <td>510</td>\n",
       "      <td>0</td>\n",
       "      <td>ford</td>\n",
       "      <td>door</td>\n",
       "      <td>2010</td>\n",
       "      <td>salvage insurance</td>\n",
       "      <td>86841.0</td>\n",
       "      <td>silver</td>\n",
       "      <td>3fahp0ga3ar366961</td>\n",
       "      <td>167357806</td>\n",
       "      <td>oklahoma</td>\n",
       "      <td>usa</td>\n",
       "      <td>17 hours left</td>\n",
       "    </tr>\n",
       "    <tr>\n",
       "      <th>4</th>\n",
       "      <td>496</td>\n",
       "      <td>496</td>\n",
       "      <td>0</td>\n",
       "      <td>ford</td>\n",
       "      <td>pickup</td>\n",
       "      <td>1996</td>\n",
       "      <td>salvage insurance</td>\n",
       "      <td>252588.0</td>\n",
       "      <td>red</td>\n",
       "      <td>1ftef15n0tlc14455</td>\n",
       "      <td>167357804</td>\n",
       "      <td>oklahoma</td>\n",
       "      <td>usa</td>\n",
       "      <td>17 hours left</td>\n",
       "    </tr>\n",
       "    <tr>\n",
       "      <th>5</th>\n",
       "      <td>305</td>\n",
       "      <td>305</td>\n",
       "      <td>0</td>\n",
       "      <td>ford</td>\n",
       "      <td>door</td>\n",
       "      <td>2003</td>\n",
       "      <td>salvage insurance</td>\n",
       "      <td>246065.0</td>\n",
       "      <td>gold</td>\n",
       "      <td>1fafp55u03a242094</td>\n",
       "      <td>167610324</td>\n",
       "      <td>kansas</td>\n",
       "      <td>usa</td>\n",
       "      <td>8 days left</td>\n",
       "    </tr>\n",
       "    <tr>\n",
       "      <th>6</th>\n",
       "      <td>371</td>\n",
       "      <td>371</td>\n",
       "      <td>0</td>\n",
       "      <td>ford</td>\n",
       "      <td>door</td>\n",
       "      <td>1998</td>\n",
       "      <td>salvage insurance</td>\n",
       "      <td>131367.0</td>\n",
       "      <td>white</td>\n",
       "      <td>1ftrf18l7wka62471</td>\n",
       "      <td>167611301</td>\n",
       "      <td>illinois</td>\n",
       "      <td>usa</td>\n",
       "      <td>17 hours left</td>\n",
       "    </tr>\n",
       "    <tr>\n",
       "      <th>7</th>\n",
       "      <td>314</td>\n",
       "      <td>314</td>\n",
       "      <td>0</td>\n",
       "      <td>ford</td>\n",
       "      <td>door</td>\n",
       "      <td>2013</td>\n",
       "      <td>salvage insurance</td>\n",
       "      <td>94004.0</td>\n",
       "      <td>black</td>\n",
       "      <td>3fa6p0h74dr270819</td>\n",
       "      <td>167610728</td>\n",
       "      <td>minnesota</td>\n",
       "      <td>usa</td>\n",
       "      <td>17 hours left</td>\n",
       "    </tr>\n",
       "    <tr>\n",
       "      <th>8</th>\n",
       "      <td>355</td>\n",
       "      <td>355</td>\n",
       "      <td>0</td>\n",
       "      <td>ford</td>\n",
       "      <td>door</td>\n",
       "      <td>2009</td>\n",
       "      <td>salvage insurance</td>\n",
       "      <td>184889.0</td>\n",
       "      <td>black</td>\n",
       "      <td>1fahp35n09w109143</td>\n",
       "      <td>167611047</td>\n",
       "      <td>illinois</td>\n",
       "      <td>usa</td>\n",
       "      <td>17 hours left</td>\n",
       "    </tr>\n",
       "    <tr>\n",
       "      <th>9</th>\n",
       "      <td>370</td>\n",
       "      <td>370</td>\n",
       "      <td>0</td>\n",
       "      <td>ford</td>\n",
       "      <td>door</td>\n",
       "      <td>1997</td>\n",
       "      <td>salvage insurance</td>\n",
       "      <td>146912.0</td>\n",
       "      <td>green</td>\n",
       "      <td>1ftdf18w8vna61251</td>\n",
       "      <td>167362449</td>\n",
       "      <td>wisconsin</td>\n",
       "      <td>usa</td>\n",
       "      <td>2 days left</td>\n",
       "    </tr>\n",
       "  </tbody>\n",
       "</table>\n",
       "</div>"
      ],
      "text/plain": [
       "   index  Unnamed: 0  price brand   model  year       title_status   mileage  \\\n",
       "0    313         313      0  ford     van  1998  salvage insurance  186855.0   \n",
       "1    285         285      0  ford    door  2000  salvage insurance  124969.0   \n",
       "2    522         522      0  ford    door  2008  salvage insurance  145483.0   \n",
       "3    510         510      0  ford    door  2010  salvage insurance   86841.0   \n",
       "4    496         496      0  ford  pickup  1996  salvage insurance  252588.0   \n",
       "5    305         305      0  ford    door  2003  salvage insurance  246065.0   \n",
       "6    371         371      0  ford    door  1998  salvage insurance  131367.0   \n",
       "7    314         314      0  ford    door  2013  salvage insurance   94004.0   \n",
       "8    355         355      0  ford    door  2009  salvage insurance  184889.0   \n",
       "9    370         370      0  ford    door  1997  salvage insurance  146912.0   \n",
       "\n",
       "    color                  vin        lot       state country      condition  \n",
       "0    blue    2fmda5143wba16791  167359170  california     usa  19 hours left  \n",
       "1   black    1fafp34p7yw270338  167251902    oklahoma     usa  17 hours left  \n",
       "2     red    1fmcu03128kc80487  167357813    oklahoma     usa  17 hours left  \n",
       "3  silver    3fahp0ga3ar366961  167357806    oklahoma     usa  17 hours left  \n",
       "4     red    1ftef15n0tlc14455  167357804    oklahoma     usa  17 hours left  \n",
       "5    gold    1fafp55u03a242094  167610324      kansas     usa    8 days left  \n",
       "6   white    1ftrf18l7wka62471  167611301    illinois     usa  17 hours left  \n",
       "7   black    3fa6p0h74dr270819  167610728   minnesota     usa  17 hours left  \n",
       "8   black    1fahp35n09w109143  167611047    illinois     usa  17 hours left  \n",
       "9   green    1ftdf18w8vna61251  167362449   wisconsin     usa    2 days left  "
      ]
     },
     "execution_count": 23,
     "metadata": {},
     "output_type": "execute_result"
    }
   ],
   "source": [
    "car.head(10)"
   ]
  },
  {
   "cell_type": "code",
   "execution_count": 24,
   "metadata": {},
   "outputs": [
    {
     "data": {
      "text/html": [
       "<div>\n",
       "<style scoped>\n",
       "    .dataframe tbody tr th:only-of-type {\n",
       "        vertical-align: middle;\n",
       "    }\n",
       "\n",
       "    .dataframe tbody tr th {\n",
       "        vertical-align: top;\n",
       "    }\n",
       "\n",
       "    .dataframe thead th {\n",
       "        text-align: right;\n",
       "    }\n",
       "</style>\n",
       "<table border=\"1\" class=\"dataframe\">\n",
       "  <thead>\n",
       "    <tr style=\"text-align: right;\">\n",
       "      <th></th>\n",
       "      <th>index</th>\n",
       "      <th>Unnamed: 0</th>\n",
       "      <th>price</th>\n",
       "      <th>brand</th>\n",
       "      <th>model</th>\n",
       "      <th>year</th>\n",
       "      <th>title_status</th>\n",
       "      <th>mileage</th>\n",
       "      <th>color</th>\n",
       "      <th>vin</th>\n",
       "      <th>lot</th>\n",
       "      <th>state</th>\n",
       "      <th>country</th>\n",
       "      <th>condition</th>\n",
       "    </tr>\n",
       "  </thead>\n",
       "  <tbody>\n",
       "    <tr>\n",
       "      <th>0</th>\n",
       "      <td>False</td>\n",
       "      <td>False</td>\n",
       "      <td>False</td>\n",
       "      <td>False</td>\n",
       "      <td>False</td>\n",
       "      <td>False</td>\n",
       "      <td>False</td>\n",
       "      <td>False</td>\n",
       "      <td>False</td>\n",
       "      <td>False</td>\n",
       "      <td>False</td>\n",
       "      <td>False</td>\n",
       "      <td>False</td>\n",
       "      <td>False</td>\n",
       "    </tr>\n",
       "    <tr>\n",
       "      <th>1</th>\n",
       "      <td>False</td>\n",
       "      <td>False</td>\n",
       "      <td>False</td>\n",
       "      <td>False</td>\n",
       "      <td>False</td>\n",
       "      <td>False</td>\n",
       "      <td>False</td>\n",
       "      <td>False</td>\n",
       "      <td>False</td>\n",
       "      <td>False</td>\n",
       "      <td>False</td>\n",
       "      <td>False</td>\n",
       "      <td>False</td>\n",
       "      <td>False</td>\n",
       "    </tr>\n",
       "    <tr>\n",
       "      <th>2</th>\n",
       "      <td>False</td>\n",
       "      <td>False</td>\n",
       "      <td>False</td>\n",
       "      <td>False</td>\n",
       "      <td>False</td>\n",
       "      <td>False</td>\n",
       "      <td>False</td>\n",
       "      <td>False</td>\n",
       "      <td>False</td>\n",
       "      <td>False</td>\n",
       "      <td>False</td>\n",
       "      <td>False</td>\n",
       "      <td>False</td>\n",
       "      <td>False</td>\n",
       "    </tr>\n",
       "    <tr>\n",
       "      <th>3</th>\n",
       "      <td>False</td>\n",
       "      <td>False</td>\n",
       "      <td>False</td>\n",
       "      <td>False</td>\n",
       "      <td>False</td>\n",
       "      <td>False</td>\n",
       "      <td>False</td>\n",
       "      <td>False</td>\n",
       "      <td>False</td>\n",
       "      <td>False</td>\n",
       "      <td>False</td>\n",
       "      <td>False</td>\n",
       "      <td>False</td>\n",
       "      <td>False</td>\n",
       "    </tr>\n",
       "    <tr>\n",
       "      <th>4</th>\n",
       "      <td>False</td>\n",
       "      <td>False</td>\n",
       "      <td>False</td>\n",
       "      <td>False</td>\n",
       "      <td>False</td>\n",
       "      <td>False</td>\n",
       "      <td>False</td>\n",
       "      <td>False</td>\n",
       "      <td>False</td>\n",
       "      <td>False</td>\n",
       "      <td>False</td>\n",
       "      <td>False</td>\n",
       "      <td>False</td>\n",
       "      <td>False</td>\n",
       "    </tr>\n",
       "    <tr>\n",
       "      <th>5</th>\n",
       "      <td>False</td>\n",
       "      <td>False</td>\n",
       "      <td>False</td>\n",
       "      <td>False</td>\n",
       "      <td>False</td>\n",
       "      <td>False</td>\n",
       "      <td>False</td>\n",
       "      <td>False</td>\n",
       "      <td>False</td>\n",
       "      <td>False</td>\n",
       "      <td>False</td>\n",
       "      <td>False</td>\n",
       "      <td>False</td>\n",
       "      <td>False</td>\n",
       "    </tr>\n",
       "    <tr>\n",
       "      <th>6</th>\n",
       "      <td>False</td>\n",
       "      <td>False</td>\n",
       "      <td>False</td>\n",
       "      <td>False</td>\n",
       "      <td>False</td>\n",
       "      <td>False</td>\n",
       "      <td>False</td>\n",
       "      <td>False</td>\n",
       "      <td>False</td>\n",
       "      <td>False</td>\n",
       "      <td>False</td>\n",
       "      <td>False</td>\n",
       "      <td>False</td>\n",
       "      <td>False</td>\n",
       "    </tr>\n",
       "    <tr>\n",
       "      <th>7</th>\n",
       "      <td>False</td>\n",
       "      <td>False</td>\n",
       "      <td>False</td>\n",
       "      <td>False</td>\n",
       "      <td>False</td>\n",
       "      <td>False</td>\n",
       "      <td>False</td>\n",
       "      <td>False</td>\n",
       "      <td>False</td>\n",
       "      <td>False</td>\n",
       "      <td>False</td>\n",
       "      <td>False</td>\n",
       "      <td>False</td>\n",
       "      <td>False</td>\n",
       "    </tr>\n",
       "  </tbody>\n",
       "</table>\n",
       "</div>"
      ],
      "text/plain": [
       "   index  Unnamed: 0  price  brand  model   year  title_status  mileage  \\\n",
       "0  False       False  False  False  False  False         False    False   \n",
       "1  False       False  False  False  False  False         False    False   \n",
       "2  False       False  False  False  False  False         False    False   \n",
       "3  False       False  False  False  False  False         False    False   \n",
       "4  False       False  False  False  False  False         False    False   \n",
       "5  False       False  False  False  False  False         False    False   \n",
       "6  False       False  False  False  False  False         False    False   \n",
       "7  False       False  False  False  False  False         False    False   \n",
       "\n",
       "   color    vin    lot  state  country  condition  \n",
       "0  False  False  False  False    False      False  \n",
       "1  False  False  False  False    False      False  \n",
       "2  False  False  False  False    False      False  \n",
       "3  False  False  False  False    False      False  \n",
       "4  False  False  False  False    False      False  \n",
       "5  False  False  False  False    False      False  \n",
       "6  False  False  False  False    False      False  \n",
       "7  False  False  False  False    False      False  "
      ]
     },
     "execution_count": 24,
     "metadata": {},
     "output_type": "execute_result"
    }
   ],
   "source": [
    "car.isnull().head(8) #DOUBT"
   ]
  },
  {
   "cell_type": "code",
   "execution_count": 25,
   "metadata": {},
   "outputs": [
    {
     "data": {
      "text/plain": [
       "0       False\n",
       "1       False\n",
       "2       False\n",
       "3       False\n",
       "4       False\n",
       "        ...  \n",
       "1230    False\n",
       "1231    False\n",
       "1232    False\n",
       "1233    False\n",
       "1234    False\n",
       "Name: price, Length: 1235, dtype: bool"
      ]
     },
     "execution_count": 25,
     "metadata": {},
     "output_type": "execute_result"
    }
   ],
   "source": [
    "car['price'].isnull() #DOUBT"
   ]
  },
  {
   "cell_type": "code",
   "execution_count": 26,
   "metadata": {},
   "outputs": [
    {
     "data": {
      "text/html": [
       "<div>\n",
       "<style scoped>\n",
       "    .dataframe tbody tr th:only-of-type {\n",
       "        vertical-align: middle;\n",
       "    }\n",
       "\n",
       "    .dataframe tbody tr th {\n",
       "        vertical-align: top;\n",
       "    }\n",
       "\n",
       "    .dataframe thead th {\n",
       "        text-align: right;\n",
       "    }\n",
       "</style>\n",
       "<table border=\"1\" class=\"dataframe\">\n",
       "  <thead>\n",
       "    <tr style=\"text-align: right;\">\n",
       "      <th></th>\n",
       "      <th>index</th>\n",
       "      <th>Unnamed: 0</th>\n",
       "      <th>price</th>\n",
       "      <th>brand</th>\n",
       "      <th>model</th>\n",
       "      <th>year</th>\n",
       "      <th>title_status</th>\n",
       "      <th>mileage</th>\n",
       "      <th>color</th>\n",
       "      <th>vin</th>\n",
       "      <th>lot</th>\n",
       "      <th>state</th>\n",
       "      <th>country</th>\n",
       "      <th>condition</th>\n",
       "    </tr>\n",
       "  </thead>\n",
       "  <tbody>\n",
       "    <tr>\n",
       "      <th>0</th>\n",
       "      <td>313</td>\n",
       "      <td>313</td>\n",
       "      <td>0</td>\n",
       "      <td>ford</td>\n",
       "      <td>van</td>\n",
       "      <td>1998</td>\n",
       "      <td>salvage insurance</td>\n",
       "      <td>186855.0</td>\n",
       "      <td>blue</td>\n",
       "      <td>2fmda5143wba16791</td>\n",
       "      <td>167359170</td>\n",
       "      <td>california</td>\n",
       "      <td>usa</td>\n",
       "      <td>19 hours left</td>\n",
       "    </tr>\n",
       "    <tr>\n",
       "      <th>1</th>\n",
       "      <td>285</td>\n",
       "      <td>285</td>\n",
       "      <td>0</td>\n",
       "      <td>ford</td>\n",
       "      <td>door</td>\n",
       "      <td>2000</td>\n",
       "      <td>salvage insurance</td>\n",
       "      <td>124969.0</td>\n",
       "      <td>black</td>\n",
       "      <td>1fafp34p7yw270338</td>\n",
       "      <td>167251902</td>\n",
       "      <td>oklahoma</td>\n",
       "      <td>usa</td>\n",
       "      <td>17 hours left</td>\n",
       "    </tr>\n",
       "    <tr>\n",
       "      <th>2</th>\n",
       "      <td>522</td>\n",
       "      <td>522</td>\n",
       "      <td>0</td>\n",
       "      <td>ford</td>\n",
       "      <td>door</td>\n",
       "      <td>2008</td>\n",
       "      <td>salvage insurance</td>\n",
       "      <td>145483.0</td>\n",
       "      <td>red</td>\n",
       "      <td>1fmcu03128kc80487</td>\n",
       "      <td>167357813</td>\n",
       "      <td>oklahoma</td>\n",
       "      <td>usa</td>\n",
       "      <td>17 hours left</td>\n",
       "    </tr>\n",
       "    <tr>\n",
       "      <th>3</th>\n",
       "      <td>510</td>\n",
       "      <td>510</td>\n",
       "      <td>0</td>\n",
       "      <td>ford</td>\n",
       "      <td>door</td>\n",
       "      <td>2010</td>\n",
       "      <td>salvage insurance</td>\n",
       "      <td>86841.0</td>\n",
       "      <td>silver</td>\n",
       "      <td>3fahp0ga3ar366961</td>\n",
       "      <td>167357806</td>\n",
       "      <td>oklahoma</td>\n",
       "      <td>usa</td>\n",
       "      <td>17 hours left</td>\n",
       "    </tr>\n",
       "    <tr>\n",
       "      <th>4</th>\n",
       "      <td>496</td>\n",
       "      <td>496</td>\n",
       "      <td>0</td>\n",
       "      <td>ford</td>\n",
       "      <td>pickup</td>\n",
       "      <td>1996</td>\n",
       "      <td>salvage insurance</td>\n",
       "      <td>252588.0</td>\n",
       "      <td>red</td>\n",
       "      <td>1ftef15n0tlc14455</td>\n",
       "      <td>167357804</td>\n",
       "      <td>oklahoma</td>\n",
       "      <td>usa</td>\n",
       "      <td>17 hours left</td>\n",
       "    </tr>\n",
       "  </tbody>\n",
       "</table>\n",
       "</div>"
      ],
      "text/plain": [
       "   index  Unnamed: 0  price brand   model  year       title_status   mileage  \\\n",
       "0    313         313      0  ford     van  1998  salvage insurance  186855.0   \n",
       "1    285         285      0  ford    door  2000  salvage insurance  124969.0   \n",
       "2    522         522      0  ford    door  2008  salvage insurance  145483.0   \n",
       "3    510         510      0  ford    door  2010  salvage insurance   86841.0   \n",
       "4    496         496      0  ford  pickup  1996  salvage insurance  252588.0   \n",
       "\n",
       "    color                  vin        lot       state country      condition  \n",
       "0    blue    2fmda5143wba16791  167359170  california     usa  19 hours left  \n",
       "1   black    1fafp34p7yw270338  167251902    oklahoma     usa  17 hours left  \n",
       "2     red    1fmcu03128kc80487  167357813    oklahoma     usa  17 hours left  \n",
       "3  silver    3fahp0ga3ar366961  167357806    oklahoma     usa  17 hours left  \n",
       "4     red    1ftef15n0tlc14455  167357804    oklahoma     usa  17 hours left  "
      ]
     },
     "execution_count": 26,
     "metadata": {},
     "output_type": "execute_result"
    }
   ],
   "source": [
    "car.head()"
   ]
  },
  {
   "cell_type": "code",
   "execution_count": 27,
   "metadata": {},
   "outputs": [
    {
     "data": {
      "text/plain": [
       "(1235, 14)"
      ]
     },
     "execution_count": 27,
     "metadata": {},
     "output_type": "execute_result"
    }
   ],
   "source": [
    "car.shape"
   ]
  },
  {
   "cell_type": "code",
   "execution_count": 28,
   "metadata": {},
   "outputs": [
    {
     "data": {
      "text/plain": [
       "<AxesSubplot:xlabel='price', ylabel='mileage'>"
      ]
     },
     "execution_count": 28,
     "metadata": {},
     "output_type": "execute_result"
    },
    {
     "data": {
      "image/png": "[encoded data removed]",
      "text/plain": [
       "<Figure size 432x288 with 1 Axes>"
      ]
     },
     "metadata": {
      "needs_background": "light"
     },
     "output_type": "display_data"
    }
   ],
   "source": [
    "sns.scatterplot(x='price', y='mileage', hue='model',data=car)"
   ]
  },
  {
   "cell_type": "code",
   "execution_count": 29,
   "metadata": {},
   "outputs": [],
   "source": [
    "car.dropna(subset=['price'], inplace = True)\n"
   ]
  },
  {
   "cell_type": "code",
   "execution_count": 30,
   "metadata": {},
   "outputs": [
    {
     "data": {
      "text/plain": [
       "(1235, 14)"
      ]
     },
     "execution_count": 30,
     "metadata": {},
     "output_type": "execute_result"
    }
   ],
   "source": [
    "car.shape"
   ]
  },
  {
   "cell_type": "code",
   "execution_count": 31,
   "metadata": {},
   "outputs": [
    {
     "data": {
      "text/plain": [
       "0       False\n",
       "1       False\n",
       "2       False\n",
       "3       False\n",
       "4       False\n",
       "        ...  \n",
       "1230     True\n",
       "1231     True\n",
       "1232     True\n",
       "1233     True\n",
       "1234     True\n",
       "Name: price, Length: 1235, dtype: bool"
      ]
     },
     "execution_count": 31,
     "metadata": {},
     "output_type": "execute_result"
    }
   ],
   "source": [
    "car.price>7000"
   ]
  },
  {
   "cell_type": "code",
   "execution_count": 32,
   "metadata": {},
   "outputs": [],
   "source": [
    "car.drop(car[car.price>7000].index, inplace= True) #dropping a row"
   ]
  },
  {
   "cell_type": "code",
   "execution_count": 33,
   "metadata": {},
   "outputs": [
    {
     "data": {
      "text/plain": [
       "(167, 14)"
      ]
     },
     "execution_count": 33,
     "metadata": {},
     "output_type": "execute_result"
    }
   ],
   "source": [
    "car.shape"
   ]
  },
  {
   "cell_type": "code",
   "execution_count": 34,
   "metadata": {},
   "outputs": [
    {
     "data": {
      "text/html": [
       "<div>\n",
       "<style scoped>\n",
       "    .dataframe tbody tr th:only-of-type {\n",
       "        vertical-align: middle;\n",
       "    }\n",
       "\n",
       "    .dataframe tbody tr th {\n",
       "        vertical-align: top;\n",
       "    }\n",
       "\n",
       "    .dataframe thead th {\n",
       "        text-align: right;\n",
       "    }\n",
       "</style>\n",
       "<table border=\"1\" class=\"dataframe\">\n",
       "  <thead>\n",
       "    <tr style=\"text-align: right;\">\n",
       "      <th></th>\n",
       "      <th>index</th>\n",
       "      <th>Unnamed: 0</th>\n",
       "      <th>price</th>\n",
       "      <th>brand</th>\n",
       "      <th>model</th>\n",
       "      <th>year</th>\n",
       "      <th>title_status</th>\n",
       "      <th>mileage</th>\n",
       "      <th>color</th>\n",
       "      <th>vin</th>\n",
       "      <th>lot</th>\n",
       "      <th>state</th>\n",
       "      <th>country</th>\n",
       "      <th>condition</th>\n",
       "    </tr>\n",
       "  </thead>\n",
       "  <tbody>\n",
       "    <tr>\n",
       "      <th>0</th>\n",
       "      <td>313</td>\n",
       "      <td>313</td>\n",
       "      <td>0</td>\n",
       "      <td>ford</td>\n",
       "      <td>van</td>\n",
       "      <td>1998</td>\n",
       "      <td>salvage insurance</td>\n",
       "      <td>186855.0</td>\n",
       "      <td>blue</td>\n",
       "      <td>2fmda5143wba16791</td>\n",
       "      <td>167359170</td>\n",
       "      <td>california</td>\n",
       "      <td>usa</td>\n",
       "      <td>19 hours left</td>\n",
       "    </tr>\n",
       "    <tr>\n",
       "      <th>1</th>\n",
       "      <td>285</td>\n",
       "      <td>285</td>\n",
       "      <td>0</td>\n",
       "      <td>ford</td>\n",
       "      <td>door</td>\n",
       "      <td>2000</td>\n",
       "      <td>salvage insurance</td>\n",
       "      <td>124969.0</td>\n",
       "      <td>black</td>\n",
       "      <td>1fafp34p7yw270338</td>\n",
       "      <td>167251902</td>\n",
       "      <td>oklahoma</td>\n",
       "      <td>usa</td>\n",
       "      <td>17 hours left</td>\n",
       "    </tr>\n",
       "    <tr>\n",
       "      <th>2</th>\n",
       "      <td>522</td>\n",
       "      <td>522</td>\n",
       "      <td>0</td>\n",
       "      <td>ford</td>\n",
       "      <td>door</td>\n",
       "      <td>2008</td>\n",
       "      <td>salvage insurance</td>\n",
       "      <td>145483.0</td>\n",
       "      <td>red</td>\n",
       "      <td>1fmcu03128kc80487</td>\n",
       "      <td>167357813</td>\n",
       "      <td>oklahoma</td>\n",
       "      <td>usa</td>\n",
       "      <td>17 hours left</td>\n",
       "    </tr>\n",
       "    <tr>\n",
       "      <th>3</th>\n",
       "      <td>510</td>\n",
       "      <td>510</td>\n",
       "      <td>0</td>\n",
       "      <td>ford</td>\n",
       "      <td>door</td>\n",
       "      <td>2010</td>\n",
       "      <td>salvage insurance</td>\n",
       "      <td>86841.0</td>\n",
       "      <td>silver</td>\n",
       "      <td>3fahp0ga3ar366961</td>\n",
       "      <td>167357806</td>\n",
       "      <td>oklahoma</td>\n",
       "      <td>usa</td>\n",
       "      <td>17 hours left</td>\n",
       "    </tr>\n",
       "    <tr>\n",
       "      <th>4</th>\n",
       "      <td>496</td>\n",
       "      <td>496</td>\n",
       "      <td>0</td>\n",
       "      <td>ford</td>\n",
       "      <td>pickup</td>\n",
       "      <td>1996</td>\n",
       "      <td>salvage insurance</td>\n",
       "      <td>252588.0</td>\n",
       "      <td>red</td>\n",
       "      <td>1ftef15n0tlc14455</td>\n",
       "      <td>167357804</td>\n",
       "      <td>oklahoma</td>\n",
       "      <td>usa</td>\n",
       "      <td>17 hours left</td>\n",
       "    </tr>\n",
       "  </tbody>\n",
       "</table>\n",
       "</div>"
      ],
      "text/plain": [
       "   index  Unnamed: 0  price brand   model  year       title_status   mileage  \\\n",
       "0    313         313      0  ford     van  1998  salvage insurance  186855.0   \n",
       "1    285         285      0  ford    door  2000  salvage insurance  124969.0   \n",
       "2    522         522      0  ford    door  2008  salvage insurance  145483.0   \n",
       "3    510         510      0  ford    door  2010  salvage insurance   86841.0   \n",
       "4    496         496      0  ford  pickup  1996  salvage insurance  252588.0   \n",
       "\n",
       "    color                  vin        lot       state country      condition  \n",
       "0    blue    2fmda5143wba16791  167359170  california     usa  19 hours left  \n",
       "1   black    1fafp34p7yw270338  167251902    oklahoma     usa  17 hours left  \n",
       "2     red    1fmcu03128kc80487  167357813    oklahoma     usa  17 hours left  \n",
       "3  silver    3fahp0ga3ar366961  167357806    oklahoma     usa  17 hours left  \n",
       "4     red    1ftef15n0tlc14455  167357804    oklahoma     usa  17 hours left  "
      ]
     },
     "execution_count": 34,
     "metadata": {},
     "output_type": "execute_result"
    }
   ],
   "source": [
    "car.head()"
   ]
  },
  {
   "cell_type": "code",
   "execution_count": 35,
   "metadata": {},
   "outputs": [
    {
     "ename": "SyntaxError",
     "evalue": "invalid syntax (<ipython-input-35-9c8594893d07>, line 1)",
     "output_type": "error",
     "traceback": [
      "\u001b[1;36m  File \u001b[1;32m\"<ipython-input-35-9c8594893d07>\"\u001b[1;36m, line \u001b[1;32m1\u001b[0m\n\u001b[1;33m    car.drop(car[car.loc(0,1),inplace=True]\u001b[0m\n\u001b[1;37m                                     ^\u001b[0m\n\u001b[1;31mSyntaxError\u001b[0m\u001b[1;31m:\u001b[0m invalid syntax\n"
     ]
    }
   ],
   "source": [
    "car.drop(car[car.loc(0,1),inplace=True]"
   ]
  },
  {
   "cell_type": "code",
   "execution_count": null,
   "metadata": {},
   "outputs": [],
   "source": [
    "sns.scatterplot(x='mileage', y='year',data=car)"
   ]
  },
  {
   "cell_type": "code",
   "execution_count": null,
   "metadata": {},
   "outputs": [],
   "source": [
    "import numpy as np"
   ]
  },
  {
   "cell_type": "code",
   "execution_count": null,
   "metadata": {},
   "outputs": [],
   "source": [
    "arr = np.array(car['mileage'])\n",
    "\n",
    "newarr = arr.reshape(4, 3)\n",
    "\n",
    "print(newarr)"
   ]
  },
  {
   "cell_type": "code",
   "execution_count": 97,
   "metadata": {},
   "outputs": [],
   "source": [
    "x=car[['mileage']]\n"
   ]
  },
  {
   "cell_type": "code",
   "execution_count": 98,
   "metadata": {},
   "outputs": [
    {
     "data": {
      "text/plain": [
       "<bound method NDFrame.head of       mileage\n",
       "0    186855.0\n",
       "1    124969.0\n",
       "2    145483.0\n",
       "3     86841.0\n",
       "4    252588.0\n",
       "..        ...\n",
       "162  149712.0\n",
       "163  176567.0\n",
       "164   29882.0\n",
       "165   57889.0\n",
       "166   11930.0\n",
       "\n",
       "[167 rows x 1 columns]>"
      ]
     },
     "execution_count": 98,
     "metadata": {},
     "output_type": "execute_result"
    }
   ],
   "source": [
    "x.head"
   ]
  },
  {
   "cell_type": "code",
   "execution_count": 99,
   "metadata": {},
   "outputs": [
    {
     "data": {
      "text/plain": [
       "(167, 1)"
      ]
     },
     "execution_count": 99,
     "metadata": {},
     "output_type": "execute_result"
    }
   ],
   "source": [
    "x.shape"
   ]
  },
  {
   "cell_type": "code",
   "execution_count": 136,
   "metadata": {},
   "outputs": [],
   "source": [
    " y=car[['price']]"
   ]
  },
  {
   "cell_type": "code",
   "execution_count": 137,
   "metadata": {},
   "outputs": [
    {
     "data": {
      "text/html": [
       "<div>\n",
       "<style scoped>\n",
       "    .dataframe tbody tr th:only-of-type {\n",
       "        vertical-align: middle;\n",
       "    }\n",
       "\n",
       "    .dataframe tbody tr th {\n",
       "        vertical-align: top;\n",
       "    }\n",
       "\n",
       "    .dataframe thead th {\n",
       "        text-align: right;\n",
       "    }\n",
       "</style>\n",
       "<table border=\"1\" class=\"dataframe\">\n",
       "  <thead>\n",
       "    <tr style=\"text-align: right;\">\n",
       "      <th></th>\n",
       "      <th>price</th>\n",
       "    </tr>\n",
       "  </thead>\n",
       "  <tbody>\n",
       "    <tr>\n",
       "      <th>0</th>\n",
       "      <td>0</td>\n",
       "    </tr>\n",
       "    <tr>\n",
       "      <th>1</th>\n",
       "      <td>0</td>\n",
       "    </tr>\n",
       "    <tr>\n",
       "      <th>2</th>\n",
       "      <td>0</td>\n",
       "    </tr>\n",
       "    <tr>\n",
       "      <th>3</th>\n",
       "      <td>0</td>\n",
       "    </tr>\n",
       "    <tr>\n",
       "      <th>4</th>\n",
       "      <td>0</td>\n",
       "    </tr>\n",
       "  </tbody>\n",
       "</table>\n",
       "</div>"
      ],
      "text/plain": [
       "   price\n",
       "0      0\n",
       "1      0\n",
       "2      0\n",
       "3      0\n",
       "4      0"
      ]
     },
     "execution_count": 137,
     "metadata": {},
     "output_type": "execute_result"
    }
   ],
   "source": [
    "y.head()"
   ]
  },
  {
   "cell_type": "code",
   "execution_count": 138,
   "metadata": {},
   "outputs": [
    {
     "data": {
      "text/plain": [
       "(167, 1)"
      ]
     },
     "execution_count": 138,
     "metadata": {},
     "output_type": "execute_result"
    }
   ],
   "source": [
    "y.shape"
   ]
  },
  {
   "cell_type": "code",
   "execution_count": 139,
   "metadata": {},
   "outputs": [],
   "source": [
    "from sklearn.linear_model import LinearRegression"
   ]
  },
  {
   "cell_type": "code",
   "execution_count": 140,
   "metadata": {},
   "outputs": [],
   "source": [
    "from sklearn.model_selection import train_test_split"
   ]
  },
  {
   "cell_type": "code",
   "execution_count": 141,
   "metadata": {},
   "outputs": [],
   "source": [
    "x_train,x_test,y_train,y_test=train_test_split(x,y,test_size=0.2)"
   ]
  },
  {
   "cell_type": "code",
   "execution_count": 142,
   "metadata": {},
   "outputs": [],
   "source": [
    "lr=LinearRegression()"
   ]
  },
  {
   "cell_type": "code",
   "execution_count": 143,
   "metadata": {},
   "outputs": [
    {
     "data": {
      "text/plain": [
       "LinearRegression()"
      ]
     },
     "execution_count": 143,
     "metadata": {},
     "output_type": "execute_result"
    }
   ],
   "source": [
    "lr.fit(x_train,y_train)"
   ]
  },
  {
   "cell_type": "code",
   "execution_count": 144,
   "metadata": {},
   "outputs": [],
   "source": [
    "y_pred=lr.predict(x_test)\n"
   ]
  },
  {
   "cell_type": "code",
   "execution_count": 145,
   "metadata": {},
   "outputs": [
    {
     "data": {
      "text/html": [
       "<div>\n",
       "<style scoped>\n",
       "    .dataframe tbody tr th:only-of-type {\n",
       "        vertical-align: middle;\n",
       "    }\n",
       "\n",
       "    .dataframe tbody tr th {\n",
       "        vertical-align: top;\n",
       "    }\n",
       "\n",
       "    .dataframe thead th {\n",
       "        text-align: right;\n",
       "    }\n",
       "</style>\n",
       "<table border=\"1\" class=\"dataframe\">\n",
       "  <thead>\n",
       "    <tr style=\"text-align: right;\">\n",
       "      <th></th>\n",
       "      <th>price</th>\n",
       "    </tr>\n",
       "  </thead>\n",
       "  <tbody>\n",
       "    <tr>\n",
       "      <th>62</th>\n",
       "      <td>2900</td>\n",
       "    </tr>\n",
       "    <tr>\n",
       "      <th>137</th>\n",
       "      <td>6000</td>\n",
       "    </tr>\n",
       "    <tr>\n",
       "      <th>36</th>\n",
       "      <td>1150</td>\n",
       "    </tr>\n",
       "    <tr>\n",
       "      <th>39</th>\n",
       "      <td>1500</td>\n",
       "    </tr>\n",
       "    <tr>\n",
       "      <th>55</th>\n",
       "      <td>2700</td>\n",
       "    </tr>\n",
       "  </tbody>\n",
       "</table>\n",
       "</div>"
      ],
      "text/plain": [
       "     price\n",
       "62    2900\n",
       "137   6000\n",
       "36    1150\n",
       "39    1500\n",
       "55    2700"
      ]
     },
     "execution_count": 145,
     "metadata": {},
     "output_type": "execute_result"
    }
   ],
   "source": [
    "y_test.head()"
   ]
  },
  {
   "cell_type": "code",
   "execution_count": 146,
   "metadata": {},
   "outputs": [
    {
     "data": {
      "text/plain": [
       "array([[4000.94364429],\n",
       "       [3565.32781367],\n",
       "       [3604.50939556],\n",
       "       [3586.29992954],\n",
       "       [3723.47150071]])"
      ]
     },
     "execution_count": 146,
     "metadata": {},
     "output_type": "execute_result"
    }
   ],
   "source": [
    "y_pred[0:5]"
   ]
  },
  {
   "cell_type": "code",
   "execution_count": 147,
   "metadata": {},
   "outputs": [],
   "source": [
    "from sklearn.metrics import mean_squared_error"
   ]
  },
  {
   "cell_type": "code",
   "execution_count": 148,
   "metadata": {},
   "outputs": [
    {
     "data": {
      "text/plain": [
       "4254590.815592907"
      ]
     },
     "execution_count": 148,
     "metadata": {},
     "output_type": "execute_result"
    }
   ],
   "source": [
    "mean_squared_error(y_test,y_pred)b"
   ]
  },
  {
   "cell_type": "markdown",
   "metadata": {},
   "source": [
    "# error in this case where (y=price) is much more higher than that of y= year case\n"
   ]
  },
  {
   "cell_type": "code",
   "execution_count": 135,
   "metadata": {},
   "outputs": [],
   "source": [
    "y=car[['price']]"
   ]
  },
  {
   "cell_type": "code",
   "execution_count": 118,
   "metadata": {},
   "outputs": [
    {
     "data": {
      "text/plain": [
       "(167, 1)"
      ]
     },
     "execution_count": 118,
     "metadata": {},
     "output_type": "execute_result"
    }
   ],
   "source": [
    "y.shape"
   ]
  },
  {
   "cell_type": "code",
   "execution_count": null,
   "metadata": {},
   "outputs": [],
   "source": []
  },
  {
   "cell_type": "code",
   "execution_count": null,
   "metadata": {},
   "outputs": [],
   "source": []
  },
  {
   "cell_type": "code",
   "execution_count": null,
   "metadata": {},
   "outputs": [],
   "source": []
  },
  {
   "cell_type": "code",
   "execution_count": null,
   "metadata": {},
   "outputs": [],
   "source": []
  },
  {
   "cell_type": "code",
   "execution_count": 77,
   "metadata": {},
   "outputs": [
    {
     "ename": "NameError",
     "evalue": "name 'state' is not defined",
     "output_type": "error",
     "traceback": [
      "\u001b[1;31m---------------------------------------------------------------------------\u001b[0m",
      "\u001b[1;31mNameError\u001b[0m                                 Traceback (most recent call last)",
      "\u001b[1;32m<ipython-input-77-a2807720d9cf>\u001b[0m in \u001b[0;36m<module>\u001b[1;34m\u001b[0m\n\u001b[1;32m----> 1\u001b[1;33m \u001b[0mcar\u001b[0m\u001b[1;33m[\u001b[0m\u001b[0mstate\u001b[0m\u001b[1;33m]\u001b[0m\u001b[1;33m=\u001b[0m\u001b[0mpd\u001b[0m\u001b[1;33m.\u001b[0m\u001b[0mto_numeric\u001b[0m\u001b[1;33m(\u001b[0m\u001b[0mcar\u001b[0m\u001b[1;33m.\u001b[0m\u001b[0mstate\u001b[0m\u001b[1;33m,\u001b[0m \u001b[0merrors\u001b[0m\u001b[1;33m=\u001b[0m\u001b[1;34m'coerce'\u001b[0m\u001b[1;33m)\u001b[0m\u001b[1;33m\u001b[0m\u001b[1;33m\u001b[0m\u001b[0m\n\u001b[0m",
      "\u001b[1;31mNameError\u001b[0m: name 'state' is not defined"
     ]
    }
   ],
   "source": [
    "car[state]=pd.to_numeric(car.state, errors='coerce')"
   ]
  },
  {
   "cell_type": "code",
   "execution_count": null,
   "metadata": {},
   "outputs": [],
   "source": [
    "car.dtypes"
   ]
  },
  {
   "cell_type": "code",
   "execution_count": null,
   "metadata": {},
   "outputs": [],
   "source": []
  },
  {
   "cell_type": "code",
   "execution_count": null,
   "metadata": {},
   "outputs": [],
   "source": [
    "a1 = car(['price','year','lot'],axis=1).copy()"
   ]
  },
  {
   "cell_type": "code",
   "execution_count": 8,
   "metadata": {},
   "outputs": [
    {
     "ename": "NameError",
     "evalue": "name 'a1' is not defined",
     "output_type": "error",
     "traceback": [
      "\u001b[1;31m---------------------------------------------------------------------------\u001b[0m",
      "\u001b[1;31mNameError\u001b[0m                                 Traceback (most recent call last)",
      "\u001b[1;32m<ipython-input-8-2ae62e925038>\u001b[0m in \u001b[0;36m<module>\u001b[1;34m\u001b[0m\n\u001b[1;32m----> 1\u001b[1;33m \u001b[0ma1\u001b[0m\u001b[1;33m.\u001b[0m\u001b[0mhead\u001b[0m\u001b[1;33m(\u001b[0m\u001b[1;33m)\u001b[0m\u001b[1;33m\u001b[0m\u001b[1;33m\u001b[0m\u001b[0m\n\u001b[0m",
      "\u001b[1;31mNameError\u001b[0m: name 'a1' is not defined"
     ]
    }
   ],
   "source": [
    "a1.head()"
   ]
  },
  {
   "cell_type": "code",
   "execution_count": 100,
   "metadata": {},
   "outputs": [
    {
     "data": {
      "text/plain": [
       "0        usa\n",
       "1        usa\n",
       "2        usa\n",
       "3        usa\n",
       "4        usa\n",
       "        ... \n",
       "2494     usa\n",
       "2495     usa\n",
       "2496     usa\n",
       "2497     usa\n",
       "2498     usa\n",
       "Name: country, Length: 2499, dtype: object"
      ]
     },
     "execution_count": 100,
     "metadata": {},
     "output_type": "execute_result"
    }
   ],
   "source": [
    "car['country']"
   ]
  },
  {
   "cell_type": "code",
   "execution_count": 5,
   "metadata": {},
   "outputs": [
    {
     "data": {
      "text/plain": [
       "(2499, 13)"
      ]
     },
     "execution_count": 5,
     "metadata": {},
     "output_type": "execute_result"
    }
   ],
   "source": [
    "car.shape"
   ]
  },
  {
   "cell_type": "code",
   "execution_count": 10,
   "metadata": {
    "scrolled": true
   },
   "outputs": [
    {
     "data": {
      "text/plain": [
       "Unnamed: 0      0\n",
       "price           0\n",
       "brand           0\n",
       "model           0\n",
       "year            0\n",
       "title_status    0\n",
       "mileage         0\n",
       "color           0\n",
       "vin             0\n",
       "lot             0\n",
       "state           0\n",
       "country         0\n",
       "condition       0\n",
       "dtype: int64"
      ]
     },
     "execution_count": 10,
     "metadata": {},
     "output_type": "execute_result"
    }
   ],
   "source": [
    "car.isnull().sum()"
   ]
  },
  {
   "cell_type": "code",
   "execution_count": 130,
   "metadata": {},
   "outputs": [
    {
     "data": {
      "text/plain": [
       "2499"
      ]
     },
     "execution_count": 130,
     "metadata": {},
     "output_type": "execute_result"
    }
   ],
   "source": [
    "car['title_status'].count()"
   ]
  },
  {
   "cell_type": "code",
   "execution_count": null,
   "metadata": {},
   "outputs": [],
   "source": []
  },
  {
   "cell_type": "code",
   "execution_count": 131,
   "metadata": {},
   "outputs": [],
   "source": [
    "f1=car.drop(['title_status','vin','lot','color','state','country'],axis=1)"
   ]
  },
  {
   "cell_type": "code",
   "execution_count": 42,
   "metadata": {},
   "outputs": [
    {
     "data": {
      "text/html": [
       "<div>\n",
       "<style scoped>\n",
       "    .dataframe tbody tr th:only-of-type {\n",
       "        vertical-align: middle;\n",
       "    }\n",
       "\n",
       "    .dataframe tbody tr th {\n",
       "        vertical-align: top;\n",
       "    }\n",
       "\n",
       "    .dataframe thead th {\n",
       "        text-align: right;\n",
       "    }\n",
       "</style>\n",
       "<table border=\"1\" class=\"dataframe\">\n",
       "  <thead>\n",
       "    <tr style=\"text-align: right;\">\n",
       "      <th></th>\n",
       "      <th>Unnamed: 0</th>\n",
       "      <th>price</th>\n",
       "      <th>brand</th>\n",
       "      <th>model</th>\n",
       "      <th>year</th>\n",
       "      <th>mileage</th>\n",
       "      <th>condition</th>\n",
       "    </tr>\n",
       "  </thead>\n",
       "  <tbody>\n",
       "    <tr>\n",
       "      <th>0</th>\n",
       "      <td>0</td>\n",
       "      <td>6300</td>\n",
       "      <td>toyota</td>\n",
       "      <td>cruiser</td>\n",
       "      <td>2008</td>\n",
       "      <td>274117.0</td>\n",
       "      <td>10 days left</td>\n",
       "    </tr>\n",
       "    <tr>\n",
       "      <th>1</th>\n",
       "      <td>1</td>\n",
       "      <td>2899</td>\n",
       "      <td>ford</td>\n",
       "      <td>se</td>\n",
       "      <td>2011</td>\n",
       "      <td>190552.0</td>\n",
       "      <td>6 days left</td>\n",
       "    </tr>\n",
       "    <tr>\n",
       "      <th>2</th>\n",
       "      <td>2</td>\n",
       "      <td>5350</td>\n",
       "      <td>dodge</td>\n",
       "      <td>mpv</td>\n",
       "      <td>2018</td>\n",
       "      <td>39590.0</td>\n",
       "      <td>2 days left</td>\n",
       "    </tr>\n",
       "    <tr>\n",
       "      <th>3</th>\n",
       "      <td>3</td>\n",
       "      <td>25000</td>\n",
       "      <td>ford</td>\n",
       "      <td>door</td>\n",
       "      <td>2014</td>\n",
       "      <td>64146.0</td>\n",
       "      <td>22 hours left</td>\n",
       "    </tr>\n",
       "    <tr>\n",
       "      <th>4</th>\n",
       "      <td>4</td>\n",
       "      <td>27700</td>\n",
       "      <td>chevrolet</td>\n",
       "      <td>1500</td>\n",
       "      <td>2018</td>\n",
       "      <td>6654.0</td>\n",
       "      <td>22 hours left</td>\n",
       "    </tr>\n",
       "  </tbody>\n",
       "</table>\n",
       "</div>"
      ],
      "text/plain": [
       "   Unnamed: 0  price      brand    model  year   mileage      condition\n",
       "0           0   6300     toyota  cruiser  2008  274117.0   10 days left\n",
       "1           1   2899       ford       se  2011  190552.0    6 days left\n",
       "2           2   5350      dodge      mpv  2018   39590.0    2 days left\n",
       "3           3  25000       ford     door  2014   64146.0  22 hours left\n",
       "4           4  27700  chevrolet     1500  2018    6654.0  22 hours left"
      ]
     },
     "execution_count": 42,
     "metadata": {},
     "output_type": "execute_result"
    }
   ],
   "source": [
    "f1.head()"
   ]
  },
  {
   "cell_type": "code",
   "execution_count": 101,
   "metadata": {},
   "outputs": [
    {
     "data": {
      "text/plain": [
       "Unnamed: 0                3\n",
       "price                 25000\n",
       "brand                  ford\n",
       "model                  door\n",
       "year                   2014\n",
       "mileage               64146\n",
       "condition     22 hours left\n",
       "Name: 3, dtype: object"
      ]
     },
     "execution_count": 101,
     "metadata": {},
     "output_type": "execute_result"
    }
   ],
   "source": [
    "f1.loc[3]"
   ]
  },
  {
   "cell_type": "code",
   "execution_count": 29,
   "metadata": {},
   "outputs": [
    {
     "data": {
      "text/plain": [
       "2499"
      ]
     },
     "execution_count": 29,
     "metadata": {},
     "output_type": "execute_result"
    }
   ],
   "source": [
    "car['country'].count()"
   ]
  },
  {
   "cell_type": "code",
   "execution_count": 30,
   "metadata": {},
   "outputs": [
    {
     "data": {
      "text/html": [
       "<div>\n",
       "<style scoped>\n",
       "    .dataframe tbody tr th:only-of-type {\n",
       "        vertical-align: middle;\n",
       "    }\n",
       "\n",
       "    .dataframe tbody tr th {\n",
       "        vertical-align: top;\n",
       "    }\n",
       "\n",
       "    .dataframe thead th {\n",
       "        text-align: right;\n",
       "    }\n",
       "</style>\n",
       "<table border=\"1\" class=\"dataframe\">\n",
       "  <thead>\n",
       "    <tr style=\"text-align: right;\">\n",
       "      <th></th>\n",
       "      <th>Unnamed: 0</th>\n",
       "      <th>price</th>\n",
       "      <th>brand</th>\n",
       "      <th>model</th>\n",
       "      <th>year</th>\n",
       "      <th>mileage</th>\n",
       "      <th>color</th>\n",
       "      <th>state</th>\n",
       "      <th>condition</th>\n",
       "    </tr>\n",
       "    <tr>\n",
       "      <th>country</th>\n",
       "      <th></th>\n",
       "      <th></th>\n",
       "      <th></th>\n",
       "      <th></th>\n",
       "      <th></th>\n",
       "      <th></th>\n",
       "      <th></th>\n",
       "      <th></th>\n",
       "      <th></th>\n",
       "    </tr>\n",
       "  </thead>\n",
       "  <tbody>\n",
       "    <tr>\n",
       "      <th>canada</th>\n",
       "      <td>261</td>\n",
       "      <td>29500</td>\n",
       "      <td>chevrolet</td>\n",
       "      <td>1500</td>\n",
       "      <td>2018</td>\n",
       "      <td>35153.0</td>\n",
       "      <td>orange</td>\n",
       "      <td>ontario</td>\n",
       "      <td>10 days left</td>\n",
       "    </tr>\n",
       "    <tr>\n",
       "      <th>usa</th>\n",
       "      <td>0</td>\n",
       "      <td>0</td>\n",
       "      <td>acura</td>\n",
       "      <td>1500</td>\n",
       "      <td>1973</td>\n",
       "      <td>0.0</td>\n",
       "      <td>beige</td>\n",
       "      <td>alabama</td>\n",
       "      <td>1 days left</td>\n",
       "    </tr>\n",
       "  </tbody>\n",
       "</table>\n",
       "</div>"
      ],
      "text/plain": [
       "         Unnamed: 0  price      brand model  year  mileage   color    state  \\\n",
       "country                                                                       \n",
       " canada         261  29500  chevrolet  1500  2018  35153.0  orange  ontario   \n",
       " usa              0      0      acura  1500  1973      0.0   beige  alabama   \n",
       "\n",
       "            condition  \n",
       "country                \n",
       " canada  10 days left  \n",
       " usa      1 days left  "
      ]
     },
     "execution_count": 30,
     "metadata": {},
     "output_type": "execute_result"
    }
   ],
   "source": [
    "f1.groupby('country').min()"
   ]
  },
  {
   "cell_type": "code",
   "execution_count": 40,
   "metadata": {},
   "outputs": [
    {
     "name": "stdout",
     "output_type": "stream",
     "text": [
      "<class 'pandas.core.frame.DataFrame'>\n",
      "RangeIndex: 2499 entries, 0 to 2498\n",
      "Data columns (total 13 columns):\n",
      " #   Column        Non-Null Count  Dtype  \n",
      "---  ------        --------------  -----  \n",
      " 0   Unnamed: 0    2499 non-null   int64  \n",
      " 1   price         2499 non-null   int64  \n",
      " 2   brand         2499 non-null   object \n",
      " 3   model         2499 non-null   object \n",
      " 4   year          2499 non-null   int64  \n",
      " 5   title_status  2499 non-null   object \n",
      " 6   mileage       2499 non-null   float64\n",
      " 7   color         2499 non-null   object \n",
      " 8   vin           2499 non-null   object \n",
      " 9   lot           2499 non-null   int64  \n",
      " 10  state         2499 non-null   object \n",
      " 11  country       2499 non-null   object \n",
      " 12  condition     2499 non-null   object \n",
      "dtypes: float64(1), int64(4), object(8)\n",
      "memory usage: 253.9+ KB\n"
     ]
    }
   ],
   "source": [
    "car.info()"
   ]
  },
  {
   "cell_type": "code",
   "execution_count": 43,
   "metadata": {},
   "outputs": [
    {
     "data": {
      "text/html": [
       "<div>\n",
       "<style scoped>\n",
       "    .dataframe tbody tr th:only-of-type {\n",
       "        vertical-align: middle;\n",
       "    }\n",
       "\n",
       "    .dataframe tbody tr th {\n",
       "        vertical-align: top;\n",
       "    }\n",
       "\n",
       "    .dataframe thead th {\n",
       "        text-align: right;\n",
       "    }\n",
       "</style>\n",
       "<table border=\"1\" class=\"dataframe\">\n",
       "  <thead>\n",
       "    <tr style=\"text-align: right;\">\n",
       "      <th></th>\n",
       "      <th>Unnamed: 0</th>\n",
       "      <th>price</th>\n",
       "      <th>brand</th>\n",
       "      <th>model</th>\n",
       "      <th>year</th>\n",
       "      <th>mileage</th>\n",
       "      <th>condition</th>\n",
       "    </tr>\n",
       "  </thead>\n",
       "  <tbody>\n",
       "    <tr>\n",
       "      <th>0</th>\n",
       "      <td>0</td>\n",
       "      <td>6300</td>\n",
       "      <td>toyota</td>\n",
       "      <td>cruiser</td>\n",
       "      <td>2008</td>\n",
       "      <td>274117.0</td>\n",
       "      <td>10 days left</td>\n",
       "    </tr>\n",
       "    <tr>\n",
       "      <th>1</th>\n",
       "      <td>1</td>\n",
       "      <td>2899</td>\n",
       "      <td>ford</td>\n",
       "      <td>se</td>\n",
       "      <td>2011</td>\n",
       "      <td>190552.0</td>\n",
       "      <td>6 days left</td>\n",
       "    </tr>\n",
       "    <tr>\n",
       "      <th>2</th>\n",
       "      <td>2</td>\n",
       "      <td>5350</td>\n",
       "      <td>dodge</td>\n",
       "      <td>mpv</td>\n",
       "      <td>2018</td>\n",
       "      <td>39590.0</td>\n",
       "      <td>2 days left</td>\n",
       "    </tr>\n",
       "    <tr>\n",
       "      <th>3</th>\n",
       "      <td>3</td>\n",
       "      <td>25000</td>\n",
       "      <td>ford</td>\n",
       "      <td>door</td>\n",
       "      <td>2014</td>\n",
       "      <td>64146.0</td>\n",
       "      <td>22 hours left</td>\n",
       "    </tr>\n",
       "    <tr>\n",
       "      <th>4</th>\n",
       "      <td>4</td>\n",
       "      <td>27700</td>\n",
       "      <td>chevrolet</td>\n",
       "      <td>1500</td>\n",
       "      <td>2018</td>\n",
       "      <td>6654.0</td>\n",
       "      <td>22 hours left</td>\n",
       "    </tr>\n",
       "  </tbody>\n",
       "</table>\n",
       "</div>"
      ],
      "text/plain": [
       "   Unnamed: 0  price      brand    model  year   mileage      condition\n",
       "0           0   6300     toyota  cruiser  2008  274117.0   10 days left\n",
       "1           1   2899       ford       se  2011  190552.0    6 days left\n",
       "2           2   5350      dodge      mpv  2018   39590.0    2 days left\n",
       "3           3  25000       ford     door  2014   64146.0  22 hours left\n",
       "4           4  27700  chevrolet     1500  2018    6654.0  22 hours left"
      ]
     },
     "execution_count": 43,
     "metadata": {},
     "output_type": "execute_result"
    }
   ],
   "source": [
    "f1.head()"
   ]
  },
  {
   "cell_type": "code",
   "execution_count": 150,
   "metadata": {},
   "outputs": [
    {
     "data": {
      "text/plain": [
       "0       False\n",
       "1       False\n",
       "2       False\n",
       "3       False\n",
       "4       False\n",
       "        ...  \n",
       "2494    False\n",
       "2495    False\n",
       "2496    False\n",
       "2497    False\n",
       "2498    False\n",
       "Length: 2499, dtype: bool"
      ]
     },
     "execution_count": 150,
     "metadata": {},
     "output_type": "execute_result"
    }
   ],
   "source": [
    "f1.duplicated()"
   ]
  },
  {
   "cell_type": "code",
   "execution_count": 157,
   "metadata": {},
   "outputs": [
    {
     "name": "stderr",
     "output_type": "stream",
     "text": [
      "<ipython-input-157-fa15c544da3b>:1: DeprecationWarning: The default dtype for empty Series will be 'object' instead of 'float64' in a future version. Specify a dtype explicitly to silence this warning.\n",
      "  pd.Series()\n"
     ]
    },
    {
     "data": {
      "text/plain": [
       "Series([], dtype: float64)"
      ]
     },
     "execution_count": 157,
     "metadata": {},
     "output_type": "execute_result"
    }
   ],
   "source": [
    "pd.Series()"
   ]
  },
  {
   "cell_type": "code",
   "execution_count": 164,
   "metadata": {},
   "outputs": [
    {
     "ename": "AttributeError",
     "evalue": "'DataFrame' object has no attribute 'mySeries'",
     "output_type": "error",
     "traceback": [
      "\u001b[1;31m---------------------------------------------------------------------------\u001b[0m",
      "\u001b[1;31mAttributeError\u001b[0m                            Traceback (most recent call last)",
      "\u001b[1;32m<ipython-input-164-727b6cacf737>\u001b[0m in \u001b[0;36m<module>\u001b[1;34m\u001b[0m\n\u001b[1;32m----> 1\u001b[1;33m \u001b[0mf1\u001b[0m\u001b[1;33m.\u001b[0m\u001b[0mmySeries\u001b[0m\u001b[1;33m[\u001b[0m\u001b[1;36m0\u001b[0m\u001b[1;33m]\u001b[0m\u001b[1;33m\u001b[0m\u001b[1;33m\u001b[0m\u001b[0m\n\u001b[0m",
      "\u001b[1;32mD:\\New folder (2)\\lib\\site-packages\\pandas\\core\\generic.py\u001b[0m in \u001b[0;36m__getattr__\u001b[1;34m(self, name)\u001b[0m\n\u001b[0;32m   5137\u001b[0m             \u001b[1;32mif\u001b[0m \u001b[0mself\u001b[0m\u001b[1;33m.\u001b[0m\u001b[0m_info_axis\u001b[0m\u001b[1;33m.\u001b[0m\u001b[0m_can_hold_identifiers_and_holds_name\u001b[0m\u001b[1;33m(\u001b[0m\u001b[0mname\u001b[0m\u001b[1;33m)\u001b[0m\u001b[1;33m:\u001b[0m\u001b[1;33m\u001b[0m\u001b[1;33m\u001b[0m\u001b[0m\n\u001b[0;32m   5138\u001b[0m                 \u001b[1;32mreturn\u001b[0m \u001b[0mself\u001b[0m\u001b[1;33m[\u001b[0m\u001b[0mname\u001b[0m\u001b[1;33m]\u001b[0m\u001b[1;33m\u001b[0m\u001b[1;33m\u001b[0m\u001b[0m\n\u001b[1;32m-> 5139\u001b[1;33m             \u001b[1;32mreturn\u001b[0m \u001b[0mobject\u001b[0m\u001b[1;33m.\u001b[0m\u001b[0m__getattribute__\u001b[0m\u001b[1;33m(\u001b[0m\u001b[0mself\u001b[0m\u001b[1;33m,\u001b[0m \u001b[0mname\u001b[0m\u001b[1;33m)\u001b[0m\u001b[1;33m\u001b[0m\u001b[1;33m\u001b[0m\u001b[0m\n\u001b[0m\u001b[0;32m   5140\u001b[0m \u001b[1;33m\u001b[0m\u001b[0m\n\u001b[0;32m   5141\u001b[0m     \u001b[1;32mdef\u001b[0m \u001b[0m__setattr__\u001b[0m\u001b[1;33m(\u001b[0m\u001b[0mself\u001b[0m\u001b[1;33m,\u001b[0m \u001b[0mname\u001b[0m\u001b[1;33m:\u001b[0m \u001b[0mstr\u001b[0m\u001b[1;33m,\u001b[0m \u001b[0mvalue\u001b[0m\u001b[1;33m)\u001b[0m \u001b[1;33m->\u001b[0m \u001b[1;32mNone\u001b[0m\u001b[1;33m:\u001b[0m\u001b[1;33m\u001b[0m\u001b[1;33m\u001b[0m\u001b[0m\n",
      "\u001b[1;31mAttributeError\u001b[0m: 'DataFrame' object has no attribute 'mySeries'"
     ]
    }
   ],
   "source": [
    "f1.mySeries[0]"
   ]
  },
  {
   "cell_type": "code",
   "execution_count": 152,
   "metadata": {},
   "outputs": [
    {
     "data": {
      "text/plain": [
       "<AxesSubplot:>"
      ]
     },
     "execution_count": 152,
     "metadata": {},
     "output_type": "execute_result"
    },
    {
     "data": {
      "image/png": "[encoded data removed]",
      "text/plain": [
       "<Figure size 432x288 with 1 Axes>"
      ]
     },
     "metadata": {
      "needs_background": "light"
     },
     "output_type": "display_data"
    }
   ],
   "source": [
    "f1.plot()"
   ]
  },
  {
   "cell_type": "code",
   "execution_count": 139,
   "metadata": {},
   "outputs": [
    {
     "data": {
      "text/plain": [
       "0        6300\n",
       "1        2899\n",
       "2        5350\n",
       "3       25000\n",
       "4       27700\n",
       "        ...  \n",
       "2494     7800\n",
       "2495     9200\n",
       "2496     9200\n",
       "2497     9200\n",
       "2498     9200\n",
       "Name: price, Length: 2499, dtype: int64"
      ]
     },
     "execution_count": 139,
     "metadata": {},
     "output_type": "execute_result"
    }
   ],
   "source": [
    "f1['price']"
   ]
  },
  {
   "cell_type": "code",
   "execution_count": 140,
   "metadata": {},
   "outputs": [
    {
     "data": {
      "image/png": "[encoded data removed]",
      "text/plain": [
       "<Figure size 720x504 with 1 Axes>"
      ]
     },
     "metadata": {
      "needs_background": "light"
     },
     "output_type": "display_data"
    }
   ],
   "source": [
    "a =f1['price']\n",
    "  \n",
    "# Creating histogram\n",
    "\n",
    "ax.hist(a, bins = [0, 10000, 20000, 30000, 40000])\n",
    "  \n",
    "# Show plot\n",
    "plt.show()"
   ]
  },
  {
   "cell_type": "code",
   "execution_count": 138,
   "metadata": {},
   "outputs": [
    {
     "ename": "SyntaxError",
     "evalue": "invalid syntax (<ipython-input-138-8b063040a5de>, line 1)",
     "output_type": "error",
     "traceback": [
      "\u001b[1;36m  File \u001b[1;32m\"<ipython-input-138-8b063040a5de>\"\u001b[1;36m, line \u001b[1;32m1\u001b[0m\n\u001b[1;33m    sns.histoplot[x='brand',y='price',data = f1]\u001b[0m\n\u001b[1;37m                   ^\u001b[0m\n\u001b[1;31mSyntaxError\u001b[0m\u001b[1;31m:\u001b[0m invalid syntax\n"
     ]
    }
   ],
   "source": [
    "plt.hist[x='brand',y='price',data = f1] # Above IS THE OPERATION DONE FOR PLOTTING HISTOGRAM"
   ]
  },
  {
   "cell_type": "code",
   "execution_count": 149,
   "metadata": {},
   "outputs": [
    {
     "data": {
      "text/plain": [
       "[<matplotlib.lines.Line2D at 0x292b83ce100>]"
      ]
     },
     "execution_count": 149,
     "metadata": {},
     "output_type": "execute_result"
    },
    {
     "data": {
      "image/png": "[encoded data removed]",
      "text/plain": [
       "<Figure size 432x288 with 1 Axes>"
      ]
     },
     "metadata": {
      "needs_background": "light"
     },
     "output_type": "display_data"
    }
   ],
   "source": [
    "x=nm.array(f1['price'], f1['mileage'])\n",
    "\n",
    "y=nm.array(f1['year'],f1['condition'] )\n",
    "plt.plot(x,y)"
   ]
  },
  {
   "cell_type": "code",
   "execution_count": 116,
   "metadata": {},
   "outputs": [
    {
     "data": {
      "text/plain": [
       "0"
      ]
     },
     "execution_count": 116,
     "metadata": {},
     "output_type": "execute_result"
    }
   ],
   "source": [
    "f1['price'].isnull().sum()"
   ]
  },
  {
   "cell_type": "code",
   "execution_count": 118,
   "metadata": {},
   "outputs": [
    {
     "data": {
      "text/plain": [
       "0"
      ]
     },
     "execution_count": 118,
     "metadata": {},
     "output_type": "execute_result"
    }
   ],
   "source": [
    "f1['mileage'].isnull().sum()"
   ]
  },
  {
   "cell_type": "code",
   "execution_count": 102,
   "metadata": {},
   "outputs": [
    {
     "data": {
      "text/html": [
       "<div>\n",
       "<style scoped>\n",
       "    .dataframe tbody tr th:only-of-type {\n",
       "        vertical-align: middle;\n",
       "    }\n",
       "\n",
       "    .dataframe tbody tr th {\n",
       "        vertical-align: top;\n",
       "    }\n",
       "\n",
       "    .dataframe thead th {\n",
       "        text-align: right;\n",
       "    }\n",
       "</style>\n",
       "<table border=\"1\" class=\"dataframe\">\n",
       "  <thead>\n",
       "    <tr style=\"text-align: right;\">\n",
       "      <th></th>\n",
       "      <th>year</th>\n",
       "      <th>mileage</th>\n",
       "    </tr>\n",
       "  </thead>\n",
       "  <tbody>\n",
       "    <tr>\n",
       "      <th>26</th>\n",
       "      <td>2020</td>\n",
       "      <td>11451.0</td>\n",
       "    </tr>\n",
       "    <tr>\n",
       "      <th>58</th>\n",
       "      <td>2020</td>\n",
       "      <td>2473.0</td>\n",
       "    </tr>\n",
       "    <tr>\n",
       "      <th>206</th>\n",
       "      <td>2020</td>\n",
       "      <td>7232.0</td>\n",
       "    </tr>\n",
       "    <tr>\n",
       "      <th>210</th>\n",
       "      <td>2020</td>\n",
       "      <td>13826.0</td>\n",
       "    </tr>\n",
       "    <tr>\n",
       "      <th>213</th>\n",
       "      <td>2020</td>\n",
       "      <td>16545.0</td>\n",
       "    </tr>\n",
       "    <tr>\n",
       "      <th>216</th>\n",
       "      <td>2020</td>\n",
       "      <td>13303.0</td>\n",
       "    </tr>\n",
       "    <tr>\n",
       "      <th>219</th>\n",
       "      <td>2020</td>\n",
       "      <td>13679.0</td>\n",
       "    </tr>\n",
       "    <tr>\n",
       "      <th>222</th>\n",
       "      <td>2020</td>\n",
       "      <td>18221.0</td>\n",
       "    </tr>\n",
       "    <tr>\n",
       "      <th>225</th>\n",
       "      <td>2020</td>\n",
       "      <td>13885.0</td>\n",
       "    </tr>\n",
       "    <tr>\n",
       "      <th>399</th>\n",
       "      <td>2020</td>\n",
       "      <td>7509.0</td>\n",
       "    </tr>\n",
       "    <tr>\n",
       "      <th>426</th>\n",
       "      <td>2020</td>\n",
       "      <td>8186.0</td>\n",
       "    </tr>\n",
       "    <tr>\n",
       "      <th>657</th>\n",
       "      <td>2020</td>\n",
       "      <td>179.0</td>\n",
       "    </tr>\n",
       "    <tr>\n",
       "      <th>729</th>\n",
       "      <td>2020</td>\n",
       "      <td>15577.0</td>\n",
       "    </tr>\n",
       "    <tr>\n",
       "      <th>730</th>\n",
       "      <td>2020</td>\n",
       "      <td>23470.0</td>\n",
       "    </tr>\n",
       "    <tr>\n",
       "      <th>731</th>\n",
       "      <td>2020</td>\n",
       "      <td>18715.0</td>\n",
       "    </tr>\n",
       "    <tr>\n",
       "      <th>806</th>\n",
       "      <td>2020</td>\n",
       "      <td>13886.0</td>\n",
       "    </tr>\n",
       "    <tr>\n",
       "      <th>1064</th>\n",
       "      <td>2020</td>\n",
       "      <td>5284.0</td>\n",
       "    </tr>\n",
       "    <tr>\n",
       "      <th>1217</th>\n",
       "      <td>2020</td>\n",
       "      <td>5920.0</td>\n",
       "    </tr>\n",
       "    <tr>\n",
       "      <th>1220</th>\n",
       "      <td>2020</td>\n",
       "      <td>10882.0</td>\n",
       "    </tr>\n",
       "    <tr>\n",
       "      <th>1229</th>\n",
       "      <td>2020</td>\n",
       "      <td>6975.0</td>\n",
       "    </tr>\n",
       "    <tr>\n",
       "      <th>1387</th>\n",
       "      <td>2020</td>\n",
       "      <td>10351.0</td>\n",
       "    </tr>\n",
       "    <tr>\n",
       "      <th>1388</th>\n",
       "      <td>2020</td>\n",
       "      <td>1117.0</td>\n",
       "    </tr>\n",
       "    <tr>\n",
       "      <th>1396</th>\n",
       "      <td>2020</td>\n",
       "      <td>9861.0</td>\n",
       "    </tr>\n",
       "    <tr>\n",
       "      <th>1400</th>\n",
       "      <td>2020</td>\n",
       "      <td>122.0</td>\n",
       "    </tr>\n",
       "    <tr>\n",
       "      <th>1638</th>\n",
       "      <td>2020</td>\n",
       "      <td>23984.0</td>\n",
       "    </tr>\n",
       "    <tr>\n",
       "      <th>1640</th>\n",
       "      <td>2020</td>\n",
       "      <td>12748.0</td>\n",
       "    </tr>\n",
       "    <tr>\n",
       "      <th>1642</th>\n",
       "      <td>2020</td>\n",
       "      <td>17858.0</td>\n",
       "    </tr>\n",
       "    <tr>\n",
       "      <th>1676</th>\n",
       "      <td>2020</td>\n",
       "      <td>2452.0</td>\n",
       "    </tr>\n",
       "    <tr>\n",
       "      <th>1701</th>\n",
       "      <td>2020</td>\n",
       "      <td>740.0</td>\n",
       "    </tr>\n",
       "    <tr>\n",
       "      <th>1704</th>\n",
       "      <td>2020</td>\n",
       "      <td>7.0</td>\n",
       "    </tr>\n",
       "    <tr>\n",
       "      <th>1714</th>\n",
       "      <td>2020</td>\n",
       "      <td>2089.0</td>\n",
       "    </tr>\n",
       "    <tr>\n",
       "      <th>2012</th>\n",
       "      <td>2020</td>\n",
       "      <td>671.0</td>\n",
       "    </tr>\n",
       "    <tr>\n",
       "      <th>2026</th>\n",
       "      <td>2020</td>\n",
       "      <td>11729.0</td>\n",
       "    </tr>\n",
       "    <tr>\n",
       "      <th>2088</th>\n",
       "      <td>2020</td>\n",
       "      <td>2162.0</td>\n",
       "    </tr>\n",
       "    <tr>\n",
       "      <th>2205</th>\n",
       "      <td>2020</td>\n",
       "      <td>10728.0</td>\n",
       "    </tr>\n",
       "    <tr>\n",
       "      <th>2268</th>\n",
       "      <td>2020</td>\n",
       "      <td>10317.0</td>\n",
       "    </tr>\n",
       "    <tr>\n",
       "      <th>2270</th>\n",
       "      <td>2020</td>\n",
       "      <td>15160.0</td>\n",
       "    </tr>\n",
       "    <tr>\n",
       "      <th>2302</th>\n",
       "      <td>2020</td>\n",
       "      <td>19597.0</td>\n",
       "    </tr>\n",
       "    <tr>\n",
       "      <th>2305</th>\n",
       "      <td>2020</td>\n",
       "      <td>15387.0</td>\n",
       "    </tr>\n",
       "    <tr>\n",
       "      <th>2306</th>\n",
       "      <td>2020</td>\n",
       "      <td>264.0</td>\n",
       "    </tr>\n",
       "    <tr>\n",
       "      <th>2321</th>\n",
       "      <td>2020</td>\n",
       "      <td>11583.0</td>\n",
       "    </tr>\n",
       "    <tr>\n",
       "      <th>2322</th>\n",
       "      <td>2020</td>\n",
       "      <td>14320.0</td>\n",
       "    </tr>\n",
       "    <tr>\n",
       "      <th>2336</th>\n",
       "      <td>2020</td>\n",
       "      <td>21009.0</td>\n",
       "    </tr>\n",
       "    <tr>\n",
       "      <th>2339</th>\n",
       "      <td>2020</td>\n",
       "      <td>14850.0</td>\n",
       "    </tr>\n",
       "    <tr>\n",
       "      <th>2341</th>\n",
       "      <td>2020</td>\n",
       "      <td>12748.0</td>\n",
       "    </tr>\n",
       "    <tr>\n",
       "      <th>2342</th>\n",
       "      <td>2020</td>\n",
       "      <td>14531.0</td>\n",
       "    </tr>\n",
       "    <tr>\n",
       "      <th>2343</th>\n",
       "      <td>2020</td>\n",
       "      <td>15931.0</td>\n",
       "    </tr>\n",
       "    <tr>\n",
       "      <th>2344</th>\n",
       "      <td>2020</td>\n",
       "      <td>10875.0</td>\n",
       "    </tr>\n",
       "  </tbody>\n",
       "</table>\n",
       "</div>"
      ],
      "text/plain": [
       "      year  mileage\n",
       "26    2020  11451.0\n",
       "58    2020   2473.0\n",
       "206   2020   7232.0\n",
       "210   2020  13826.0\n",
       "213   2020  16545.0\n",
       "216   2020  13303.0\n",
       "219   2020  13679.0\n",
       "222   2020  18221.0\n",
       "225   2020  13885.0\n",
       "399   2020   7509.0\n",
       "426   2020   8186.0\n",
       "657   2020    179.0\n",
       "729   2020  15577.0\n",
       "730   2020  23470.0\n",
       "731   2020  18715.0\n",
       "806   2020  13886.0\n",
       "1064  2020   5284.0\n",
       "1217  2020   5920.0\n",
       "1220  2020  10882.0\n",
       "1229  2020   6975.0\n",
       "1387  2020  10351.0\n",
       "1388  2020   1117.0\n",
       "1396  2020   9861.0\n",
       "1400  2020    122.0\n",
       "1638  2020  23984.0\n",
       "1640  2020  12748.0\n",
       "1642  2020  17858.0\n",
       "1676  2020   2452.0\n",
       "1701  2020    740.0\n",
       "1704  2020      7.0\n",
       "1714  2020   2089.0\n",
       "2012  2020    671.0\n",
       "2026  2020  11729.0\n",
       "2088  2020   2162.0\n",
       "2205  2020  10728.0\n",
       "2268  2020  10317.0\n",
       "2270  2020  15160.0\n",
       "2302  2020  19597.0\n",
       "2305  2020  15387.0\n",
       "2306  2020    264.0\n",
       "2321  2020  11583.0\n",
       "2322  2020  14320.0\n",
       "2336  2020  21009.0\n",
       "2339  2020  14850.0\n",
       "2341  2020  12748.0\n",
       "2342  2020  14531.0\n",
       "2343  2020  15931.0\n",
       "2344  2020  10875.0"
      ]
     },
     "execution_count": 102,
     "metadata": {},
     "output_type": "execute_result"
    }
   ],
   "source": [
    "f1.loc[f1['year']==2020,['year','mileage']]"
   ]
  },
  {
   "cell_type": "code",
   "execution_count": 107,
   "metadata": {},
   "outputs": [
    {
     "data": {
      "text/plain": [
       "year\n",
       "1973     46226.000000\n",
       "1984     41577.000000\n",
       "1993         0.000000\n",
       "1994    103081.000000\n",
       "1995    274706.000000\n",
       "1996    274724.000000\n",
       "1997    175104.500000\n",
       "1998    219218.500000\n",
       "1999    226972.000000\n",
       "2000    169508.750000\n",
       "2001    182193.800000\n",
       "2002    200130.000000\n",
       "2003    201317.333333\n",
       "2004    186851.833333\n",
       "2005    167358.333333\n",
       "2006    158929.250000\n",
       "2007    165806.833333\n",
       "2008    162505.888889\n",
       "2009    217119.545455\n",
       "2010    202430.923077\n",
       "2011    119025.130435\n",
       "2012    134914.444444\n",
       "2013    118611.662791\n",
       "2014     96668.807692\n",
       "2015     70572.994898\n",
       "2016     57542.541872\n",
       "2017     48433.047745\n",
       "2018     34278.215190\n",
       "2019     24053.810538\n",
       "2020     10633.104167\n",
       "Name: mileage, dtype: float64"
      ]
     },
     "execution_count": 107,
     "metadata": {},
     "output_type": "execute_result"
    }
   ],
   "source": [
    "f1.groupby('year')['mileage'].mean()"
   ]
  },
  {
   "cell_type": "code",
   "execution_count": 114,
   "metadata": {},
   "outputs": [
    {
     "name": "stderr",
     "output_type": "stream",
     "text": [
      "D:\\New folder (2)\\lib\\site-packages\\seaborn\\_decorators.py:36: FutureWarning: Pass the following variables as keyword args: x, y. From version 0.12, the only valid positional argument will be `data`, and passing other arguments without an explicit keyword will result in an error or misinterpretation.\n",
      "  warnings.warn(\n"
     ]
    },
    {
     "data": {
      "text/plain": [
       "<AxesSubplot:xlabel='year', ylabel='mileage'>"
      ]
     },
     "execution_count": 114,
     "metadata": {},
     "output_type": "execute_result"
    },
    {
     "data": {
      "image/png": "[encoded data removed]",
      "text/plain": [
       "<Figure size 432x288 with 1 Axes>"
      ]
     },
     "metadata": {
      "needs_background": "light"
     },
     "output_type": "display_data"
    }
   ],
   "source": [
    "sns.barplot(f1['year'], f1['mileage'])"
   ]
  },
  {
   "cell_type": "code",
   "execution_count": 119,
   "metadata": {},
   "outputs": [
    {
     "ename": "AttributeError",
     "evalue": "module 'seaborn' has no attribute 'scatter'",
     "output_type": "error",
     "traceback": [
      "\u001b[1;31m---------------------------------------------------------------------------\u001b[0m",
      "\u001b[1;31mAttributeError\u001b[0m                            Traceback (most recent call last)",
      "\u001b[1;32m<ipython-input-119-979d018ec6cc>\u001b[0m in \u001b[0;36m<module>\u001b[1;34m\u001b[0m\n\u001b[1;32m----> 1\u001b[1;33m \u001b[0msns\u001b[0m\u001b[1;33m.\u001b[0m\u001b[0mscatter\u001b[0m\u001b[1;33m(\u001b[0m\u001b[0mf1\u001b[0m\u001b[1;33m[\u001b[0m\u001b[1;34m'year'\u001b[0m\u001b[1;33m]\u001b[0m\u001b[1;33m,\u001b[0m \u001b[0mf1\u001b[0m\u001b[1;33m[\u001b[0m\u001b[1;34m'mileage'\u001b[0m\u001b[1;33m]\u001b[0m\u001b[1;33m)\u001b[0m\u001b[1;33m\u001b[0m\u001b[1;33m\u001b[0m\u001b[0m\n\u001b[0m",
      "\u001b[1;31mAttributeError\u001b[0m: module 'seaborn' has no attribute 'scatter'"
     ]
    }
   ],
   "source": [
    "sns.scatter(f1['year'], f1['mileage'])"
   ]
  },
  {
   "cell_type": "code",
   "execution_count": 44,
   "metadata": {},
   "outputs": [
    {
     "data": {
      "text/html": [
       "<div>\n",
       "<style scoped>\n",
       "    .dataframe tbody tr th:only-of-type {\n",
       "        vertical-align: middle;\n",
       "    }\n",
       "\n",
       "    .dataframe tbody tr th {\n",
       "        vertical-align: top;\n",
       "    }\n",
       "\n",
       "    .dataframe thead th {\n",
       "        text-align: right;\n",
       "    }\n",
       "</style>\n",
       "<table border=\"1\" class=\"dataframe\">\n",
       "  <thead>\n",
       "    <tr style=\"text-align: right;\">\n",
       "      <th></th>\n",
       "      <th>Unnamed: 0</th>\n",
       "      <th>price</th>\n",
       "      <th>year</th>\n",
       "      <th>mileage</th>\n",
       "    </tr>\n",
       "  </thead>\n",
       "  <tbody>\n",
       "    <tr>\n",
       "      <th>count</th>\n",
       "      <td>2499.000000</td>\n",
       "      <td>2499.000000</td>\n",
       "      <td>2499.000000</td>\n",
       "      <td>2.499000e+03</td>\n",
       "    </tr>\n",
       "    <tr>\n",
       "      <th>mean</th>\n",
       "      <td>1249.000000</td>\n",
       "      <td>18767.671469</td>\n",
       "      <td>2016.714286</td>\n",
       "      <td>5.229869e+04</td>\n",
       "    </tr>\n",
       "    <tr>\n",
       "      <th>std</th>\n",
       "      <td>721.543484</td>\n",
       "      <td>12116.094936</td>\n",
       "      <td>3.442656</td>\n",
       "      <td>5.970552e+04</td>\n",
       "    </tr>\n",
       "    <tr>\n",
       "      <th>min</th>\n",
       "      <td>0.000000</td>\n",
       "      <td>0.000000</td>\n",
       "      <td>1973.000000</td>\n",
       "      <td>0.000000e+00</td>\n",
       "    </tr>\n",
       "    <tr>\n",
       "      <th>25%</th>\n",
       "      <td>624.500000</td>\n",
       "      <td>10200.000000</td>\n",
       "      <td>2016.000000</td>\n",
       "      <td>2.146650e+04</td>\n",
       "    </tr>\n",
       "    <tr>\n",
       "      <th>50%</th>\n",
       "      <td>1249.000000</td>\n",
       "      <td>16900.000000</td>\n",
       "      <td>2018.000000</td>\n",
       "      <td>3.536500e+04</td>\n",
       "    </tr>\n",
       "    <tr>\n",
       "      <th>75%</th>\n",
       "      <td>1873.500000</td>\n",
       "      <td>25555.500000</td>\n",
       "      <td>2019.000000</td>\n",
       "      <td>6.347250e+04</td>\n",
       "    </tr>\n",
       "    <tr>\n",
       "      <th>max</th>\n",
       "      <td>2498.000000</td>\n",
       "      <td>84900.000000</td>\n",
       "      <td>2020.000000</td>\n",
       "      <td>1.017936e+06</td>\n",
       "    </tr>\n",
       "  </tbody>\n",
       "</table>\n",
       "</div>"
      ],
      "text/plain": [
       "        Unnamed: 0         price         year       mileage\n",
       "count  2499.000000   2499.000000  2499.000000  2.499000e+03\n",
       "mean   1249.000000  18767.671469  2016.714286  5.229869e+04\n",
       "std     721.543484  12116.094936     3.442656  5.970552e+04\n",
       "min       0.000000      0.000000  1973.000000  0.000000e+00\n",
       "25%     624.500000  10200.000000  2016.000000  2.146650e+04\n",
       "50%    1249.000000  16900.000000  2018.000000  3.536500e+04\n",
       "75%    1873.500000  25555.500000  2019.000000  6.347250e+04\n",
       "max    2498.000000  84900.000000  2020.000000  1.017936e+06"
      ]
     },
     "execution_count": 44,
     "metadata": {},
     "output_type": "execute_result"
    }
   ],
   "source": [
    "f1.describe()"
   ]
  },
  {
   "cell_type": "code",
   "execution_count": null,
   "metadata": {},
   "outputs": [],
   "source": []
  },
  {
   "cell_type": "code",
   "execution_count": 95,
   "metadata": {},
   "outputs": [
    {
     "data": {
      "text/plain": [
       "array([[0, 6300, 'toyota', ..., 2008, 274117.0, '10 days left'],\n",
       "       [1, 2899, 'ford', ..., 2011, 190552.0, '6 days left'],\n",
       "       [2, 5350, 'dodge', ..., 2018, 39590.0, '2 days left'],\n",
       "       ...,\n",
       "       [2496, 9200, 'nissan', ..., 2018, 31594.0, '21 hours left'],\n",
       "       [2497, 9200, 'nissan', ..., 2018, 32557.0, '2 days left'],\n",
       "       [2498, 9200, 'nissan', ..., 2018, 31371.0, '21 hours left']],\n",
       "      dtype=object)"
      ]
     },
     "execution_count": 95,
     "metadata": {},
     "output_type": "execute_result"
    }
   ],
   "source": [
    "f1.values"
   ]
  },
  {
   "cell_type": "code",
   "execution_count": 85,
   "metadata": {},
   "outputs": [
    {
     "data": {
      "text/html": [
       "<div>\n",
       "<style scoped>\n",
       "    .dataframe tbody tr th:only-of-type {\n",
       "        vertical-align: middle;\n",
       "    }\n",
       "\n",
       "    .dataframe tbody tr th {\n",
       "        vertical-align: top;\n",
       "    }\n",
       "\n",
       "    .dataframe thead th {\n",
       "        text-align: right;\n",
       "    }\n",
       "</style>\n",
       "<table border=\"1\" class=\"dataframe\">\n",
       "  <thead>\n",
       "    <tr style=\"text-align: right;\">\n",
       "      <th></th>\n",
       "      <th>Unnamed: 0</th>\n",
       "      <th>price</th>\n",
       "      <th>year</th>\n",
       "      <th>mileage</th>\n",
       "    </tr>\n",
       "  </thead>\n",
       "  <tbody>\n",
       "    <tr>\n",
       "      <th>Unnamed: 0</th>\n",
       "      <td>1.000000</td>\n",
       "      <td>0.098417</td>\n",
       "      <td>0.244921</td>\n",
       "      <td>-0.129258</td>\n",
       "    </tr>\n",
       "    <tr>\n",
       "      <th>price</th>\n",
       "      <td>0.098417</td>\n",
       "      <td>1.000000</td>\n",
       "      <td>0.418274</td>\n",
       "      <td>-0.400838</td>\n",
       "    </tr>\n",
       "    <tr>\n",
       "      <th>year</th>\n",
       "      <td>0.244921</td>\n",
       "      <td>0.418274</td>\n",
       "      <td>1.000000</td>\n",
       "      <td>-0.594686</td>\n",
       "    </tr>\n",
       "    <tr>\n",
       "      <th>mileage</th>\n",
       "      <td>-0.129258</td>\n",
       "      <td>-0.400838</td>\n",
       "      <td>-0.594686</td>\n",
       "      <td>1.000000</td>\n",
       "    </tr>\n",
       "  </tbody>\n",
       "</table>\n",
       "</div>"
      ],
      "text/plain": [
       "            Unnamed: 0     price      year   mileage\n",
       "Unnamed: 0    1.000000  0.098417  0.244921 -0.129258\n",
       "price         0.098417  1.000000  0.418274 -0.400838\n",
       "year          0.244921  0.418274  1.000000 -0.594686\n",
       "mileage      -0.129258 -0.400838 -0.594686  1.000000"
      ]
     },
     "execution_count": 85,
     "metadata": {},
     "output_type": "execute_result"
    }
   ],
   "source": [
    "f1.corr()"
   ]
  },
  {
   "cell_type": "code",
   "execution_count": 58,
   "metadata": {},
   "outputs": [
    {
     "data": {
      "text/plain": [
       "<seaborn.axisgrid.FacetGrid at 0x292b46c66a0>"
      ]
     },
     "execution_count": 58,
     "metadata": {},
     "output_type": "execute_result"
    },
    {
     "data": {
      "image/png": "[encoded data removed]",
      "text/plain": [
       "<Figure size 360x360 with 1 Axes>"
      ]
     },
     "metadata": {
      "needs_background": "light"
     },
     "output_type": "display_data"
    }
   ],
   "source": [
    "sns.relplot(x='price',y='mileage',data=f1)"
   ]
  },
  {
   "cell_type": "code",
   "execution_count": 88,
   "metadata": {},
   "outputs": [
    {
     "data": {
      "text/plain": [
       "Index(['Unnamed: 0', 'price', 'brand', 'model', 'year', 'mileage',\n",
       "       'condition'],\n",
       "      dtype='object')"
      ]
     },
     "execution_count": 88,
     "metadata": {},
     "output_type": "execute_result"
    }
   ],
   "source": [
    "f1.columns"
   ]
  },
  {
   "cell_type": "code",
   "execution_count": 54,
   "metadata": {},
   "outputs": [
    {
     "name": "stderr",
     "output_type": "stream",
     "text": [
      "D:\\New folder (2)\\lib\\site-packages\\seaborn\\distributions.py:2551: FutureWarning: `distplot` is a deprecated function and will be removed in a future version. Please adapt your code to use either `displot` (a figure-level function with similar flexibility) or `histplot` (an axes-level function for histograms).\n",
      "  warnings.warn(msg, FutureWarning)\n"
     ]
    },
    {
     "data": {
      "text/plain": [
       "<AxesSubplot:xlabel='mileage', ylabel='Density'>"
      ]
     },
     "execution_count": 54,
     "metadata": {},
     "output_type": "execute_result"
    },
    {
     "data": {
      "image/png": "[encoded data removed]",
      "text/plain": [
       "<Figure size 432x288 with 1 Axes>"
      ]
     },
     "metadata": {
      "needs_background": "light"
     },
     "output_type": "display_data"
    }
   ],
   "source": [
    "sns.distplot(f1['mileage'], bins=20)"
   ]
  },
  {
   "cell_type": "code",
   "execution_count": 55,
   "metadata": {},
   "outputs": [
    {
     "data": {
      "text/plain": [
       "0.0"
      ]
     },
     "execution_count": 55,
     "metadata": {},
     "output_type": "execute_result"
    }
   ],
   "source": [
    "f1['mileage'].min()"
   ]
  },
  {
   "cell_type": "code",
   "execution_count": 56,
   "metadata": {},
   "outputs": [
    {
     "data": {
      "text/plain": [
       "0"
      ]
     },
     "execution_count": 56,
     "metadata": {},
     "output_type": "execute_result"
    }
   ],
   "source": [
    "f1['price'].min()"
   ]
  },
  {
   "cell_type": "code",
   "execution_count": 57,
   "metadata": {},
   "outputs": [
    {
     "data": {
      "text/plain": [
       "1017936.0"
      ]
     },
     "execution_count": 57,
     "metadata": {},
     "output_type": "execute_result"
    }
   ],
   "source": [
    "f1['mileage'].max()"
   ]
  },
  {
   "cell_type": "code",
   "execution_count": 60,
   "metadata": {},
   "outputs": [
    {
     "data": {
      "text/plain": [
       "Unnamed: 0    0\n",
       "price         0\n",
       "brand         0\n",
       "model         0\n",
       "year          0\n",
       "mileage       0\n",
       "condition     0\n",
       "dtype: int64"
      ]
     },
     "execution_count": 60,
     "metadata": {},
     "output_type": "execute_result"
    }
   ],
   "source": [
    "f1.isnull().sum()"
   ]
  },
  {
   "cell_type": "code",
   "execution_count": 67,
   "metadata": {},
   "outputs": [
    {
     "ename": "SyntaxError",
     "evalue": "invalid syntax (<ipython-input-67-67028b22673c>, line 1)",
     "output_type": "error",
     "traceback": [
      "\u001b[1;36m  File \u001b[1;32m\"<ipython-input-67-67028b22673c>\"\u001b[1;36m, line \u001b[1;32m1\u001b[0m\n\u001b[1;33m    sns.heatmap[f1.isnull(), yticklabels=False, annot=True]\u001b[0m\n\u001b[1;37m                                        ^\u001b[0m\n\u001b[1;31mSyntaxError\u001b[0m\u001b[1;31m:\u001b[0m invalid syntax\n"
     ]
    }
   ],
   "source": [
    "sns.heatmap[f1.isnull(), yticklabels=False, annot=True]"
   ]
  },
  {
   "cell_type": "code",
   "execution_count": 68,
   "metadata": {},
   "outputs": [
    {
     "name": "stderr",
     "output_type": "stream",
     "text": [
      "D:\\New folder (2)\\lib\\site-packages\\seaborn\\_decorators.py:36: FutureWarning: Pass the following variables as keyword args: x, y. From version 0.12, the only valid positional argument will be `data`, and passing other arguments without an explicit keyword will result in an error or misinterpretation.\n",
      "  warnings.warn(\n"
     ]
    },
    {
     "data": {
      "text/plain": [
       "<AxesSubplot:xlabel='price', ylabel='mileage'>"
      ]
     },
     "execution_count": 68,
     "metadata": {},
     "output_type": "execute_result"
    },
    {
     "data": {
      "image/png": "[encoded data removed]",
      "text/plain": [
       "<Figure size 432x288 with 1 Axes>"
      ]
     },
     "metadata": {
      "needs_background": "light"
     },
     "output_type": "display_data"
    }
   ],
   "source": [
    "sns.barplot(f1['price'],f1['mileage'])"
   ]
  },
  {
   "cell_type": "code",
   "execution_count": 144,
   "metadata": {},
   "outputs": [
    {
     "data": {
      "text/plain": [
       "price\n",
       "0        177226.860465\n",
       "25       162573.166667\n",
       "50       172102.000000\n",
       "75       189101.333333\n",
       "100           0.000000\n",
       "             ...      \n",
       "65500      6500.000000\n",
       "67000     10944.000000\n",
       "70000      9643.000000\n",
       "74000     10536.000000\n",
       "84900     25302.000000\n",
       "Name: mileage, Length: 790, dtype: float64"
      ]
     },
     "execution_count": 144,
     "metadata": {},
     "output_type": "execute_result"
    }
   ],
   "source": [
    "f1.groupby('price')['mileage'].mean()"
   ]
  },
  {
   "cell_type": "code",
   "execution_count": 145,
   "metadata": {},
   "outputs": [],
   "source": [
    "f2=f1.groupby('price')"
   ]
  },
  {
   "cell_type": "code",
   "execution_count": 147,
   "metadata": {},
   "outputs": [
    {
     "data": {
      "text/plain": [
       "<pandas.core.groupby.generic.DataFrameGroupBy object at 0x00000292B839A730>"
      ]
     },
     "execution_count": 147,
     "metadata": {},
     "output_type": "execute_result"
    }
   ],
   "source": [
    "f2"
   ]
  },
  {
   "cell_type": "code",
   "execution_count": 79,
   "metadata": {},
   "outputs": [
    {
     "data": {
      "text/plain": [
       "price\n",
       "65500     6500.0\n",
       "67000    10944.0\n",
       "70000     9643.0\n",
       "74000    10536.0\n",
       "84900    25302.0\n",
       "Name: mileage, dtype: float64"
      ]
     },
     "execution_count": 79,
     "metadata": {},
     "output_type": "execute_result"
    }
   ],
   "source": [
    "f2.tail()"
   ]
  },
  {
   "cell_type": "code",
   "execution_count": 94,
   "metadata": {},
   "outputs": [
    {
     "data": {
      "text/plain": [
       "count       790.000000\n",
       "mean      52594.950043\n",
       "std       57603.018188\n",
       "min           0.000000\n",
       "25%       25090.700000\n",
       "50%       37903.346154\n",
       "75%       62203.500000\n",
       "max      902041.000000\n",
       "Name: mileage, dtype: float64"
      ]
     },
     "execution_count": 94,
     "metadata": {},
     "output_type": "execute_result"
    }
   ],
   "source": [
    "f2.describe()"
   ]
  },
  {
   "cell_type": "code",
   "execution_count": 96,
   "metadata": {},
   "outputs": [
    {
     "data": {
      "text/plain": [
       "(790,)"
      ]
     },
     "execution_count": 96,
     "metadata": {},
     "output_type": "execute_result"
    }
   ],
   "source": [
    "f2.shape"
   ]
  },
  {
   "cell_type": "code",
   "execution_count": 97,
   "metadata": {},
   "outputs": [
    {
     "data": {
      "text/html": [
       "<div>\n",
       "<style scoped>\n",
       "    .dataframe tbody tr th:only-of-type {\n",
       "        vertical-align: middle;\n",
       "    }\n",
       "\n",
       "    .dataframe tbody tr th {\n",
       "        vertical-align: top;\n",
       "    }\n",
       "\n",
       "    .dataframe thead th {\n",
       "        text-align: right;\n",
       "    }\n",
       "</style>\n",
       "<table border=\"1\" class=\"dataframe\">\n",
       "  <thead>\n",
       "    <tr style=\"text-align: right;\">\n",
       "      <th></th>\n",
       "      <th>Unnamed: 0</th>\n",
       "      <th>price</th>\n",
       "      <th>brand</th>\n",
       "      <th>model</th>\n",
       "      <th>year</th>\n",
       "      <th>mileage</th>\n",
       "      <th>condition</th>\n",
       "    </tr>\n",
       "  </thead>\n",
       "  <tbody>\n",
       "    <tr>\n",
       "      <th>0</th>\n",
       "      <td>0</td>\n",
       "      <td>6300</td>\n",
       "      <td>toyota</td>\n",
       "      <td>cruiser</td>\n",
       "      <td>2008</td>\n",
       "      <td>274117.0</td>\n",
       "      <td>10 days left</td>\n",
       "    </tr>\n",
       "    <tr>\n",
       "      <th>1</th>\n",
       "      <td>1</td>\n",
       "      <td>2899</td>\n",
       "      <td>ford</td>\n",
       "      <td>se</td>\n",
       "      <td>2011</td>\n",
       "      <td>190552.0</td>\n",
       "      <td>6 days left</td>\n",
       "    </tr>\n",
       "    <tr>\n",
       "      <th>2</th>\n",
       "      <td>2</td>\n",
       "      <td>5350</td>\n",
       "      <td>dodge</td>\n",
       "      <td>mpv</td>\n",
       "      <td>2018</td>\n",
       "      <td>39590.0</td>\n",
       "      <td>2 days left</td>\n",
       "    </tr>\n",
       "    <tr>\n",
       "      <th>3</th>\n",
       "      <td>3</td>\n",
       "      <td>25000</td>\n",
       "      <td>ford</td>\n",
       "      <td>door</td>\n",
       "      <td>2014</td>\n",
       "      <td>64146.0</td>\n",
       "      <td>22 hours left</td>\n",
       "    </tr>\n",
       "    <tr>\n",
       "      <th>4</th>\n",
       "      <td>4</td>\n",
       "      <td>27700</td>\n",
       "      <td>chevrolet</td>\n",
       "      <td>1500</td>\n",
       "      <td>2018</td>\n",
       "      <td>6654.0</td>\n",
       "      <td>22 hours left</td>\n",
       "    </tr>\n",
       "  </tbody>\n",
       "</table>\n",
       "</div>"
      ],
      "text/plain": [
       "   Unnamed: 0  price      brand    model  year   mileage      condition\n",
       "0           0   6300     toyota  cruiser  2008  274117.0   10 days left\n",
       "1           1   2899       ford       se  2011  190552.0    6 days left\n",
       "2           2   5350      dodge      mpv  2018   39590.0    2 days left\n",
       "3           3  25000       ford     door  2014   64146.0  22 hours left\n",
       "4           4  27700  chevrolet     1500  2018    6654.0  22 hours left"
      ]
     },
     "execution_count": 97,
     "metadata": {},
     "output_type": "execute_result"
    }
   ],
   "source": [
    "f1.head()"
   ]
  },
  {
   "cell_type": "code",
   "execution_count": 99,
   "metadata": {},
   "outputs": [
    {
     "name": "stdout",
     "output_type": "stream",
     "text": [
      "<class 'pandas.core.frame.DataFrame'>\n",
      "RangeIndex: 2499 entries, 0 to 2498\n",
      "Data columns (total 7 columns):\n",
      " #   Column      Non-Null Count  Dtype  \n",
      "---  ------      --------------  -----  \n",
      " 0   Unnamed: 0  2499 non-null   int64  \n",
      " 1   price       2499 non-null   int64  \n",
      " 2   brand       2499 non-null   object \n",
      " 3   model       2499 non-null   object \n",
      " 4   year        2499 non-null   int64  \n",
      " 5   mileage     2499 non-null   float64\n",
      " 6   condition   2499 non-null   object \n",
      "dtypes: float64(1), int64(3), object(3)\n",
      "memory usage: 136.8+ KB\n"
     ]
    }
   ],
   "source": [
    "f1.info()"
   ]
  },
  {
   "cell_type": "code",
   "execution_count": null,
   "metadata": {},
   "outputs": [],
   "source": [
    "# Making a list of missing value types\n",
    "missing_values = [\"n/a\", \"na\", \"--\"]\n",
    "df = pd.read_csv(\"property data.csv\", na_values = missing_values)"
   ]
  },
  {
   "cell_type": "code",
   "execution_count": null,
   "metadata": {},
   "outputs": [],
   "source": [
    "ax = plt.subplots()\n",
    "\n",
    "# scatter the sepal_length against the sepal_width\n",
    "ax.scatter(iris['sepal_length'], iris['sepal_width'])\n",
    "# set a title and labels\n",
    "ax.set_title('Iris Dataset')\n",
    "ax.set_xlabel('sepal_length')\n",
    "ax.set_ylabel('sepal_width')"
   ]
  },
  {
   "cell_type": "code",
   "execution_count": 142,
   "metadata": {},
   "outputs": [
    {
     "name": "stderr",
     "output_type": "stream",
     "text": [
      "D:\\New folder (2)\\lib\\site-packages\\seaborn\\_decorators.py:36: FutureWarning: Pass the following variables as keyword args: x, y. From version 0.12, the only valid positional argument will be `data`, and passing other arguments without an explicit keyword will result in an error or misinterpretation.\n",
      "  warnings.warn(\n"
     ]
    },
    {
     "data": {
      "text/plain": [
       "<AxesSubplot:xlabel='price', ylabel='mileage'>"
      ]
     },
     "execution_count": 142,
     "metadata": {},
     "output_type": "execute_result"
    },
    {
     "data": {
      "image/png": "[encoded data removed]",
      "text/plain": [
       "<Figure size 432x288 with 1 Axes>"
      ]
     },
     "metadata": {
      "needs_background": "light"
     },
     "output_type": "display_data"
    }
   ],
   "source": [
    "sns.lineplot(f1['price'],f1['mileage'])"
   ]
  },
  {
   "cell_type": "code",
   "execution_count": null,
   "metadata": {},
   "outputs": [],
   "source": []
  }
 ],
 "metadata": {
  "kernelspec": {
   "display_name": "Python 3",
   "language": "python",
   "name": "python3"
  },
  "language_info": {
   "codemirror_mode": {
    "name": "ipython",
    "version": 3
   },
   "file_extension": ".py",
   "mimetype": "text/x-python",
   "name": "python",
   "nbconvert_exporter": "python",
   "pygments_lexer": "ipython3",
   "version": "3.8.5"
  }
 },
 "nbformat": 4,
 "nbformat_minor": 4
}
